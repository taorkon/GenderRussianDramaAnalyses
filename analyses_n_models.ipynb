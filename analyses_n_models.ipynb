{
 "cells": [
  {
   "cell_type": "code",
   "execution_count": 1,
   "metadata": {},
   "outputs": [],
   "source": [
    "import os\n",
    "import urllib3 \n",
    "import json\n",
    "import requests\n",
    "import pandas as pd\n",
    "import numpy as np\n",
    "from pymystem3 import Mystem\n",
    "from nltk import bigrams, trigrams\n",
    "import io\n",
    "import re\n",
    "import seaborn as sns\n",
    "import matplotlib.pyplot as plt"
   ]
  },
  {
   "cell_type": "markdown",
   "metadata": {},
   "source": [
    "ideas: \n",
    "    average(mode?) num of words pro character, graph"
   ]
  },
  {
   "cell_type": "markdown",
   "metadata": {},
   "source": [
    "# 1. GETTING TO KNOW THE DATA"
   ]
  },
  {
   "cell_type": "markdown",
   "metadata": {},
   "source": [
    "### 1.1. Get the Data"
   ]
  },
  {
   "cell_type": "markdown",
   "metadata": {},
   "source": [
    "Скачать данные о русском корпусе, достать оттуда список названий пьес."
   ]
  },
  {
   "cell_type": "code",
   "execution_count": 2,
   "metadata": {},
   "outputs": [],
   "source": [
    "js_plays = requests.get('https://dracor.org/api/corpora/rus').json()\n",
    "idx_plays = [x['name'] for x in js_plays['dramas']]"
   ]
  },
  {
   "cell_type": "markdown",
   "metadata": {},
   "source": [
    "С помощью списка пьес выкачиваем все данные о речи персонажей (по пьесам) и кладем в общийсловарь data."
   ]
  },
  {
   "cell_type": "code",
   "execution_count": 3,
   "metadata": {},
   "outputs": [],
   "source": [
    "urllib3.disable_warnings()\n",
    "http = urllib3.PoolManager()"
   ]
  },
  {
   "cell_type": "code",
   "execution_count": 4,
   "metadata": {},
   "outputs": [],
   "source": [
    "data = []\n",
    "for play_name in idx_plays:\n",
    "    play = http.request('GET', 'https://dracor.org/api/corpora/rus/play/' + play_name +  '/spoken-text-by-character')\n",
    "    #play = requests.get('https://dracor.org/api/corpora/ger/play/' + play_name + '/spoken-text-by-character').json()\n",
    "    df = pd.read_csv(io.StringIO(play.data.decode('UTF-8')))\n",
    "    #df.head()\n",
    "    #break\n",
    "    \n",
    "    name = (play_name + \" \") * len(df)\n",
    "    name = name.split()\n",
    "    df[\"play_name\"] = name\n",
    "    \n",
    "    data.append(df)"
   ]
  },
  {
   "cell_type": "code",
   "execution_count": 5,
   "metadata": {},
   "outputs": [],
   "source": [
    "full_df = pd.concat(data)"
   ]
  },
  {
   "cell_type": "markdown",
   "metadata": {},
   "source": [
    "Сбрасываем индекс, чтобы он соответствовал действительности. Оставляем только те строки, в которых тип - персона. Удаляем ненужные столбцы Лэйбл и Тип. Оставляем только те строчки, где гендер жеский или мужской. Меняем женский на 1 и мужской на 0."
   ]
  },
  {
   "cell_type": "code",
   "execution_count": 54,
   "metadata": {
    "scrolled": true
   },
   "outputs": [
    {
     "data": {
      "text/html": [
       "<div>\n",
       "<style scoped>\n",
       "    .dataframe tbody tr th:only-of-type {\n",
       "        vertical-align: middle;\n",
       "    }\n",
       "\n",
       "    .dataframe tbody tr th {\n",
       "        vertical-align: top;\n",
       "    }\n",
       "\n",
       "    .dataframe thead th {\n",
       "        text-align: right;\n",
       "    }\n",
       "</style>\n",
       "<table border=\"1\" class=\"dataframe\">\n",
       "  <thead>\n",
       "    <tr style=\"text-align: right;\">\n",
       "      <th></th>\n",
       "      <th>ID</th>\n",
       "      <th>Gender</th>\n",
       "      <th>Text</th>\n",
       "      <th>play_name</th>\n",
       "    </tr>\n",
       "  </thead>\n",
       "  <tbody>\n",
       "    <tr>\n",
       "      <th>0</th>\n",
       "      <td>yakov</td>\n",
       "      <td>0</td>\n",
       "      <td>Что задумались, Василиса Петровна? Я пришел.\\n...</td>\n",
       "      <td>andreyev-ne-ubiy</td>\n",
       "    </tr>\n",
       "    <tr>\n",
       "      <th>1</th>\n",
       "      <td>vasilisa_petrovna</td>\n",
       "      <td>1</td>\n",
       "      <td>Да вот думаю все.\\nХолодно. Да, вот думаю все....</td>\n",
       "      <td>andreyev-ne-ubiy</td>\n",
       "    </tr>\n",
       "    <tr>\n",
       "      <th>2</th>\n",
       "      <td>kulabukhov</td>\n",
       "      <td>0</td>\n",
       "      <td>Ага! Так, так! Салон и разговоры, свет и общес...</td>\n",
       "      <td>andreyev-ne-ubiy</td>\n",
       "    </tr>\n",
       "    <tr>\n",
       "      <th>3</th>\n",
       "      <td>margarita</td>\n",
       "      <td>1</td>\n",
       "      <td>Вот и я к вам. Да милая ж вы моя Василиса Петр...</td>\n",
       "      <td>andreyev-ne-ubiy</td>\n",
       "    </tr>\n",
       "    <tr>\n",
       "      <th>4</th>\n",
       "      <td>feofan</td>\n",
       "      <td>0</td>\n",
       "      <td>Мир вам, братие и сестры. Где тут сидение покр...</td>\n",
       "      <td>andreyev-ne-ubiy</td>\n",
       "    </tr>\n",
       "  </tbody>\n",
       "</table>\n",
       "</div>"
      ],
      "text/plain": [
       "                  ID  Gender  \\\n",
       "0              yakov       0   \n",
       "1  vasilisa_petrovna       1   \n",
       "2         kulabukhov       0   \n",
       "3          margarita       1   \n",
       "4             feofan       0   \n",
       "\n",
       "                                                Text         play_name  \n",
       "0  Что задумались, Василиса Петровна? Я пришел.\\n...  andreyev-ne-ubiy  \n",
       "1  Да вот думаю все.\\nХолодно. Да, вот думаю все....  andreyev-ne-ubiy  \n",
       "2  Ага! Так, так! Салон и разговоры, свет и общес...  andreyev-ne-ubiy  \n",
       "3  Вот и я к вам. Да милая ж вы моя Василиса Петр...  andreyev-ne-ubiy  \n",
       "4  Мир вам, братие и сестры. Где тут сидение покр...  andreyev-ne-ubiy  "
      ]
     },
     "execution_count": 54,
     "metadata": {},
     "output_type": "execute_result"
    }
   ],
   "source": [
    "full_df[full_df['Type']=='person']                               # leave only those with Type = person\n",
    "full_df = full_df.drop(['Label', 'Type'], axis=1)                # delete useless columns\n",
    "full_df = full_df.query(\"Gender in ['MALE', 'FEMALE']\")          # leave only Males and Females\n",
    "full_df['Gender'] = pd.get_dummies(full_df['Gender'])['FEMALE']  # change Male and Female to 0 and 1 corr\n",
    "full_df.reset_index(drop=True, inplace=True)                     # reset index to match the real nuber of rows\n",
    "full_df.head()"
   ]
  },
  {
   "cell_type": "code",
   "execution_count": null,
   "metadata": {},
   "outputs": [],
   "source": []
  },
  {
   "cell_type": "markdown",
   "metadata": {},
   "source": [
    "Чистка. Замена переноса строки на пробел, удаление чего-то, удаление некириллических символов (в т.ч. пунктуации). Сохраняем в отдельую колонку"
   ]
  },
  {
   "cell_type": "code",
   "execution_count": 7,
   "metadata": {},
   "outputs": [],
   "source": [
    "full_df['t_clean'] = full_df['Text'].apply(\n",
    "    lambda x: re.sub(r'[^А-Яа-я\\ ]', '', re.sub(r'[-\\ ]+', r'\\ ', re.sub('\\n', ' ', x)).lower()))\n"
   ]
  },
  {
   "cell_type": "code",
   "execution_count": 8,
   "metadata": {},
   "outputs": [
    {
     "data": {
      "text/html": [
       "<div>\n",
       "<style scoped>\n",
       "    .dataframe tbody tr th:only-of-type {\n",
       "        vertical-align: middle;\n",
       "    }\n",
       "\n",
       "    .dataframe tbody tr th {\n",
       "        vertical-align: top;\n",
       "    }\n",
       "\n",
       "    .dataframe thead th {\n",
       "        text-align: right;\n",
       "    }\n",
       "</style>\n",
       "<table border=\"1\" class=\"dataframe\">\n",
       "  <thead>\n",
       "    <tr style=\"text-align: right;\">\n",
       "      <th></th>\n",
       "      <th>ID</th>\n",
       "      <th>Gender</th>\n",
       "      <th>Text</th>\n",
       "      <th>t_clean</th>\n",
       "    </tr>\n",
       "  </thead>\n",
       "  <tbody>\n",
       "    <tr>\n",
       "      <th>0</th>\n",
       "      <td>inna_aleksandrovna</td>\n",
       "      <td>1</td>\n",
       "      <td>Звонит, звонит, а все без толку. За четыре дня...</td>\n",
       "      <td>звонит звонит а все без толку за четыре дня хо...</td>\n",
       "    </tr>\n",
       "    <tr>\n",
       "      <th>1</th>\n",
       "      <td>petja</td>\n",
       "      <td>0</td>\n",
       "      <td>А кому прийти? Кто пойдет сюда?\\nНе до того им...</td>\n",
       "      <td>а кому прийти кто пойдет сюда не до того им чт...</td>\n",
       "    </tr>\n",
       "    <tr>\n",
       "      <th>2</th>\n",
       "      <td>zhitov</td>\n",
       "      <td>0</td>\n",
       "      <td>Да, положение затруднительное. Дороги нет - ка...</td>\n",
       "      <td>да положение затруднительное дороги нет как в ...</td>\n",
       "    </tr>\n",
       "    <tr>\n",
       "      <th>3</th>\n",
       "      <td>lunts</td>\n",
       "      <td>0</td>\n",
       "      <td>не отвечает, ходит.\\nОткуда же я могу услышать...</td>\n",
       "      <td>не отвечает ходит откуда же я могу услышать ка...</td>\n",
       "    </tr>\n",
       "    <tr>\n",
       "      <th>4</th>\n",
       "      <td>minna</td>\n",
       "      <td>1</td>\n",
       "      <td>Никого нет.</td>\n",
       "      <td>никого нет</td>\n",
       "    </tr>\n",
       "  </tbody>\n",
       "</table>\n",
       "</div>"
      ],
      "text/plain": [
       "                   ID  Gender  \\\n",
       "0  inna_aleksandrovna       1   \n",
       "1               petja       0   \n",
       "2              zhitov       0   \n",
       "3               lunts       0   \n",
       "4               minna       1   \n",
       "\n",
       "                                                Text  \\\n",
       "0  Звонит, звонит, а все без толку. За четыре дня...   \n",
       "1  А кому прийти? Кто пойдет сюда?\\nНе до того им...   \n",
       "2  Да, положение затруднительное. Дороги нет - ка...   \n",
       "3  не отвечает, ходит.\\nОткуда же я могу услышать...   \n",
       "4                                        Никого нет.   \n",
       "\n",
       "                                             t_clean  \n",
       "0  звонит звонит а все без толку за четыре дня хо...  \n",
       "1  а кому прийти кто пойдет сюда не до того им чт...  \n",
       "2  да положение затруднительное дороги нет как в ...  \n",
       "3  не отвечает ходит откуда же я могу услышать ка...  \n",
       "4                                         никого нет  "
      ]
     },
     "execution_count": 8,
     "metadata": {},
     "output_type": "execute_result"
    }
   ],
   "source": [
    "full_df.head()"
   ]
  },
  {
   "cell_type": "markdown",
   "metadata": {},
   "source": [
    "### 1.2. Number of words pro person"
   ]
  },
  {
   "cell_type": "markdown",
   "metadata": {},
   "source": [
    "Create a column to save number of words in each row. The objective is to count the average number of words pro female and pro male characters."
   ]
  },
  {
   "cell_type": "code",
   "execution_count": 9,
   "metadata": {},
   "outputs": [],
   "source": [
    "full_df['clean_len'] = full_df['t_clean'].apply(lambda x: len(x.split()))"
   ]
  },
  {
   "cell_type": "code",
   "execution_count": 10,
   "metadata": {},
   "outputs": [
    {
     "data": {
      "text/html": [
       "<div>\n",
       "<style scoped>\n",
       "    .dataframe tbody tr th:only-of-type {\n",
       "        vertical-align: middle;\n",
       "    }\n",
       "\n",
       "    .dataframe tbody tr th {\n",
       "        vertical-align: top;\n",
       "    }\n",
       "\n",
       "    .dataframe thead th {\n",
       "        text-align: right;\n",
       "    }\n",
       "</style>\n",
       "<table border=\"1\" class=\"dataframe\">\n",
       "  <thead>\n",
       "    <tr style=\"text-align: right;\">\n",
       "      <th></th>\n",
       "      <th>ID</th>\n",
       "      <th>Gender</th>\n",
       "      <th>Text</th>\n",
       "      <th>t_clean</th>\n",
       "      <th>clean_len</th>\n",
       "    </tr>\n",
       "  </thead>\n",
       "  <tbody>\n",
       "    <tr>\n",
       "      <th>0</th>\n",
       "      <td>inna_aleksandrovna</td>\n",
       "      <td>1</td>\n",
       "      <td>Звонит, звонит, а все без толку. За четыре дня...</td>\n",
       "      <td>звонит звонит а все без толку за четыре дня хо...</td>\n",
       "      <td>2156</td>\n",
       "    </tr>\n",
       "    <tr>\n",
       "      <th>1</th>\n",
       "      <td>petja</td>\n",
       "      <td>0</td>\n",
       "      <td>А кому прийти? Кто пойдет сюда?\\nНе до того им...</td>\n",
       "      <td>а кому прийти кто пойдет сюда не до того им чт...</td>\n",
       "      <td>923</td>\n",
       "    </tr>\n",
       "    <tr>\n",
       "      <th>2</th>\n",
       "      <td>zhitov</td>\n",
       "      <td>0</td>\n",
       "      <td>Да, положение затруднительное. Дороги нет - ка...</td>\n",
       "      <td>да положение затруднительное дороги нет как в ...</td>\n",
       "      <td>815</td>\n",
       "    </tr>\n",
       "    <tr>\n",
       "      <th>3</th>\n",
       "      <td>lunts</td>\n",
       "      <td>0</td>\n",
       "      <td>не отвечает, ходит.\\nОткуда же я могу услышать...</td>\n",
       "      <td>не отвечает ходит откуда же я могу услышать ка...</td>\n",
       "      <td>1335</td>\n",
       "    </tr>\n",
       "    <tr>\n",
       "      <th>4</th>\n",
       "      <td>minna</td>\n",
       "      <td>1</td>\n",
       "      <td>Никого нет.</td>\n",
       "      <td>никого нет</td>\n",
       "      <td>2</td>\n",
       "    </tr>\n",
       "  </tbody>\n",
       "</table>\n",
       "</div>"
      ],
      "text/plain": [
       "                   ID  Gender  \\\n",
       "0  inna_aleksandrovna       1   \n",
       "1               petja       0   \n",
       "2              zhitov       0   \n",
       "3               lunts       0   \n",
       "4               minna       1   \n",
       "\n",
       "                                                Text  \\\n",
       "0  Звонит, звонит, а все без толку. За четыре дня...   \n",
       "1  А кому прийти? Кто пойдет сюда?\\nНе до того им...   \n",
       "2  Да, положение затруднительное. Дороги нет - ка...   \n",
       "3  не отвечает, ходит.\\nОткуда же я могу услышать...   \n",
       "4                                        Никого нет.   \n",
       "\n",
       "                                             t_clean  clean_len  \n",
       "0  звонит звонит а все без толку за четыре дня хо...       2156  \n",
       "1  а кому прийти кто пойдет сюда не до того им чт...        923  \n",
       "2  да положение затруднительное дороги нет как в ...        815  \n",
       "3  не отвечает ходит откуда же я могу услышать ка...       1335  \n",
       "4                                         никого нет          2  "
      ]
     },
     "execution_count": 10,
     "metadata": {},
     "output_type": "execute_result"
    }
   ],
   "source": [
    "full_df.head()"
   ]
  },
  {
   "cell_type": "markdown",
   "metadata": {},
   "source": [
    "New DFs based on gender info"
   ]
  },
  {
   "cell_type": "code",
   "execution_count": 11,
   "metadata": {},
   "outputs": [],
   "source": [
    "df_fem = full_df.query('Gender == 1').reset_index(drop=True)\n",
    "\n",
    "df_male = full_df.query('Gender == 0').reset_index(drop=True)"
   ]
  },
  {
   "cell_type": "markdown",
   "metadata": {},
   "source": [
    "Count number of words pro character for males and females"
   ]
  },
  {
   "cell_type": "code",
   "execution_count": 12,
   "metadata": {},
   "outputs": [],
   "source": [
    "male_words_count = sum(df_male['clean_len'])\n",
    "\n",
    "fem_words_count = sum(df_fem['clean_len'])\n",
    "\n",
    "fem_num = len(df_fem)\n",
    "\n",
    "male_num = len(df_male)\n",
    "\n",
    "words_pro_fem = fem_words_count//fem_num\n",
    "\n",
    "words_pro_male = male_words_count//male_num"
   ]
  },
  {
   "cell_type": "code",
   "execution_count": 38,
   "metadata": {},
   "outputs": [],
   "source": [
    "words_pro_mf = [words_pro_fem, words_pro_male]"
   ]
  },
  {
   "cell_type": "code",
   "execution_count": 39,
   "metadata": {},
   "outputs": [
    {
     "data": {
      "image/png": "[encoded data removed]",
      "text/plain": [
       "<Figure size 432x288 with 1 Axes>"
      ]
     },
     "metadata": {},
     "output_type": "display_data"
    }
   ],
   "source": [
    "bars = ('Words pro Fem', 'Words pro Male')\n",
    "y_pos = np.arange(len(bars))\n",
    "\n",
    "plt.grid(axis='y', alpha=0.75)\n",
    "plt.bar(y_pos, height=words_pro_mf, color=['grey', 'red'])\n",
    "plt.xticks(y_pos, bars)\n",
    "plt.title('Number of words pro male and female character')\n",
    "plt.show()"
   ]
  },
  {
   "cell_type": "code",
   "execution_count": 40,
   "metadata": {},
   "outputs": [],
   "source": [
    "total_mf_words = [fem_words_count, male_words_count]"
   ]
  },
  {
   "cell_type": "code",
   "execution_count": 41,
   "metadata": {},
   "outputs": [
    {
     "data": {
      "image/png": "[encoded data removed]",
      "text/plain": [
       "<Figure size 432x288 with 1 Axes>"
      ]
     },
     "metadata": {},
     "output_type": "display_data"
    }
   ],
   "source": [
    "bars = ('Fem Words', 'Male Words')\n",
    "y_pos = np.arange(len(bars))\n",
    "\n",
    "plt.grid(axis='y', alpha=0.75)\n",
    "plt.bar(y_pos, height=total_mf_words, color=['grey', 'red'])\n",
    "plt.xticks(y_pos, bars)\n",
    "plt.title('Total Number of Male and Female Words')\n",
    "plt.show()"
   ]
  },
  {
   "cell_type": "code",
   "execution_count": 42,
   "metadata": {},
   "outputs": [
    {
     "data": {
      "image/png": "[encoded data removed]",
      "text/plain": [
       "<Figure size 432x288 with 1 Axes>"
      ]
     },
     "metadata": {},
     "output_type": "display_data"
    }
   ],
   "source": [
    "bars = ('Fem', 'Male')\n",
    "y_pos = np.arange(len(bars))\n",
    "\n",
    "plt.grid(axis='y', alpha=0.75)\n",
    "plt.bar(y_pos, height=[fem_num, male_num], color=['grey', 'red'])\n",
    "plt.xticks(y_pos, bars)\n",
    "plt.title('Total Number of Male and Female Characters')\n",
    "plt.show()"
   ]
  },
  {
   "cell_type": "markdown",
   "metadata": {},
   "source": [
    "### 1.3 Words by Character Hist"
   ]
  },
  {
   "cell_type": "code",
   "execution_count": 15,
   "metadata": {},
   "outputs": [],
   "source": [
    "hist, bin_edges = np.histogram(full_df['clean_len'])"
   ]
  },
  {
   "cell_type": "code",
   "execution_count": 25,
   "metadata": {},
   "outputs": [],
   "source": [
    "bins_num = len(full_df['clean_len'])//100\n",
    "data_h = full_df['clean_len']"
   ]
  },
  {
   "cell_type": "code",
   "execution_count": 27,
   "metadata": {},
   "outputs": [
    {
     "data": {
      "text/plain": [
       "34"
      ]
     },
     "execution_count": 27,
     "metadata": {},
     "output_type": "execute_result"
    }
   ],
   "source": [
    "bins_num"
   ]
  },
  {
   "cell_type": "code",
   "execution_count": 28,
   "metadata": {},
   "outputs": [
    {
     "data": {
      "text/plain": [
       "Text(0.5, 1.0, 'Number of Words pro Character Histogram')"
      ]
     },
     "execution_count": 28,
     "metadata": {},
     "output_type": "execute_result"
    },
    {
     "data": {
      "image/png": "[encoded data removed]",
      "text/plain": [
       "<Figure size 432x288 with 1 Axes>"
      ]
     },
     "metadata": {},
     "output_type": "display_data"
    }
   ],
   "source": [
    "plt.hist(data_h, bins=bins_num, density=True, alpha=0.5,\n",
    "         histtype='stepfilled', color='steelblue',\n",
    "         edgecolor='none')\n",
    "\n",
    "plt.grid(axis='y', alpha=0.75)\n",
    "plt.xlabel('Number of Words')\n",
    "plt.ylabel('Frequency')\n",
    "plt.title('Number of Words pro Character Histogram')"
   ]
  },
  {
   "cell_type": "code",
   "execution_count": 30,
   "metadata": {},
   "outputs": [],
   "source": [
    "male_words_h = df_male['clean_len']\n",
    "fem_words_h = df_fem['clean_len']"
   ]
  },
  {
   "cell_type": "code",
   "execution_count": 44,
   "metadata": {},
   "outputs": [
    {
     "data": {
      "text/plain": [
       "Text(0.5, 1.0, 'Number of Words pro Male vs Female Character Histogram')"
      ]
     },
     "execution_count": 44,
     "metadata": {},
     "output_type": "execute_result"
    },
    {
     "data": {
      "image/png": "[encoded data removed]",
      "text/plain": [
       "<Figure size 432x288 with 1 Axes>"
      ]
     },
     "metadata": {},
     "output_type": "display_data"
    }
   ],
   "source": [
    "kwargs = dict(histtype='stepfilled', alpha=0.3, density=True, bins=bins_num)\n",
    "\n",
    "plt.hist(male_words_h,color='red', **kwargs)\n",
    "plt.hist(fem_words_h,color='black', **kwargs)\n",
    "plt.grid(axis='y', alpha=0.75)\n",
    "\n",
    "plt.xlabel('Number of Words')\n",
    "plt.ylabel('Frequency')\n",
    "plt.title('Number of Words pro Male vs Female Character Histogram')"
   ]
  },
  {
   "cell_type": "markdown",
   "metadata": {},
   "source": [
    "### 1.4 Average phrase lengh"
   ]
  },
  {
   "cell_type": "markdown",
   "metadata": {},
   "source": [
    "<p>Most freq male word **нет** most freq fem word **да**.</p>\n",
    "<p>Most freq **phrase len 6**</p>\n",
    "<p>Mode and median for fem\\male **phrase len 6**</p>\n",
    "<p>Average male len **9.464965848576059**</p>\n",
    "<p>Average fem len **9.90394627756591**</p>\n",
    "<p>Max male phrase len **882**</p>\n",
    "<p>Max fem phrase len **607**</p>\n",
    "<p>Max num pro pers fem lines **1410**</p>\n",
    "<p>Max num pro pers male lines **2254**</p>\n",
    "<p>Mean num pro fem lines **86.7**</p>\n",
    "<p>Mean num pro male lines **62.96**</p>\n",
    "<p>Mode num pro fem lines **1**</p>\n",
    "<p>Mode num pro male lines **1**</p>\n",
    "<p>Median num pro fem lines **36**</p>\n",
    "<p>Median num pro male lines **18**</p>"
   ]
  },
  {
   "cell_type": "code",
   "execution_count": 6,
   "metadata": {},
   "outputs": [],
   "source": [
    "df_aphl = pd.concat(data)"
   ]
  },
  {
   "cell_type": "code",
   "execution_count": 7,
   "metadata": {},
   "outputs": [],
   "source": [
    "df_aphl[df_aphl['Type']=='person']                               # leave only those with Type = person\n",
    "df_aphl = df_aphl.drop(['Label', 'Type'], axis=1)                # delete useless columns\n",
    "df_aphl = df_aphl.query(\"Gender in ['MALE', 'FEMALE']\")          # leave only Males and Females\n",
    "df_aphl['Gender'] = pd.get_dummies(df_aphl['Gender'])['FEMALE']  # change Male and Female to 0 and 1 corr\n",
    "df_aphl.reset_index(drop=True, inplace=True)                     # reset index to match the real nuber of rows"
   ]
  },
  {
   "cell_type": "markdown",
   "metadata": {},
   "source": [
    "Make column with author name"
   ]
  },
  {
   "cell_type": "code",
   "execution_count": 8,
   "metadata": {},
   "outputs": [],
   "source": [
    "authors = []\n",
    "\n",
    "for idx, row in df_aphl.iterrows():\n",
    "    \n",
    "    pl_name = row[\"play_name\"]\n",
    "    author = pl_name.split('-')\n",
    "    authors.append(author[0])\n",
    "\n",
    "df_aphl[\"author\"] = authors"
   ]
  },
  {
   "cell_type": "code",
   "execution_count": 9,
   "metadata": {},
   "outputs": [
    {
     "data": {
      "text/html": [
       "<div>\n",
       "<style scoped>\n",
       "    .dataframe tbody tr th:only-of-type {\n",
       "        vertical-align: middle;\n",
       "    }\n",
       "\n",
       "    .dataframe tbody tr th {\n",
       "        vertical-align: top;\n",
       "    }\n",
       "\n",
       "    .dataframe thead th {\n",
       "        text-align: right;\n",
       "    }\n",
       "</style>\n",
       "<table border=\"1\" class=\"dataframe\">\n",
       "  <thead>\n",
       "    <tr style=\"text-align: right;\">\n",
       "      <th></th>\n",
       "      <th>ID</th>\n",
       "      <th>Gender</th>\n",
       "      <th>Text</th>\n",
       "      <th>play_name</th>\n",
       "      <th>author</th>\n",
       "    </tr>\n",
       "  </thead>\n",
       "  <tbody>\n",
       "    <tr>\n",
       "      <th>0</th>\n",
       "      <td>yakov</td>\n",
       "      <td>0</td>\n",
       "      <td>Что задумались, Василиса Петровна? Я пришел.\\n...</td>\n",
       "      <td>andreyev-ne-ubiy</td>\n",
       "      <td>andreyev</td>\n",
       "    </tr>\n",
       "    <tr>\n",
       "      <th>1</th>\n",
       "      <td>vasilisa_petrovna</td>\n",
       "      <td>1</td>\n",
       "      <td>Да вот думаю все.\\nХолодно. Да, вот думаю все....</td>\n",
       "      <td>andreyev-ne-ubiy</td>\n",
       "      <td>andreyev</td>\n",
       "    </tr>\n",
       "    <tr>\n",
       "      <th>2</th>\n",
       "      <td>kulabukhov</td>\n",
       "      <td>0</td>\n",
       "      <td>Ага! Так, так! Салон и разговоры, свет и общес...</td>\n",
       "      <td>andreyev-ne-ubiy</td>\n",
       "      <td>andreyev</td>\n",
       "    </tr>\n",
       "    <tr>\n",
       "      <th>3</th>\n",
       "      <td>margarita</td>\n",
       "      <td>1</td>\n",
       "      <td>Вот и я к вам. Да милая ж вы моя Василиса Петр...</td>\n",
       "      <td>andreyev-ne-ubiy</td>\n",
       "      <td>andreyev</td>\n",
       "    </tr>\n",
       "    <tr>\n",
       "      <th>4</th>\n",
       "      <td>feofan</td>\n",
       "      <td>0</td>\n",
       "      <td>Мир вам, братие и сестры. Где тут сидение покр...</td>\n",
       "      <td>andreyev-ne-ubiy</td>\n",
       "      <td>andreyev</td>\n",
       "    </tr>\n",
       "  </tbody>\n",
       "</table>\n",
       "</div>"
      ],
      "text/plain": [
       "                  ID  Gender  \\\n",
       "0              yakov       0   \n",
       "1  vasilisa_petrovna       1   \n",
       "2         kulabukhov       0   \n",
       "3          margarita       1   \n",
       "4             feofan       0   \n",
       "\n",
       "                                                Text         play_name  \\\n",
       "0  Что задумались, Василиса Петровна? Я пришел.\\n...  andreyev-ne-ubiy   \n",
       "1  Да вот думаю все.\\nХолодно. Да, вот думаю все....  andreyev-ne-ubiy   \n",
       "2  Ага! Так, так! Салон и разговоры, свет и общес...  andreyev-ne-ubiy   \n",
       "3  Вот и я к вам. Да милая ж вы моя Василиса Петр...  andreyev-ne-ubiy   \n",
       "4  Мир вам, братие и сестры. Где тут сидение покр...  andreyev-ne-ubiy   \n",
       "\n",
       "     author  \n",
       "0  andreyev  \n",
       "1  andreyev  \n",
       "2  andreyev  \n",
       "3  andreyev  \n",
       "4  andreyev  "
      ]
     },
     "execution_count": 9,
     "metadata": {},
     "output_type": "execute_result"
    }
   ],
   "source": [
    "df_aphl.head()"
   ]
  },
  {
   "cell_type": "code",
   "execution_count": 10,
   "metadata": {},
   "outputs": [],
   "source": [
    "df_set_dict = {\"ID\":[], \"Gender\":[],\"author\":[], \"play_name\":[], \"text_split\":[]}\n",
    "df_aphl_splt = pd.DataFrame(df_set_dict)"
   ]
  },
  {
   "cell_type": "code",
   "execution_count": 11,
   "metadata": {},
   "outputs": [],
   "source": [
    "for idx, row in df_aphl.iterrows():\n",
    "    aussagen = row[\"Text\"].split(\"\\n\")\n",
    "    \n",
    "    counter = len(aussagen)\n",
    "    \n",
    "    while counter > 0:\n",
    "        df_aphl_splt = df_aphl_splt.append(pd.DataFrame([{'text_split' : aussagen[len(aussagen)-counter],\n",
    "                                        'ID' : row['ID'],              \n",
    "                                        'Gender' :    row['Gender'],\n",
    "                                        \"author\": row[\"author\"],\n",
    "                                        \"play_name\": row[\"play_name\"],}]), sort=False)\n",
    "        counter = counter - 1    "
   ]
  },
  {
   "cell_type": "code",
   "execution_count": 15,
   "metadata": {},
   "outputs": [],
   "source": [
    "df_fem_aus_splt = df_aphl_splt.query('Gender == 1').reset_index(drop=True)\n",
    "df_male_aus_splt = df_aphl_splt.query('Gender == 0').reset_index(drop=True)"
   ]
  },
  {
   "cell_type": "code",
   "execution_count": 16,
   "metadata": {},
   "outputs": [],
   "source": [
    "df_fem_aus_splt[\"split_len\"] = df_fem_aus_splt[\"text_split\"].apply(lambda x: len(x.split(\" \")))\n",
    "df_male_aus_splt[\"split_len\"] = df_male_aus_splt[\"text_split\"].apply(lambda x: len(x.split(\" \")))"
   ]
  },
  {
   "cell_type": "markdown",
   "metadata": {},
   "source": [
    "#### Stats len(line) & num(lines)"
   ]
  },
  {
   "cell_type": "code",
   "execution_count": 27,
   "metadata": {},
   "outputs": [
    {
     "data": {
      "text/plain": [
       "36.0"
      ]
     },
     "execution_count": 27,
     "metadata": {},
     "output_type": "execute_result"
    }
   ],
   "source": [
    "df_fem_aus_splt['ID'].value_counts().median()"
   ]
  },
  {
   "cell_type": "code",
   "execution_count": 28,
   "metadata": {},
   "outputs": [
    {
     "data": {
      "text/plain": [
       "18.0"
      ]
     },
     "execution_count": 28,
     "metadata": {},
     "output_type": "execute_result"
    }
   ],
   "source": [
    "df_male_aus_splt['ID'].value_counts().median()"
   ]
  },
  {
   "cell_type": "code",
   "execution_count": 36,
   "metadata": {},
   "outputs": [
    {
     "data": {
      "text/plain": [
       "9.464965848576059"
      ]
     },
     "execution_count": 36,
     "metadata": {},
     "output_type": "execute_result"
    }
   ],
   "source": [
    "df_male_aus_splt[\"split_len\"].mean()"
   ]
  },
  {
   "cell_type": "code",
   "execution_count": 37,
   "metadata": {},
   "outputs": [
    {
     "data": {
      "text/plain": [
       "882"
      ]
     },
     "execution_count": 37,
     "metadata": {},
     "output_type": "execute_result"
    }
   ],
   "source": [
    "df_male_aus_splt[\"split_len\"].max()"
   ]
  },
  {
   "cell_type": "code",
   "execution_count": 38,
   "metadata": {},
   "outputs": [
    {
     "data": {
      "text/html": [
       "<div>\n",
       "<style scoped>\n",
       "    .dataframe tbody tr th:only-of-type {\n",
       "        vertical-align: middle;\n",
       "    }\n",
       "\n",
       "    .dataframe tbody tr th {\n",
       "        vertical-align: top;\n",
       "    }\n",
       "\n",
       "    .dataframe thead th {\n",
       "        text-align: right;\n",
       "    }\n",
       "</style>\n",
       "<table border=\"1\" class=\"dataframe\">\n",
       "  <thead>\n",
       "    <tr style=\"text-align: right;\">\n",
       "      <th></th>\n",
       "      <th>ID</th>\n",
       "      <th>Gender</th>\n",
       "      <th>Text</th>\n",
       "      <th>text_split</th>\n",
       "      <th>split_len</th>\n",
       "    </tr>\n",
       "  </thead>\n",
       "  <tbody>\n",
       "    <tr>\n",
       "      <th>0</th>\n",
       "      <td>boris_godunov</td>\n",
       "      <td>0.0</td>\n",
       "      <td>NaN</td>\n",
       "      <td>Нет.</td>\n",
       "      <td>6</td>\n",
       "    </tr>\n",
       "  </tbody>\n",
       "</table>\n",
       "</div>"
      ],
      "text/plain": [
       "              ID  Gender  Text text_split  split_len\n",
       "0  boris_godunov     0.0   NaN       Нет.          6"
      ]
     },
     "execution_count": 38,
     "metadata": {},
     "output_type": "execute_result"
    }
   ],
   "source": [
    "df_male_aus_splt.mode()"
   ]
  },
  {
   "cell_type": "code",
   "execution_count": 40,
   "metadata": {},
   "outputs": [
    {
     "data": {
      "text/plain": [
       "Gender       0.0\n",
       "Text         NaN\n",
       "split_len    6.0\n",
       "dtype: float64"
      ]
     },
     "execution_count": 40,
     "metadata": {},
     "output_type": "execute_result"
    }
   ],
   "source": [
    "df_male_aus_splt.median()"
   ]
  },
  {
   "cell_type": "code",
   "execution_count": 13,
   "metadata": {},
   "outputs": [
    {
     "data": {
      "text/plain": [
       "9.90394627756591"
      ]
     },
     "execution_count": 13,
     "metadata": {},
     "output_type": "execute_result"
    }
   ],
   "source": [
    "df_fem_aus_splt[\"split_len\"].mean()"
   ]
  },
  {
   "cell_type": "code",
   "execution_count": 30,
   "metadata": {},
   "outputs": [
    {
     "data": {
      "text/plain": [
       "607"
      ]
     },
     "execution_count": 30,
     "metadata": {},
     "output_type": "execute_result"
    }
   ],
   "source": [
    "df_fem_aus_splt[\"split_len\"].max()"
   ]
  },
  {
   "cell_type": "code",
   "execution_count": 32,
   "metadata": {},
   "outputs": [
    {
     "data": {
      "text/html": [
       "<div>\n",
       "<style scoped>\n",
       "    .dataframe tbody tr th:only-of-type {\n",
       "        vertical-align: middle;\n",
       "    }\n",
       "\n",
       "    .dataframe tbody tr th {\n",
       "        vertical-align: top;\n",
       "    }\n",
       "\n",
       "    .dataframe thead th {\n",
       "        text-align: right;\n",
       "    }\n",
       "</style>\n",
       "<table border=\"1\" class=\"dataframe\">\n",
       "  <thead>\n",
       "    <tr style=\"text-align: right;\">\n",
       "      <th></th>\n",
       "      <th>ID</th>\n",
       "      <th>Gender</th>\n",
       "      <th>Text</th>\n",
       "      <th>text_split</th>\n",
       "      <th>split_len</th>\n",
       "    </tr>\n",
       "  </thead>\n",
       "  <tbody>\n",
       "    <tr>\n",
       "      <th>0</th>\n",
       "      <td>marina</td>\n",
       "      <td>1.0</td>\n",
       "      <td>NaN</td>\n",
       "      <td>Да.</td>\n",
       "      <td>6</td>\n",
       "    </tr>\n",
       "  </tbody>\n",
       "</table>\n",
       "</div>"
      ],
      "text/plain": [
       "       ID  Gender  Text text_split  split_len\n",
       "0  marina     1.0   NaN        Да.          6"
      ]
     },
     "execution_count": 32,
     "metadata": {},
     "output_type": "execute_result"
    }
   ],
   "source": [
    "df_fem_aus_splt.mode()"
   ]
  },
  {
   "cell_type": "code",
   "execution_count": 41,
   "metadata": {},
   "outputs": [
    {
     "data": {
      "text/plain": [
       "Gender       1.0\n",
       "Text         NaN\n",
       "split_len    6.0\n",
       "dtype: float64"
      ]
     },
     "execution_count": 41,
     "metadata": {},
     "output_type": "execute_result"
    }
   ],
   "source": [
    "df_fem_aus_splt.median()"
   ]
  },
  {
   "cell_type": "code",
   "execution_count": 16,
   "metadata": {},
   "outputs": [],
   "source": [
    "df_male_aus_splt = df_male_aus_splt.query('split_len > 0').reset_index(drop=True)"
   ]
  },
  {
   "cell_type": "code",
   "execution_count": 18,
   "metadata": {},
   "outputs": [],
   "source": [
    "data_aus_fem = df_fem_aus_splt[\"split_len\"]"
   ]
  },
  {
   "cell_type": "code",
   "execution_count": 25,
   "metadata": {},
   "outputs": [
    {
     "data": {
      "text/plain": [
       "607"
      ]
     },
     "execution_count": 25,
     "metadata": {},
     "output_type": "execute_result"
    }
   ],
   "source": [
    "df_fem_aus_splt[\"split_len\"].max()"
   ]
  },
  {
   "cell_type": "code",
   "execution_count": 27,
   "metadata": {},
   "outputs": [
    {
     "data": {
      "text/plain": [
       "0    6\n",
       "dtype: int64"
      ]
     },
     "execution_count": 27,
     "metadata": {},
     "output_type": "execute_result"
    }
   ],
   "source": [
    "df_fem_aus_splt[\"split_len\"].mode()"
   ]
  },
  {
   "cell_type": "code",
   "execution_count": 26,
   "metadata": {},
   "outputs": [
    {
     "data": {
      "text/plain": [
       "882"
      ]
     },
     "execution_count": 26,
     "metadata": {},
     "output_type": "execute_result"
    }
   ],
   "source": [
    "df_male_aus_splt[\"split_len\"].max()"
   ]
  },
  {
   "cell_type": "code",
   "execution_count": 19,
   "metadata": {},
   "outputs": [],
   "source": [
    "data_aus_fem_freq = np.array(df_fem_aus_splt[\"split_len\"].value_counts())"
   ]
  },
  {
   "cell_type": "code",
   "execution_count": 24,
   "metadata": {},
   "outputs": [
    {
     "data": {
      "text/plain": [
       "Text(0.5, 1.0, 'Number of Female Words pro Line Hist')"
      ]
     },
     "execution_count": 24,
     "metadata": {},
     "output_type": "execute_result"
    },
    {
     "data": {
      "image/png": "[encoded data removed]",
      "text/plain": [
       "<Figure size 432x288 with 1 Axes>"
      ]
     },
     "metadata": {},
     "output_type": "display_data"
    }
   ],
   "source": [
    "plt.hist(data_aus_fem, bins=50, density=True, alpha=0.5,\n",
    "         histtype='stepfilled', color='steelblue',\n",
    "         edgecolor='none')\n",
    "\n",
    "plt.grid(axis='y', alpha=0.75)\n",
    "plt.xlabel('Number of Female Words pro Line')\n",
    "plt.ylabel('Frequency')\n",
    "plt.title('Number of Female Words pro Line Hist')"
   ]
  },
  {
   "cell_type": "code",
   "execution_count": 36,
   "metadata": {},
   "outputs": [],
   "source": [
    "data_aus_male = df_male_aus_splt[\"split_len\"]"
   ]
  },
  {
   "cell_type": "code",
   "execution_count": 37,
   "metadata": {},
   "outputs": [
    {
     "data": {
      "text/plain": [
       "Text(0.5, 1.0, 'Number of Male Words pro Line Hist')"
      ]
     },
     "execution_count": 37,
     "metadata": {},
     "output_type": "execute_result"
    },
    {
     "data": {
      "image/png": "[encoded data removed]",
      "text/plain": [
       "<Figure size 432x288 with 1 Axes>"
      ]
     },
     "metadata": {},
     "output_type": "display_data"
    }
   ],
   "source": [
    "plt.hist(data_aus_male, bins=50, density=True, alpha=0.5,\n",
    "         histtype='stepfilled', color='steelblue',\n",
    "         edgecolor='none')\n",
    "\n",
    "plt.grid(axis='y', alpha=0.75)\n",
    "plt.xlabel('Number of Male Words pro Line')\n",
    "plt.ylabel('Frequency')\n",
    "plt.title('Number of Male Words pro Line Hist')"
   ]
  },
  {
   "cell_type": "markdown",
   "metadata": {},
   "source": [
    "## 1.5 Stats pro Author"
   ]
  },
  {
   "cell_type": "markdown",
   "metadata": {},
   "source": [
    "### Absolute Number of (Fe)male Lines by Author Distribution"
   ]
  },
  {
   "cell_type": "code",
   "execution_count": 38,
   "metadata": {},
   "outputs": [],
   "source": [
    "num_fem_lines_by_author_count = df_fem_aus_splt['author'].value_counts()"
   ]
  },
  {
   "cell_type": "code",
   "execution_count": 39,
   "metadata": {},
   "outputs": [
    {
     "data": {
      "text/plain": [
       "Text(0.5, 1.0, 'Absolute Number of Female Lines by Author Distribution')"
      ]
     },
     "execution_count": 39,
     "metadata": {},
     "output_type": "execute_result"
    },
    {
     "data": {
      "image/png": "[encoded data removed]",
      "text/plain": [
       "<Figure size 432x288 with 1 Axes>"
      ]
     },
     "metadata": {},
     "output_type": "display_data"
    }
   ],
   "source": [
    "plt.hist(num_fem_lines_by_author_count, bins=50, density=True, alpha=0.5,\n",
    "         histtype='stepfilled', color='steelblue',\n",
    "         edgecolor='none')\n",
    "\n",
    "plt.grid(axis='y', alpha=0.75)\n",
    "plt.xlabel('Number of Fem Lines')\n",
    "plt.ylabel('Frequency')\n",
    "plt.title('Absolute Number of Female Lines by Author Distribution')"
   ]
  },
  {
   "cell_type": "code",
   "execution_count": 36,
   "metadata": {},
   "outputs": [],
   "source": [
    "num_male_lines_by_author_count = df_male_aus_splt['author'].value_counts()"
   ]
  },
  {
   "cell_type": "code",
   "execution_count": 37,
   "metadata": {},
   "outputs": [
    {
     "data": {
      "text/plain": [
       "Text(0.5, 1.0, 'Absolute Number of Male Lines by Author Distribution')"
      ]
     },
     "execution_count": 37,
     "metadata": {},
     "output_type": "execute_result"
    },
    {
     "data": {
      "image/png": "[encoded data removed]",
      "text/plain": [
       "<Figure size 432x288 with 1 Axes>"
      ]
     },
     "metadata": {},
     "output_type": "display_data"
    }
   ],
   "source": [
    "plt.hist(num_male_lines_by_author_count, bins=50, density=True, alpha=0.5,\n",
    "         histtype='stepfilled', color='steelblue',\n",
    "         edgecolor='none')\n",
    "\n",
    "plt.grid(axis='y', alpha=0.75)\n",
    "plt.xlabel('Number of Male Lines')\n",
    "plt.ylabel('Frequency')\n",
    "plt.title('Absolute Number of Male Lines by Author Distribution')"
   ]
  },
  {
   "cell_type": "markdown",
   "metadata": {},
   "source": [
    "### Metrics by Author DataFrame"
   ]
  },
  {
   "cell_type": "code",
   "execution_count": 11,
   "metadata": {},
   "outputs": [],
   "source": [
    "author_names = df_aphl[\"author\"].unique()"
   ]
  },
  {
   "cell_type": "code",
   "execution_count": 12,
   "metadata": {},
   "outputs": [
    {
     "data": {
      "text/plain": [
       "array(['andreyev', 'artsybashev', 'afinogenov', 'babel', 'belsky', 'blok',\n",
       "       'bulgakov', 'glinka', 'gogol', 'gorky', 'griboyedov', 'gumilyov',\n",
       "       'dashkova', 'ekaterina', 'zagoskin', 'kapnist', 'kedrin',\n",
       "       'knyazhnin', 'kokoshkin', 'kropotov', 'krylov', 'lazhechnikov',\n",
       "       'lensky', 'lermontov', 'leskov', 'lomonosov', 'majkov', 'mamin',\n",
       "       'mayakovsky', 'merezhkovsky', 'naydyonov', 'nekrasov', 'nikolev',\n",
       "       'ozerov', 'ostrovsky', 'petrov', 'pisarev', 'pisemskij',\n",
       "       'plavilshchikov', 'prutkov', 'pushkin', 'rostopchina', 'saltykov',\n",
       "       'sollogub', 'sudovshchikov', 'sumarokov', 'sukhovo', 'tolstoy',\n",
       "       'tretyakov', 'turgenev', 'fonvizin', 'kheraskov', 'khlebnikov',\n",
       "       'khmelnitsky', 'chekhov', 'shakhovskoy'], dtype=object)"
      ]
     },
     "execution_count": 12,
     "metadata": {},
     "output_type": "execute_result"
    }
   ],
   "source": [
    "author_names"
   ]
  },
  {
   "cell_type": "code",
   "execution_count": 13,
   "metadata": {},
   "outputs": [],
   "source": [
    "#df_by_author_set_dict = {\"author\":[], \"num_lines\":[],:[], \"num_lines_pro_pers\":[], \"text_split\":[]}"
   ]
  },
  {
   "cell_type": "code",
   "execution_count": 14,
   "metadata": {},
   "outputs": [],
   "source": [
    "words_pro_author = {}"
   ]
  },
  {
   "cell_type": "code",
   "execution_count": 15,
   "metadata": {},
   "outputs": [],
   "source": [
    "for idx, value in df_aphl.iterrows():\n",
    "    \n",
    "    author = value['author']\n",
    "    num_of_words = len(value['Text'].split())\n",
    "    \n",
    "    if author not in words_pro_author:\n",
    "        words_pro_author[author] = num_of_words\n",
    "    \n",
    "    else:\n",
    "        words_pro_author[author] += num_of_words"
   ]
  },
  {
   "cell_type": "code",
   "execution_count": 16,
   "metadata": {},
   "outputs": [
    {
     "data": {
      "text/plain": [
       "'ostrovsky'"
      ]
     },
     "execution_count": 16,
     "metadata": {},
     "output_type": "execute_result"
    }
   ],
   "source": [
    "max(words_pro_author, key=words_pro_author.get)"
   ]
  },
  {
   "cell_type": "code",
   "execution_count": 17,
   "metadata": {},
   "outputs": [
    {
     "data": {
      "text/plain": [
       "{'andreyev': 38519,\n",
       " 'artsybashev': 15573,\n",
       " 'afinogenov': 11516,\n",
       " 'babel': 12934,\n",
       " 'belsky': 5075,\n",
       " 'blok': 7155,\n",
       " 'bulgakov': 99950,\n",
       " 'glinka': 8257,\n",
       " 'gogol': 53306,\n",
       " 'gorky': 31611,\n",
       " 'griboyedov': 17482,\n",
       " 'gumilyov': 10918,\n",
       " 'dashkova': 6461,\n",
       " 'ekaterina': 23015,\n",
       " 'zagoskin': 14137,\n",
       " 'kapnist': 24057,\n",
       " 'kedrin': 10611,\n",
       " 'knyazhnin': 86862,\n",
       " 'kokoshkin': 12952,\n",
       " 'kropotov': 9082,\n",
       " 'krylov': 67710,\n",
       " 'lazhechnikov': 9747,\n",
       " 'lensky': 9480,\n",
       " 'lermontov': 42278,\n",
       " 'leskov': 23729,\n",
       " 'lomonosov': 19991,\n",
       " 'majkov': 17486,\n",
       " 'mamin': 28165,\n",
       " 'mayakovsky': 21435,\n",
       " 'merezhkovsky': 13979,\n",
       " 'naydyonov': 10659,\n",
       " 'nekrasov': 15369,\n",
       " 'nikolev': 11732,\n",
       " 'ozerov': 11995,\n",
       " 'ostrovsky': 439086,\n",
       " 'petrov': 10834,\n",
       " 'pisarev': 22873,\n",
       " 'pisemskij': 13547,\n",
       " 'plavilshchikov': 14508,\n",
       " 'prutkov': 9471,\n",
       " 'pushkin': 24038,\n",
       " 'rostopchina': 14985,\n",
       " 'saltykov': 15379,\n",
       " 'sollogub': 8448,\n",
       " 'sudovshchikov': 10593,\n",
       " 'sumarokov': 86674,\n",
       " 'sukhovo': 44291,\n",
       " 'tolstoy': 77127,\n",
       " 'tretyakov': 3547,\n",
       " 'turgenev': 88914,\n",
       " 'fonvizin': 34719,\n",
       " 'kheraskov': 30905,\n",
       " 'khlebnikov': 955,\n",
       " 'khmelnitsky': 16152,\n",
       " 'chekhov': 95085,\n",
       " 'shakhovskoy': 41660}"
      ]
     },
     "execution_count": 17,
     "metadata": {},
     "output_type": "execute_result"
    }
   ],
   "source": [
    "words_pro_author"
   ]
  },
  {
   "cell_type": "code",
   "execution_count": 18,
   "metadata": {},
   "outputs": [],
   "source": [
    "df_words_pro_author = pd.DataFrame.from_dict(words_pro_author, orient='index',columns=['number_of_words'])"
   ]
  },
  {
   "cell_type": "code",
   "execution_count": null,
   "metadata": {},
   "outputs": [],
   "source": [
    "df_words_pro_author.sort_values(by='number_of_words', axis=0, ascending=False)"
   ]
  },
  {
   "cell_type": "markdown",
   "metadata": {},
   "source": [
    "# 2. PREPROCESSING"
   ]
  },
  {
   "cell_type": "markdown",
   "metadata": {},
   "source": [
    "## 2.1 Peprocessing for author dataframe"
   ]
  },
  {
   "cell_type": "markdown",
   "metadata": {},
   "source": [
    "clean the text from punctuation and non-cyrillic symbols"
   ]
  },
  {
   "cell_type": "code",
   "execution_count": 10,
   "metadata": {},
   "outputs": [],
   "source": [
    "df_aphl['t_clean'] = df_aphl['Text'].apply(\n",
    "    lambda x: re.sub(r'[^А-Яа-я\\ ]', '', re.sub(r'[-\\ ]+', r'\\ ', re.sub('\\n', ' ', x)).lower()))"
   ]
  },
  {
   "cell_type": "code",
   "execution_count": 11,
   "metadata": {},
   "outputs": [
    {
     "data": {
      "text/html": [
       "<div>\n",
       "<style scoped>\n",
       "    .dataframe tbody tr th:only-of-type {\n",
       "        vertical-align: middle;\n",
       "    }\n",
       "\n",
       "    .dataframe tbody tr th {\n",
       "        vertical-align: top;\n",
       "    }\n",
       "\n",
       "    .dataframe thead th {\n",
       "        text-align: right;\n",
       "    }\n",
       "</style>\n",
       "<table border=\"1\" class=\"dataframe\">\n",
       "  <thead>\n",
       "    <tr style=\"text-align: right;\">\n",
       "      <th></th>\n",
       "      <th>ID</th>\n",
       "      <th>Gender</th>\n",
       "      <th>Text</th>\n",
       "      <th>play_name</th>\n",
       "      <th>author</th>\n",
       "      <th>t_clean</th>\n",
       "    </tr>\n",
       "  </thead>\n",
       "  <tbody>\n",
       "    <tr>\n",
       "      <th>0</th>\n",
       "      <td>yakov</td>\n",
       "      <td>0</td>\n",
       "      <td>Что задумались, Василиса Петровна? Я пришел.\\n...</td>\n",
       "      <td>andreyev-ne-ubiy</td>\n",
       "      <td>andreyev</td>\n",
       "      <td>что задумались василиса петровна я пришел ну д...</td>\n",
       "    </tr>\n",
       "    <tr>\n",
       "      <th>1</th>\n",
       "      <td>vasilisa_petrovna</td>\n",
       "      <td>1</td>\n",
       "      <td>Да вот думаю все.\\nХолодно. Да, вот думаю все....</td>\n",
       "      <td>andreyev-ne-ubiy</td>\n",
       "      <td>andreyev</td>\n",
       "      <td>да вот думаю все холодно да вот думаю все ты з...</td>\n",
       "    </tr>\n",
       "    <tr>\n",
       "      <th>2</th>\n",
       "      <td>kulabukhov</td>\n",
       "      <td>0</td>\n",
       "      <td>Ага! Так, так! Салон и разговоры, свет и общес...</td>\n",
       "      <td>andreyev-ne-ubiy</td>\n",
       "      <td>andreyev</td>\n",
       "      <td>ага так так салон и разговоры свет и общество ...</td>\n",
       "    </tr>\n",
       "    <tr>\n",
       "      <th>3</th>\n",
       "      <td>margarita</td>\n",
       "      <td>1</td>\n",
       "      <td>Вот и я к вам. Да милая ж вы моя Василиса Петр...</td>\n",
       "      <td>andreyev-ne-ubiy</td>\n",
       "      <td>andreyev</td>\n",
       "      <td>вот и я к вам да милая ж вы моя василиса петро...</td>\n",
       "    </tr>\n",
       "    <tr>\n",
       "      <th>4</th>\n",
       "      <td>feofan</td>\n",
       "      <td>0</td>\n",
       "      <td>Мир вам, братие и сестры. Где тут сидение покр...</td>\n",
       "      <td>andreyev-ne-ubiy</td>\n",
       "      <td>andreyev</td>\n",
       "      <td>мир вам братие и сестры где тут сидение покреп...</td>\n",
       "    </tr>\n",
       "  </tbody>\n",
       "</table>\n",
       "</div>"
      ],
      "text/plain": [
       "                  ID  Gender  \\\n",
       "0              yakov       0   \n",
       "1  vasilisa_petrovna       1   \n",
       "2         kulabukhov       0   \n",
       "3          margarita       1   \n",
       "4             feofan       0   \n",
       "\n",
       "                                                Text         play_name  \\\n",
       "0  Что задумались, Василиса Петровна? Я пришел.\\n...  andreyev-ne-ubiy   \n",
       "1  Да вот думаю все.\\nХолодно. Да, вот думаю все....  andreyev-ne-ubiy   \n",
       "2  Ага! Так, так! Салон и разговоры, свет и общес...  andreyev-ne-ubiy   \n",
       "3  Вот и я к вам. Да милая ж вы моя Василиса Петр...  andreyev-ne-ubiy   \n",
       "4  Мир вам, братие и сестры. Где тут сидение покр...  andreyev-ne-ubiy   \n",
       "\n",
       "     author                                            t_clean  \n",
       "0  andreyev  что задумались василиса петровна я пришел ну д...  \n",
       "1  andreyev  да вот думаю все холодно да вот думаю все ты з...  \n",
       "2  andreyev  ага так так салон и разговоры свет и общество ...  \n",
       "3  andreyev  вот и я к вам да милая ж вы моя василиса петро...  \n",
       "4  andreyev  мир вам братие и сестры где тут сидение покреп...  "
      ]
     },
     "execution_count": 11,
     "metadata": {},
     "output_type": "execute_result"
    }
   ],
   "source": [
    "df_aphl.head()"
   ]
  },
  {
   "cell_type": "markdown",
   "metadata": {},
   "source": [
    "lemmatize everything but past tense verbs in singular female form"
   ]
  },
  {
   "cell_type": "code",
   "execution_count": 12,
   "metadata": {},
   "outputs": [],
   "source": [
    "m = Mystem()"
   ]
  },
  {
   "cell_type": "code",
   "execution_count": 13,
   "metadata": {},
   "outputs": [],
   "source": [
    "def special_lemmatization(text):\n",
    "\n",
    "    lemm_but_fem_line = []\n",
    "    \n",
    "    annal_string = m.analyze(text)\n",
    "\n",
    "    for i in range(0, len(annal_string)-1, 2):\n",
    " \n",
    "        if ('analysis' in annal_string[i]) and (annal_string[i]['analysis'] != [])  and (annal_string[i]['analysis'][0] != None) and ('V,пе=прош,ед,изъяв,жен' in annal_string[i]['analysis'][0]['gr']):\n",
    "            lemm_but_fem_line.append(annal_string[i]['text'])\n",
    "            lemm_but_fem_line.append(' ')\n",
    "        \n",
    "        elif ('analysis' in annal_string[i]) and (annal_string[i]['analysis'] != []):\n",
    "            lemm_but_fem_line.append(annal_string[i]['analysis'][0]['lex'])\n",
    "            lemm_but_fem_line.append(' ')\n",
    "            \n",
    "        else:\n",
    "            lemm_but_fem_line.append(annal_string[i]['text'])\n",
    "            lemm_but_fem_line.append(' ')\n",
    "            \n",
    "        \n",
    "    return lemm_but_fem_line"
   ]
  },
  {
   "cell_type": "code",
   "execution_count": 14,
   "metadata": {},
   "outputs": [],
   "source": [
    "df_aphl['t_lem_but_fem'] =df_aphl['t_clean'].apply(lambda x: ''.join(special_lemmatization(x)).strip('\\n'))"
   ]
  },
  {
   "cell_type": "code",
   "execution_count": 15,
   "metadata": {},
   "outputs": [
    {
     "data": {
      "text/html": [
       "<div>\n",
       "<style scoped>\n",
       "    .dataframe tbody tr th:only-of-type {\n",
       "        vertical-align: middle;\n",
       "    }\n",
       "\n",
       "    .dataframe tbody tr th {\n",
       "        vertical-align: top;\n",
       "    }\n",
       "\n",
       "    .dataframe thead th {\n",
       "        text-align: right;\n",
       "    }\n",
       "</style>\n",
       "<table border=\"1\" class=\"dataframe\">\n",
       "  <thead>\n",
       "    <tr style=\"text-align: right;\">\n",
       "      <th></th>\n",
       "      <th>ID</th>\n",
       "      <th>Gender</th>\n",
       "      <th>Text</th>\n",
       "      <th>play_name</th>\n",
       "      <th>author</th>\n",
       "      <th>t_clean</th>\n",
       "      <th>t_lem_but_fem</th>\n",
       "    </tr>\n",
       "  </thead>\n",
       "  <tbody>\n",
       "    <tr>\n",
       "      <th>0</th>\n",
       "      <td>yakov</td>\n",
       "      <td>0</td>\n",
       "      <td>Что задумались, Василиса Петровна? Я пришел.\\n...</td>\n",
       "      <td>andreyev-ne-ubiy</td>\n",
       "      <td>andreyev</td>\n",
       "      <td>что задумались василиса петровна я пришел ну д...</td>\n",
       "      <td>что задумываться василиса петровна я приходить...</td>\n",
       "    </tr>\n",
       "    <tr>\n",
       "      <th>1</th>\n",
       "      <td>vasilisa_petrovna</td>\n",
       "      <td>1</td>\n",
       "      <td>Да вот думаю все.\\nХолодно. Да, вот думаю все....</td>\n",
       "      <td>andreyev-ne-ubiy</td>\n",
       "      <td>andreyev</td>\n",
       "      <td>да вот думаю все холодно да вот думаю все ты з...</td>\n",
       "      <td>да вот думать все холодно да вот думать все ты...</td>\n",
       "    </tr>\n",
       "    <tr>\n",
       "      <th>2</th>\n",
       "      <td>kulabukhov</td>\n",
       "      <td>0</td>\n",
       "      <td>Ага! Так, так! Салон и разговоры, свет и общес...</td>\n",
       "      <td>andreyev-ne-ubiy</td>\n",
       "      <td>andreyev</td>\n",
       "      <td>ага так так салон и разговоры свет и общество ...</td>\n",
       "      <td>ага так так салон и разговор свет и общество ч...</td>\n",
       "    </tr>\n",
       "    <tr>\n",
       "      <th>3</th>\n",
       "      <td>margarita</td>\n",
       "      <td>1</td>\n",
       "      <td>Вот и я к вам. Да милая ж вы моя Василиса Петр...</td>\n",
       "      <td>andreyev-ne-ubiy</td>\n",
       "      <td>andreyev</td>\n",
       "      <td>вот и я к вам да милая ж вы моя василиса петро...</td>\n",
       "      <td>вот и я к вы да милый ж вы мой василиса петров...</td>\n",
       "    </tr>\n",
       "    <tr>\n",
       "      <th>4</th>\n",
       "      <td>feofan</td>\n",
       "      <td>0</td>\n",
       "      <td>Мир вам, братие и сестры. Где тут сидение покр...</td>\n",
       "      <td>andreyev-ne-ubiy</td>\n",
       "      <td>andreyev</td>\n",
       "      <td>мир вам братие и сестры где тут сидение покреп...</td>\n",
       "      <td>мир вы братий и сестра где тут сидение покрепш...</td>\n",
       "    </tr>\n",
       "  </tbody>\n",
       "</table>\n",
       "</div>"
      ],
      "text/plain": [
       "                  ID  Gender  \\\n",
       "0              yakov       0   \n",
       "1  vasilisa_petrovna       1   \n",
       "2         kulabukhov       0   \n",
       "3          margarita       1   \n",
       "4             feofan       0   \n",
       "\n",
       "                                                Text         play_name  \\\n",
       "0  Что задумались, Василиса Петровна? Я пришел.\\n...  andreyev-ne-ubiy   \n",
       "1  Да вот думаю все.\\nХолодно. Да, вот думаю все....  andreyev-ne-ubiy   \n",
       "2  Ага! Так, так! Салон и разговоры, свет и общес...  andreyev-ne-ubiy   \n",
       "3  Вот и я к вам. Да милая ж вы моя Василиса Петр...  andreyev-ne-ubiy   \n",
       "4  Мир вам, братие и сестры. Где тут сидение покр...  andreyev-ne-ubiy   \n",
       "\n",
       "     author                                            t_clean  \\\n",
       "0  andreyev  что задумались василиса петровна я пришел ну д...   \n",
       "1  andreyev  да вот думаю все холодно да вот думаю все ты з...   \n",
       "2  andreyev  ага так так салон и разговоры свет и общество ...   \n",
       "3  andreyev  вот и я к вам да милая ж вы моя василиса петро...   \n",
       "4  andreyev  мир вам братие и сестры где тут сидение покреп...   \n",
       "\n",
       "                                       t_lem_but_fem  \n",
       "0  что задумываться василиса петровна я приходить...  \n",
       "1  да вот думать все холодно да вот думать все ты...  \n",
       "2  ага так так салон и разговор свет и общество ч...  \n",
       "3  вот и я к вы да милый ж вы мой василиса петров...  \n",
       "4  мир вы братий и сестра где тут сидение покрепш...  "
      ]
     },
     "execution_count": 15,
     "metadata": {},
     "output_type": "execute_result"
    }
   ],
   "source": [
    "df_aphl.head()"
   ]
  },
  {
   "cell_type": "code",
   "execution_count": 16,
   "metadata": {},
   "outputs": [],
   "source": [
    "df_aphl[\"len_lem\"] = df_aphl['t_lem_but_fem'].apply(lambda x: len(x.split()))"
   ]
  },
  {
   "cell_type": "code",
   "execution_count": 31,
   "metadata": {},
   "outputs": [
    {
     "data": {
      "text/plain": [
       "7325"
      ]
     },
     "execution_count": 31,
     "metadata": {},
     "output_type": "execute_result"
    }
   ],
   "source": [
    "df_aphl['len_lem'].max()"
   ]
  },
  {
   "cell_type": "code",
   "execution_count": 32,
   "metadata": {},
   "outputs": [
    {
     "data": {
      "text/plain": [
       "543.7692307692307"
      ]
     },
     "execution_count": 32,
     "metadata": {},
     "output_type": "execute_result"
    }
   ],
   "source": [
    "df_aphl['len_lem'].mean()"
   ]
  },
  {
   "cell_type": "code",
   "execution_count": 33,
   "metadata": {},
   "outputs": [
    {
     "data": {
      "text/plain": [
       "149.0"
      ]
     },
     "execution_count": 33,
     "metadata": {},
     "output_type": "execute_result"
    }
   ],
   "source": [
    "df_aphl['len_lem'].median()"
   ]
  },
  {
   "cell_type": "code",
   "execution_count": 19,
   "metadata": {},
   "outputs": [],
   "source": [
    "df_aphl_short = df_aphl.query('len_lem > 140')"
   ]
  },
  {
   "cell_type": "markdown",
   "metadata": {},
   "source": [
    "## 2.2 Ostrovsky DF"
   ]
  },
  {
   "cell_type": "markdown",
   "metadata": {},
   "source": [
    "<p>For characters with no less that 140 words per play</p>"
   ]
  },
  {
   "cell_type": "code",
   "execution_count": null,
   "metadata": {},
   "outputs": [],
   "source": [
    "columns = ['ID', 'Gender', 'Text', 'play_name', 't_clean', 't_lem_but_fem']\n",
    "ostrovsky_df = pd.DataFrame(columns=columns)"
   ]
  },
  {
   "cell_type": "code",
   "execution_count": 56,
   "metadata": {},
   "outputs": [
    {
     "data": {
      "text/html": [
       "<div>\n",
       "<style scoped>\n",
       "    .dataframe tbody tr th:only-of-type {\n",
       "        vertical-align: middle;\n",
       "    }\n",
       "\n",
       "    .dataframe tbody tr th {\n",
       "        vertical-align: top;\n",
       "    }\n",
       "\n",
       "    .dataframe thead th {\n",
       "        text-align: right;\n",
       "    }\n",
       "</style>\n",
       "<table border=\"1\" class=\"dataframe\">\n",
       "  <thead>\n",
       "    <tr style=\"text-align: right;\">\n",
       "      <th></th>\n",
       "      <th>ID</th>\n",
       "      <th>Gender</th>\n",
       "      <th>Text</th>\n",
       "      <th>play_name</th>\n",
       "      <th>t_clean</th>\n",
       "      <th>t_lem_but_fem</th>\n",
       "    </tr>\n",
       "  </thead>\n",
       "  <tbody>\n",
       "  </tbody>\n",
       "</table>\n",
       "</div>"
      ],
      "text/plain": [
       "Empty DataFrame\n",
       "Columns: [ID, Gender, Text, play_name, t_clean, t_lem_but_fem]\n",
       "Index: []"
      ]
     },
     "execution_count": 56,
     "metadata": {},
     "output_type": "execute_result"
    }
   ],
   "source": [
    "ostrovsky_df"
   ]
  },
  {
   "cell_type": "code",
   "execution_count": 57,
   "metadata": {},
   "outputs": [
    {
     "name": "stdout",
     "output_type": "stream",
     "text": [
      "True\n",
      "True\n",
      "True\n",
      "True\n",
      "True\n",
      "True\n",
      "True\n",
      "True\n",
      "True\n",
      "True\n",
      "True\n",
      "True\n",
      "True\n",
      "True\n",
      "True\n",
      "True\n",
      "True\n",
      "True\n",
      "True\n",
      "True\n",
      "True\n",
      "True\n",
      "True\n",
      "True\n",
      "True\n",
      "True\n",
      "True\n",
      "True\n",
      "True\n",
      "True\n",
      "True\n",
      "True\n",
      "True\n",
      "True\n",
      "True\n",
      "True\n",
      "True\n",
      "True\n",
      "True\n",
      "True\n",
      "True\n",
      "True\n",
      "True\n",
      "True\n",
      "True\n",
      "True\n",
      "True\n",
      "True\n",
      "True\n",
      "True\n",
      "True\n",
      "True\n",
      "True\n",
      "True\n",
      "True\n",
      "True\n",
      "True\n",
      "True\n",
      "True\n",
      "True\n",
      "True\n",
      "True\n",
      "True\n",
      "True\n",
      "True\n",
      "True\n",
      "True\n",
      "True\n",
      "True\n",
      "True\n",
      "True\n",
      "True\n",
      "True\n",
      "True\n",
      "True\n",
      "True\n",
      "True\n",
      "True\n",
      "True\n",
      "True\n",
      "True\n",
      "True\n",
      "True\n",
      "True\n",
      "True\n",
      "True\n",
      "True\n",
      "True\n",
      "True\n",
      "True\n",
      "True\n",
      "True\n",
      "True\n",
      "True\n",
      "True\n",
      "True\n",
      "True\n",
      "True\n",
      "True\n",
      "True\n",
      "True\n",
      "True\n",
      "True\n",
      "True\n",
      "True\n",
      "True\n",
      "True\n",
      "True\n",
      "True\n",
      "True\n",
      "True\n",
      "True\n",
      "True\n",
      "True\n",
      "True\n",
      "True\n",
      "True\n",
      "True\n",
      "True\n",
      "True\n",
      "True\n",
      "True\n",
      "True\n",
      "True\n",
      "True\n",
      "True\n",
      "True\n",
      "True\n",
      "True\n",
      "True\n",
      "True\n",
      "True\n",
      "True\n",
      "True\n",
      "True\n",
      "True\n",
      "True\n",
      "True\n",
      "True\n",
      "True\n",
      "True\n",
      "True\n",
      "True\n",
      "True\n",
      "True\n",
      "True\n",
      "True\n",
      "True\n",
      "True\n",
      "True\n",
      "True\n",
      "True\n",
      "True\n",
      "True\n",
      "True\n",
      "True\n",
      "True\n",
      "True\n",
      "True\n",
      "True\n",
      "True\n",
      "True\n",
      "True\n",
      "True\n",
      "True\n",
      "True\n",
      "True\n",
      "True\n",
      "True\n",
      "True\n",
      "True\n",
      "True\n",
      "True\n",
      "True\n",
      "True\n",
      "True\n",
      "True\n",
      "True\n",
      "True\n",
      "True\n",
      "True\n",
      "True\n",
      "True\n",
      "True\n",
      "True\n",
      "True\n",
      "True\n",
      "True\n",
      "True\n",
      "True\n",
      "True\n",
      "True\n",
      "True\n",
      "True\n",
      "True\n",
      "True\n",
      "True\n",
      "True\n",
      "True\n",
      "True\n",
      "True\n",
      "True\n",
      "True\n",
      "True\n",
      "True\n",
      "True\n",
      "True\n",
      "True\n",
      "True\n",
      "True\n",
      "True\n",
      "True\n",
      "True\n",
      "True\n",
      "True\n",
      "True\n",
      "True\n",
      "True\n",
      "True\n",
      "True\n",
      "True\n",
      "True\n",
      "True\n",
      "True\n",
      "True\n",
      "True\n",
      "True\n",
      "True\n",
      "True\n",
      "True\n",
      "True\n",
      "True\n",
      "True\n",
      "True\n",
      "True\n",
      "True\n",
      "True\n",
      "True\n",
      "True\n",
      "True\n",
      "True\n",
      "True\n",
      "True\n",
      "True\n",
      "True\n",
      "True\n",
      "True\n",
      "True\n",
      "True\n",
      "True\n",
      "True\n",
      "True\n",
      "True\n",
      "True\n",
      "True\n",
      "True\n",
      "True\n",
      "True\n",
      "True\n",
      "True\n",
      "True\n",
      "True\n",
      "True\n",
      "True\n",
      "True\n",
      "True\n",
      "True\n",
      "True\n",
      "True\n",
      "True\n",
      "True\n",
      "True\n",
      "True\n",
      "True\n",
      "True\n",
      "True\n",
      "True\n",
      "True\n",
      "True\n",
      "True\n",
      "True\n",
      "True\n",
      "True\n",
      "True\n",
      "True\n",
      "True\n",
      "True\n",
      "True\n",
      "True\n",
      "True\n",
      "True\n",
      "True\n",
      "True\n",
      "True\n",
      "True\n",
      "True\n",
      "True\n",
      "True\n",
      "True\n",
      "True\n",
      "True\n",
      "True\n",
      "True\n",
      "True\n",
      "True\n",
      "True\n",
      "True\n",
      "True\n",
      "True\n",
      "True\n",
      "True\n",
      "True\n",
      "True\n",
      "True\n",
      "True\n",
      "True\n",
      "True\n",
      "True\n",
      "True\n",
      "True\n",
      "True\n",
      "True\n",
      "True\n",
      "True\n",
      "True\n",
      "True\n",
      "True\n",
      "True\n",
      "True\n",
      "True\n",
      "True\n",
      "True\n",
      "True\n",
      "True\n",
      "True\n",
      "True\n",
      "True\n",
      "True\n",
      "True\n"
     ]
    }
   ],
   "source": [
    "for idx, value in df_aphl_short.iterrows():\n",
    "    \n",
    "    if value['author'] == 'ostrovsky':\n",
    "        print(True)\n",
    "        ostrovsky_df = ostrovsky_df.append(value)\n",
    "        #break"
   ]
  },
  {
   "cell_type": "code",
   "execution_count": 59,
   "metadata": {},
   "outputs": [
    {
     "data": {
      "text/html": [
       "<div>\n",
       "<style scoped>\n",
       "    .dataframe tbody tr th:only-of-type {\n",
       "        vertical-align: middle;\n",
       "    }\n",
       "\n",
       "    .dataframe tbody tr th {\n",
       "        vertical-align: top;\n",
       "    }\n",
       "\n",
       "    .dataframe thead th {\n",
       "        text-align: right;\n",
       "    }\n",
       "</style>\n",
       "<table border=\"1\" class=\"dataframe\">\n",
       "  <thead>\n",
       "    <tr style=\"text-align: right;\">\n",
       "      <th></th>\n",
       "      <th>ID</th>\n",
       "      <th>Gender</th>\n",
       "      <th>Text</th>\n",
       "      <th>play_name</th>\n",
       "      <th>t_clean</th>\n",
       "      <th>t_lem_but_fem</th>\n",
       "      <th>author</th>\n",
       "      <th>len_lem</th>\n",
       "    </tr>\n",
       "  </thead>\n",
       "  <tbody>\n",
       "    <tr>\n",
       "      <th>1644</th>\n",
       "      <td>balzaminova</td>\n",
       "      <td>1</td>\n",
       "      <td>Хорошо теперь, Матрена, чайку-то, после бани-т...</td>\n",
       "      <td>ostrovsky-za-chem-pojdesh-to-i-najdesh</td>\n",
       "      <td>хорошо теперь матрена чайку то после бани то а...</td>\n",
       "      <td>хорошо теперь матрена чайка то после баня то а...</td>\n",
       "      <td>ostrovsky</td>\n",
       "      <td>1835.0</td>\n",
       "    </tr>\n",
       "    <tr>\n",
       "      <th>1645</th>\n",
       "      <td>matrena</td>\n",
       "      <td>1</td>\n",
       "      <td>Уж это на что лучше! По всем жилкам, по всем с...</td>\n",
       "      <td>ostrovsky-za-chem-pojdesh-to-i-najdesh</td>\n",
       "      <td>уж это на что лучше по всем жилкам по всем сус...</td>\n",
       "      <td>уж это на что хорошо по весь жилка по весь сус...</td>\n",
       "      <td>ostrovsky</td>\n",
       "      <td>531.0</td>\n",
       "    </tr>\n",
       "    <tr>\n",
       "      <th>1646</th>\n",
       "      <td>balzaminov</td>\n",
       "      <td>0</td>\n",
       "      <td>Что же это такое, маменька! Помилуйте! На само...</td>\n",
       "      <td>ostrovsky-za-chem-pojdesh-to-i-najdesh</td>\n",
       "      <td>что же это такое маменька помилуйте на самом и...</td>\n",
       "      <td>что же это такой маменька помиловать на самый ...</td>\n",
       "      <td>ostrovsky</td>\n",
       "      <td>3499.0</td>\n",
       "    </tr>\n",
       "    <tr>\n",
       "      <th>1647</th>\n",
       "      <td>krasavina</td>\n",
       "      <td>1</td>\n",
       "      <td>С повинной, матушка! Не вели казнить, вели реч...</td>\n",
       "      <td>ostrovsky-za-chem-pojdesh-to-i-najdesh</td>\n",
       "      <td>с повинной матушка не вели казнить вели речь г...</td>\n",
       "      <td>с повинный матушка не вести казнить вести речь...</td>\n",
       "      <td>ostrovsky</td>\n",
       "      <td>2266.0</td>\n",
       "    </tr>\n",
       "    <tr>\n",
       "      <th>1648</th>\n",
       "      <td>chebakov</td>\n",
       "      <td>0</td>\n",
       "      <td>Что это вы? Что это вы, господин Бальзаминов?\\...</td>\n",
       "      <td>ostrovsky-za-chem-pojdesh-to-i-najdesh</td>\n",
       "      <td>что это вы что это вы господин бальзаминов пос...</td>\n",
       "      <td>что это вы что это вы господин бальзамин послу...</td>\n",
       "      <td>ostrovsky</td>\n",
       "      <td>493.0</td>\n",
       "    </tr>\n",
       "  </tbody>\n",
       "</table>\n",
       "</div>"
      ],
      "text/plain": [
       "               ID Gender                                               Text  \\\n",
       "1644  balzaminova      1  Хорошо теперь, Матрена, чайку-то, после бани-т...   \n",
       "1645      matrena      1  Уж это на что лучше! По всем жилкам, по всем с...   \n",
       "1646   balzaminov      0  Что же это такое, маменька! Помилуйте! На само...   \n",
       "1647    krasavina      1  С повинной, матушка! Не вели казнить, вели реч...   \n",
       "1648     chebakov      0  Что это вы? Что это вы, господин Бальзаминов?\\...   \n",
       "\n",
       "                                   play_name  \\\n",
       "1644  ostrovsky-za-chem-pojdesh-to-i-najdesh   \n",
       "1645  ostrovsky-za-chem-pojdesh-to-i-najdesh   \n",
       "1646  ostrovsky-za-chem-pojdesh-to-i-najdesh   \n",
       "1647  ostrovsky-za-chem-pojdesh-to-i-najdesh   \n",
       "1648  ostrovsky-za-chem-pojdesh-to-i-najdesh   \n",
       "\n",
       "                                                t_clean  \\\n",
       "1644  хорошо теперь матрена чайку то после бани то а...   \n",
       "1645  уж это на что лучше по всем жилкам по всем сус...   \n",
       "1646  что же это такое маменька помилуйте на самом и...   \n",
       "1647  с повинной матушка не вели казнить вели речь г...   \n",
       "1648  что это вы что это вы господин бальзаминов пос...   \n",
       "\n",
       "                                          t_lem_but_fem     author  len_lem  \n",
       "1644  хорошо теперь матрена чайка то после баня то а...  ostrovsky   1835.0  \n",
       "1645  уж это на что хорошо по весь жилка по весь сус...  ostrovsky    531.0  \n",
       "1646  что же это такой маменька помиловать на самый ...  ostrovsky   3499.0  \n",
       "1647  с повинный матушка не вести казнить вести речь...  ostrovsky   2266.0  \n",
       "1648  что это вы что это вы господин бальзамин послу...  ostrovsky    493.0  "
      ]
     },
     "execution_count": 59,
     "metadata": {},
     "output_type": "execute_result"
    }
   ],
   "source": [
    "ostrovsky_df.head()"
   ]
  },
  {
   "cell_type": "markdown",
   "metadata": {},
   "source": [
    "# 3. Vectorization"
   ]
  },
  {
   "cell_type": "markdown",
   "metadata": {},
   "source": [
    "## 3.1. Train/test split"
   ]
  },
  {
   "cell_type": "markdown",
   "metadata": {},
   "source": [
    "For df_aphl_short"
   ]
  },
  {
   "cell_type": "code",
   "execution_count": 17,
   "metadata": {},
   "outputs": [],
   "source": [
    "from sklearn.model_selection import (\n",
    "    train_test_split, StratifiedKFold, GridSearchCV, RandomizedSearchCV)"
   ]
  },
  {
   "cell_type": "code",
   "execution_count": 20,
   "metadata": {},
   "outputs": [],
   "source": [
    "data = df_aphl_short['t_lem_but_fem'].tolist()\n",
    "target = df_aphl_short['Gender']"
   ]
  },
  {
   "cell_type": "code",
   "execution_count": 21,
   "metadata": {},
   "outputs": [],
   "source": [
    "X_train, X_test, y_train, y_test =\\\n",
    "    train_test_split(data, target,\n",
    "                     test_size=0.2, shuffle=True, random_state=42, stratify=target)"
   ]
  },
  {
   "cell_type": "markdown",
   "metadata": {},
   "source": [
    "## 3.2. BOW CountVectorizer"
   ]
  },
  {
   "cell_type": "markdown",
   "metadata": {},
   "source": [
    "Vectorization for df_aphl_short"
   ]
  },
  {
   "cell_type": "code",
   "execution_count": 22,
   "metadata": {},
   "outputs": [],
   "source": [
    "from sklearn.feature_extraction.text import CountVectorizer\n",
    "import numpy as np"
   ]
  },
  {
   "cell_type": "code",
   "execution_count": 100,
   "metadata": {},
   "outputs": [],
   "source": [
    "vectorizer = CountVectorizer()#ngram_range=(1,5), min_df=100, max_df=0.7)"
   ]
  },
  {
   "cell_type": "code",
   "execution_count": 101,
   "metadata": {},
   "outputs": [],
   "source": [
    "X_train_bow = vectorizer.fit_transform(X_train)\n",
    "X_test_bow = vectorizer.transform(X_test)\n",
    "vocabulary = np.array(vectorizer.get_feature_names())"
   ]
  },
  {
   "cell_type": "code",
   "execution_count": 102,
   "metadata": {},
   "outputs": [
    {
     "data": {
      "text/plain": [
       "39075"
      ]
     },
     "execution_count": 102,
     "metadata": {},
     "output_type": "execute_result"
    }
   ],
   "source": [
    "len(vocabulary.tolist())"
   ]
  },
  {
   "cell_type": "markdown",
   "metadata": {},
   "source": [
    "## 3.3. Ostrovsky Split & Vectorization"
   ]
  },
  {
   "cell_type": "markdown",
   "metadata": {},
   "source": [
    "### 3.3.1 Train/Test split"
   ]
  },
  {
   "cell_type": "code",
   "execution_count": 80,
   "metadata": {},
   "outputs": [],
   "source": [
    "data_ost = ostrovsky_df['t_lem_but_fem'].tolist()\n",
    "target_ost = ostrovsky_df['Gender']\n",
    "target_ost = target_ost.astype('int')"
   ]
  },
  {
   "cell_type": "code",
   "execution_count": 81,
   "metadata": {},
   "outputs": [],
   "source": [
    "X_train_ost, X_test_ost, y_train_ost, y_test_ost =\\\n",
    "    train_test_split(data_ost, target_ost,\n",
    "                     test_size=0.2, shuffle=True, random_state=42, bstratify=target)"
   ]
  },
  {
   "cell_type": "code",
   "execution_count": 86,
   "metadata": {},
   "outputs": [
    {
     "data": {
      "text/plain": [
       "339"
      ]
     },
     "execution_count": 86,
     "metadata": {},
     "output_type": "execute_result"
    }
   ],
   "source": [
    "len(data_ost)"
   ]
  },
  {
   "cell_type": "markdown",
   "metadata": {},
   "source": [
    "### 3.3.2 Vectorization"
   ]
  },
  {
   "cell_type": "code",
   "execution_count": 82,
   "metadata": {},
   "outputs": [],
   "source": [
    "vectorizer = CountVectorizer()"
   ]
  },
  {
   "cell_type": "code",
   "execution_count": 83,
   "metadata": {},
   "outputs": [],
   "source": [
    "X_train_bow_ost = vectorizer.fit_transform(X_train_ost)\n",
    "X_test_bow_ost = vectorizer.transform(X_test_ost)\n",
    "vocabulary_ost = np.array(vectorizer.get_feature_names())"
   ]
  },
  {
   "cell_type": "markdown",
   "metadata": {},
   "source": [
    "### 3.3.3 LogReg"
   ]
  },
  {
   "cell_type": "markdown",
   "metadata": {},
   "source": [
    "<h4> LogReg for Ostrovsky plays, characters with less than 140 words excluded</h4>\n",
    "<p>accuracy_logreg_ost, recall_logreg_ost, precision_logreg_ost, f1_logreg_ost</p>\n",
    "<p>0.8235294117647058 0.8214285714285714 0.7666666666666667 0.793103448275862</p>"
   ]
  },
  {
   "cell_type": "code",
   "execution_count": 84,
   "metadata": {},
   "outputs": [],
   "source": [
    "logreg_ost =LogisticRegression()"
   ]
  },
  {
   "cell_type": "code",
   "execution_count": 89,
   "metadata": {},
   "outputs": [
    {
     "data": {
      "text/plain": [
       "14284"
      ]
     },
     "execution_count": 89,
     "metadata": {},
     "output_type": "execute_result"
    }
   ],
   "source": [
    "X_test_bow_ost.shape[1]"
   ]
  },
  {
   "cell_type": "code",
   "execution_count": 91,
   "metadata": {},
   "outputs": [
    {
     "data": {
      "text/plain": [
       "14284"
      ]
     },
     "execution_count": 91,
     "metadata": {},
     "output_type": "execute_result"
    }
   ],
   "source": [
    "len(vocabulary_ost.tolist())"
   ]
  },
  {
   "cell_type": "code",
   "execution_count": 92,
   "metadata": {},
   "outputs": [
    {
     "data": {
      "text/plain": [
       "68"
      ]
     },
     "execution_count": 92,
     "metadata": {},
     "output_type": "execute_result"
    }
   ],
   "source": [
    "len(y_test_ost)"
   ]
  },
  {
   "cell_type": "code",
   "execution_count": 94,
   "metadata": {},
   "outputs": [
    {
     "data": {
      "text/plain": [
       "14284"
      ]
     },
     "execution_count": 94,
     "metadata": {},
     "output_type": "execute_result"
    }
   ],
   "source": [
    "X_train_bow_ost.shape[1]"
   ]
  },
  {
   "cell_type": "code",
   "execution_count": 95,
   "metadata": {},
   "outputs": [
    {
     "data": {
      "text/plain": [
       "LogisticRegression(C=1.0, class_weight=None, dual=False, fit_intercept=True,\n",
       "          intercept_scaling=1, max_iter=100, multi_class='ovr', n_jobs=1,\n",
       "          penalty='l2', random_state=None, solver='liblinear', tol=0.0001,\n",
       "          verbose=0, warm_start=False)"
      ]
     },
     "execution_count": 95,
     "metadata": {},
     "output_type": "execute_result"
    }
   ],
   "source": [
    "logreg_ost.fit(X_train_bow_ost, y_train_ost)"
   ]
  },
  {
   "cell_type": "code",
   "execution_count": 97,
   "metadata": {},
   "outputs": [],
   "source": [
    "y_preds_ost = logreg_ost.predict(X_test_bow_ost)"
   ]
  },
  {
   "cell_type": "code",
   "execution_count": 98,
   "metadata": {},
   "outputs": [],
   "source": [
    "accuracy_logreg_ost = accuracy_score(y_test_ost, y_preds_ost)\n",
    "recall_logreg_ost = recall_score(y_test_ost, y_preds_ost)\n",
    "precision_logreg_ost = precision_score(y_test_ost, y_preds_ost)\n",
    "f1_logreg_ost = f1_score(y_test_ost, y_preds_ost)"
   ]
  },
  {
   "cell_type": "code",
   "execution_count": 99,
   "metadata": {},
   "outputs": [
    {
     "name": "stdout",
     "output_type": "stream",
     "text": [
      "0.8235294117647058 0.8214285714285714 0.7666666666666667 0.793103448275862\n"
     ]
    }
   ],
   "source": [
    "print(accuracy_logreg_ost, recall_logreg_ost, precision_logreg_ost, f1_logreg_ost)"
   ]
  },
  {
   "cell_type": "code",
   "execution_count": null,
   "metadata": {},
   "outputs": [],
   "source": []
  },
  {
   "cell_type": "code",
   "execution_count": null,
   "metadata": {},
   "outputs": [],
   "source": []
  },
  {
   "cell_type": "markdown",
   "metadata": {},
   "source": [
    "# 4. LogReg"
   ]
  },
  {
   "cell_type": "markdown",
   "metadata": {},
   "source": [
    "LogReg for df_aphl_short \n",
    "<p>accuracy_logreg, recall_logreg, precision_logreg, f1_logreg</p>\n",
    "<p>0.8132183908045977 0.6696428571428571 0.7281553398058253 0.6976744186046512 *(ngram_range=(1,5), min_df=100, max_df=0.7)*</p>\n",
    "<p>0.8477011494252874 0.6964285714285714 0.8041237113402062 0.7464114832535885 *(default countvec settings)*</p>"
   ]
  },
  {
   "cell_type": "code",
   "execution_count": 36,
   "metadata": {},
   "outputs": [],
   "source": [
    "import matplotlib as plt\n",
    "from sklearn.ensemble import RandomForestClassifier\n",
    "from sklearn.model_selection import (\n",
    "    train_test_split, StratifiedKFold, GridSearchCV, RandomizedSearchCV)\n",
    "from sklearn.feature_extraction.text import CountVectorizer, HashingVectorizer\n",
    "from sklearn.linear_model import LogisticRegression\n",
    "from sklearn.metrics import log_loss, accuracy_score, precision_score, f1_score\n",
    "from sklearn.metrics import (\n",
    "    roc_curve, precision_recall_curve, auc, recall_score, accuracy_score)\n",
    "import time"
   ]
  },
  {
   "cell_type": "code",
   "execution_count": 103,
   "metadata": {},
   "outputs": [],
   "source": [
    "logreg =LogisticRegression()"
   ]
  },
  {
   "cell_type": "code",
   "execution_count": 104,
   "metadata": {},
   "outputs": [],
   "source": [
    "logreg.fit(X_train_bow, y_train)\n",
    "y_preds = logreg.predict(X_test_bow)"
   ]
  },
  {
   "cell_type": "code",
   "execution_count": 105,
   "metadata": {},
   "outputs": [],
   "source": [
    "accuracy_logreg = accuracy_score(y_test, y_preds)\n",
    "recall_logreg = recall_score(y_test, y_preds)\n",
    "precision_logreg = precision_score(y_test, y_preds)\n",
    "f1_logreg = f1_score(y_test, y_preds)"
   ]
  },
  {
   "cell_type": "code",
   "execution_count": 106,
   "metadata": {},
   "outputs": [
    {
     "name": "stdout",
     "output_type": "stream",
     "text": [
      "0.8477011494252874 0.6964285714285714 0.8041237113402062 0.7464114832535885\n"
     ]
    }
   ],
   "source": [
    "print(accuracy_logreg, recall_logreg, precision_logreg, f1_logreg)"
   ]
  },
  {
   "cell_type": "code",
   "execution_count": 33,
   "metadata": {},
   "outputs": [
    {
     "data": {
      "text/plain": [
       "0.6696428571428571"
      ]
     },
     "execution_count": 33,
     "metadata": {},
     "output_type": "execute_result"
    }
   ],
   "source": []
  },
  {
   "cell_type": "code",
   "execution_count": null,
   "metadata": {},
   "outputs": [],
   "source": []
  },
  {
   "cell_type": "markdown",
   "metadata": {},
   "source": [
    " *#################################################################################################################*"
   ]
  },
  {
   "cell_type": "markdown",
   "metadata": {},
   "source": [
    "### 1.2. Lemmatization"
   ]
  },
  {
   "cell_type": "code",
   "execution_count": 14,
   "metadata": {},
   "outputs": [],
   "source": [
    "#counter = 0\n",
    "def special_lemmatization(text):\n",
    "\n",
    "#lemmatizes everything but the singular verbs in past tense in female form \n",
    "\n",
    "    #print('@')\n",
    "    #print()\n",
    "    #print()    \n",
    "    #print(counter)\n",
    "    #print()\n",
    "    #print()\n",
    "    \n",
    "    lemm_but_fem_line = []\n",
    "    \n",
    "    annal_string = m.analyze(text)\n",
    "\n",
    "    for i in range(0, len(annal_string)-1, 2):\n",
    "        \n",
    "        #print(annal_string[i])\n",
    "        #print(i)\n",
    "        if ('analysis' in annal_string[i]) and (annal_string[i]['analysis'] != [])  and (annal_string[i]['analysis'][0] != None) and ('V,пе=прош,ед,изъяв,жен' in annal_string[i]['analysis'][0]['gr']):\n",
    "            lemm_but_fem_line.append(annal_string[i]['text'])\n",
    "            lemm_but_fem_line.append(' ')\n",
    "        #print(i, annal_string[i])\n",
    "        \n",
    "        elif ('analysis' in annal_string[i]) and (annal_string[i]['analysis'] != []):\n",
    "            lemm_but_fem_line.append(annal_string[i]['analysis'][0]['lex'])\n",
    "            lemm_but_fem_line.append(' ')\n",
    "            \n",
    "        else:\n",
    "            lemm_but_fem_line.append(annal_string[i]['text'])\n",
    "            lemm_but_fem_line.append(' ')\n",
    "            \n",
    "    #counter = counter + 1\n",
    "        \n",
    "    return lemm_but_fem_line#, counter"
   ]
  },
  {
   "cell_type": "code",
   "execution_count": 15,
   "metadata": {
    "scrolled": true
   },
   "outputs": [],
   "source": [
    "full_df['t_lem'] = full_df['t_clean'].apply(lambda x: ''.join(special_lemmatization(x)).strip('\\n'))"
   ]
  },
  {
   "cell_type": "code",
   "execution_count": 16,
   "metadata": {},
   "outputs": [
    {
     "data": {
      "text/html": [
       "<div>\n",
       "<style scoped>\n",
       "    .dataframe tbody tr th:only-of-type {\n",
       "        vertical-align: middle;\n",
       "    }\n",
       "\n",
       "    .dataframe tbody tr th {\n",
       "        vertical-align: top;\n",
       "    }\n",
       "\n",
       "    .dataframe thead th {\n",
       "        text-align: right;\n",
       "    }\n",
       "</style>\n",
       "<table border=\"1\" class=\"dataframe\">\n",
       "  <thead>\n",
       "    <tr style=\"text-align: right;\">\n",
       "      <th></th>\n",
       "      <th>ID</th>\n",
       "      <th>Gender</th>\n",
       "      <th>Text</th>\n",
       "      <th>t_clean</th>\n",
       "      <th>t_lem</th>\n",
       "    </tr>\n",
       "  </thead>\n",
       "  <tbody>\n",
       "    <tr>\n",
       "      <th>0</th>\n",
       "      <td>yakov</td>\n",
       "      <td>0</td>\n",
       "      <td>Что задумались, Василиса Петровна? Я пришел.\\n...</td>\n",
       "      <td>что задумались василиса петровна я пришел ну д...</td>\n",
       "      <td>что задумываться василиса петровна я приходить...</td>\n",
       "    </tr>\n",
       "    <tr>\n",
       "      <th>1</th>\n",
       "      <td>vasilisa_petrovna</td>\n",
       "      <td>1</td>\n",
       "      <td>Да вот думаю все.\\nХолодно. Да, вот думаю все....</td>\n",
       "      <td>да вот думаю все холодно да вот думаю все ты з...</td>\n",
       "      <td>да вот думать все холодно да вот думать все ты...</td>\n",
       "    </tr>\n",
       "    <tr>\n",
       "      <th>2</th>\n",
       "      <td>kulabukhov</td>\n",
       "      <td>0</td>\n",
       "      <td>Ага! Так, так! Салон и разговоры, свет и общес...</td>\n",
       "      <td>ага так так салон и разговоры свет и общество ...</td>\n",
       "      <td>ага так так салон и разговор свет и общество ч...</td>\n",
       "    </tr>\n",
       "    <tr>\n",
       "      <th>3</th>\n",
       "      <td>margarita</td>\n",
       "      <td>1</td>\n",
       "      <td>Вот и я к вам. Да милая ж вы моя Василиса Петр...</td>\n",
       "      <td>вот и я к вам да милая ж вы моя василиса петро...</td>\n",
       "      <td>вот и я к вы да милый ж вы мой василиса петров...</td>\n",
       "    </tr>\n",
       "    <tr>\n",
       "      <th>4</th>\n",
       "      <td>feofan</td>\n",
       "      <td>0</td>\n",
       "      <td>Мир вам, братие и сестры. Где тут сидение покр...</td>\n",
       "      <td>мир вам братие и сестры где тут сидение покреп...</td>\n",
       "      <td>мир вы братий и сестра где тут сидение покрепш...</td>\n",
       "    </tr>\n",
       "  </tbody>\n",
       "</table>\n",
       "</div>"
      ],
      "text/plain": [
       "                  ID  Gender  \\\n",
       "0              yakov       0   \n",
       "1  vasilisa_petrovna       1   \n",
       "2         kulabukhov       0   \n",
       "3          margarita       1   \n",
       "4             feofan       0   \n",
       "\n",
       "                                                Text  \\\n",
       "0  Что задумались, Василиса Петровна? Я пришел.\\n...   \n",
       "1  Да вот думаю все.\\nХолодно. Да, вот думаю все....   \n",
       "2  Ага! Так, так! Салон и разговоры, свет и общес...   \n",
       "3  Вот и я к вам. Да милая ж вы моя Василиса Петр...   \n",
       "4  Мир вам, братие и сестры. Где тут сидение покр...   \n",
       "\n",
       "                                             t_clean  \\\n",
       "0  что задумались василиса петровна я пришел ну д...   \n",
       "1  да вот думаю все холодно да вот думаю все ты з...   \n",
       "2  ага так так салон и разговоры свет и общество ...   \n",
       "3  вот и я к вам да милая ж вы моя василиса петро...   \n",
       "4  мир вам братие и сестры где тут сидение покреп...   \n",
       "\n",
       "                                               t_lem  \n",
       "0  что задумываться василиса петровна я приходить...  \n",
       "1  да вот думать все холодно да вот думать все ты...  \n",
       "2  ага так так салон и разговор свет и общество ч...  \n",
       "3  вот и я к вы да милый ж вы мой василиса петров...  \n",
       "4  мир вы братий и сестра где тут сидение покрепш...  "
      ]
     },
     "execution_count": 16,
     "metadata": {},
     "output_type": "execute_result"
    }
   ],
   "source": [
    "full_df.head()"
   ]
  },
  {
   "cell_type": "markdown",
   "metadata": {},
   "source": [
    "### 1.3. POS-tagging"
   ]
  },
  {
   "cell_type": "markdown",
   "metadata": {},
   "source": [
    "21 april 2019"
   ]
  },
  {
   "cell_type": "code",
   "execution_count": 17,
   "metadata": {},
   "outputs": [],
   "source": [
    "import pymorphy2\n",
    "morph = pymorphy2.MorphAnalyzer()"
   ]
  },
  {
   "cell_type": "code",
   "execution_count": 18,
   "metadata": {},
   "outputs": [],
   "source": [
    "full_df['t_pos'] = full_df['t_lem'].apply(\n",
    "    lambda x: ' '.join([i + '_' + str(morph.tag(i)[0].POS) for i in x.split()]))"
   ]
  },
  {
   "cell_type": "code",
   "execution_count": 20,
   "metadata": {},
   "outputs": [
    {
     "data": {
      "text/html": [
       "<div>\n",
       "<style scoped>\n",
       "    .dataframe tbody tr th:only-of-type {\n",
       "        vertical-align: middle;\n",
       "    }\n",
       "\n",
       "    .dataframe tbody tr th {\n",
       "        vertical-align: top;\n",
       "    }\n",
       "\n",
       "    .dataframe thead th {\n",
       "        text-align: right;\n",
       "    }\n",
       "</style>\n",
       "<table border=\"1\" class=\"dataframe\">\n",
       "  <thead>\n",
       "    <tr style=\"text-align: right;\">\n",
       "      <th></th>\n",
       "      <th>ID</th>\n",
       "      <th>Gender</th>\n",
       "      <th>Text</th>\n",
       "      <th>t_clean</th>\n",
       "      <th>t_lem</th>\n",
       "      <th>t_pos</th>\n",
       "    </tr>\n",
       "  </thead>\n",
       "  <tbody>\n",
       "    <tr>\n",
       "      <th>0</th>\n",
       "      <td>yakov</td>\n",
       "      <td>0</td>\n",
       "      <td>Что задумались, Василиса Петровна? Я пришел.\\n...</td>\n",
       "      <td>что задумались василиса петровна я пришел ну д...</td>\n",
       "      <td>что задумываться василиса петровна я приходить...</td>\n",
       "      <td>что_CONJ задумываться_INFN василиса_NOUN петро...</td>\n",
       "    </tr>\n",
       "    <tr>\n",
       "      <th>1</th>\n",
       "      <td>vasilisa_petrovna</td>\n",
       "      <td>1</td>\n",
       "      <td>Да вот думаю все.\\nХолодно. Да, вот думаю все....</td>\n",
       "      <td>да вот думаю все холодно да вот думаю все ты з...</td>\n",
       "      <td>да вот думать все холодно да вот думать все ты...</td>\n",
       "      <td>да_PRCL вот_PRCL думать_INFN все_ADJF холодно_...</td>\n",
       "    </tr>\n",
       "    <tr>\n",
       "      <th>2</th>\n",
       "      <td>kulabukhov</td>\n",
       "      <td>0</td>\n",
       "      <td>Ага! Так, так! Салон и разговоры, свет и общес...</td>\n",
       "      <td>ага так так салон и разговоры свет и общество ...</td>\n",
       "      <td>ага так так салон и разговор свет и общество ч...</td>\n",
       "      <td>ага_INTJ так_CONJ так_CONJ салон_NOUN и_CONJ р...</td>\n",
       "    </tr>\n",
       "    <tr>\n",
       "      <th>3</th>\n",
       "      <td>margarita</td>\n",
       "      <td>1</td>\n",
       "      <td>Вот и я к вам. Да милая ж вы моя Василиса Петр...</td>\n",
       "      <td>вот и я к вам да милая ж вы моя василиса петро...</td>\n",
       "      <td>вот и я к вы да милый ж вы мой василиса петров...</td>\n",
       "      <td>вот_PRCL и_CONJ я_NPRO к_PREP вы_NPRO да_PRCL ...</td>\n",
       "    </tr>\n",
       "    <tr>\n",
       "      <th>4</th>\n",
       "      <td>feofan</td>\n",
       "      <td>0</td>\n",
       "      <td>Мир вам, братие и сестры. Где тут сидение покр...</td>\n",
       "      <td>мир вам братие и сестры где тут сидение покреп...</td>\n",
       "      <td>мир вы братий и сестра где тут сидение покрепш...</td>\n",
       "      <td>мир_NOUN вы_NPRO братий_NOUN и_CONJ сестра_NOU...</td>\n",
       "    </tr>\n",
       "  </tbody>\n",
       "</table>\n",
       "</div>"
      ],
      "text/plain": [
       "                  ID  Gender  \\\n",
       "0              yakov       0   \n",
       "1  vasilisa_petrovna       1   \n",
       "2         kulabukhov       0   \n",
       "3          margarita       1   \n",
       "4             feofan       0   \n",
       "\n",
       "                                                Text  \\\n",
       "0  Что задумались, Василиса Петровна? Я пришел.\\n...   \n",
       "1  Да вот думаю все.\\nХолодно. Да, вот думаю все....   \n",
       "2  Ага! Так, так! Салон и разговоры, свет и общес...   \n",
       "3  Вот и я к вам. Да милая ж вы моя Василиса Петр...   \n",
       "4  Мир вам, братие и сестры. Где тут сидение покр...   \n",
       "\n",
       "                                             t_clean  \\\n",
       "0  что задумались василиса петровна я пришел ну д...   \n",
       "1  да вот думаю все холодно да вот думаю все ты з...   \n",
       "2  ага так так салон и разговоры свет и общество ...   \n",
       "3  вот и я к вам да милая ж вы моя василиса петро...   \n",
       "4  мир вам братие и сестры где тут сидение покреп...   \n",
       "\n",
       "                                               t_lem  \\\n",
       "0  что задумываться василиса петровна я приходить...   \n",
       "1  да вот думать все холодно да вот думать все ты...   \n",
       "2  ага так так салон и разговор свет и общество ч...   \n",
       "3  вот и я к вы да милый ж вы мой василиса петров...   \n",
       "4  мир вы братий и сестра где тут сидение покрепш...   \n",
       "\n",
       "                                               t_pos  \n",
       "0  что_CONJ задумываться_INFN василиса_NOUN петро...  \n",
       "1  да_PRCL вот_PRCL думать_INFN все_ADJF холодно_...  \n",
       "2  ага_INTJ так_CONJ так_CONJ салон_NOUN и_CONJ р...  \n",
       "3  вот_PRCL и_CONJ я_NPRO к_PREP вы_NPRO да_PRCL ...  \n",
       "4  мир_NOUN вы_NPRO братий_NOUN и_CONJ сестра_NOU...  "
      ]
     },
     "execution_count": 20,
     "metadata": {},
     "output_type": "execute_result"
    }
   ],
   "source": [
    "full_df.head()"
   ]
  },
  {
   "cell_type": "markdown",
   "metadata": {},
   "source": [
    "### 1.5. Chunks"
   ]
  },
  {
   "cell_type": "markdown",
   "metadata": {},
   "source": [
    "Создаем копию датафрейма, чтоб иметь доступ к обоим вариантам."
   ]
  },
  {
   "cell_type": "code",
   "execution_count": 21,
   "metadata": {},
   "outputs": [],
   "source": [
    "df_chunked = full_df.copy(deep = True)\n",
    "df_chunked = df_chunked.drop(['Text'], axis=1)"
   ]
  },
  {
   "cell_type": "markdown",
   "metadata": {},
   "source": [
    "Режем на чанки относительно медианы по количеству слов"
   ]
  },
  {
   "cell_type": "code",
   "execution_count": 22,
   "metadata": {},
   "outputs": [],
   "source": [
    "df_chunked['len_words'] = full_df['t_lem'].apply(lambda x: len(x.split()))"
   ]
  },
  {
   "cell_type": "code",
   "execution_count": 23,
   "metadata": {},
   "outputs": [
    {
     "name": "stdout",
     "output_type": "stream",
     "text": [
      "148\n"
     ]
    }
   ],
   "source": [
    "w_median = int(df_chunked['len_words'].median())\n",
    "print(w_median)"
   ]
  },
  {
   "cell_type": "code",
   "execution_count": 24,
   "metadata": {},
   "outputs": [],
   "source": [
    "for idx, row in df_chunked.query('len_words > @w_median').iterrows():\n",
    "    \n",
    "    words = row['t_lem'].split()\n",
    "    left  = 0\n",
    "    right = w_median\n",
    "    \n",
    "    while right < len(words):\n",
    "        \n",
    "        df_chunked = df_chunked.append(pd.DataFrame([{'t_clean' : ' '.join(words[left:right]),\n",
    "                                        'ID' : row['ID'],\n",
    "                                        't_lem' : row['t_lem'],\n",
    "                                        't_pos' : row['t_pos'],              \n",
    "                                        'Gender' :    row['Gender'], 'len_words': right-left}]), sort=False)\n",
    "        left += w_median\n",
    "        right += w_median\n",
    "    \n",
    "    df_chunked = df_chunked.append(pd.DataFrame([{'t_clean' : ' '.join(words[left:]),\n",
    "                                    'ID' : row['ID'],\n",
    "                                    't_lem' : row['t_lem'],\n",
    "                                    't_pos' : row['t_pos'], \n",
    "                                    'Gender' :    row['Gender'], 'len_words': len(words)-left}]), sort=False)\n",
    "    \n",
    "\n",
    "df_chunked = df_chunked.query('len_words <= @w_median').reset_index(drop=True)"
   ]
  },
  {
   "cell_type": "code",
   "execution_count": 25,
   "metadata": {},
   "outputs": [],
   "source": [
    "df_chunked = df_chunked.query('len_words == 148').reset_index(drop=True)"
   ]
  },
  {
   "cell_type": "code",
   "execution_count": 26,
   "metadata": {},
   "outputs": [
    {
     "data": {
      "text/plain": [
       "148"
      ]
     },
     "execution_count": 26,
     "metadata": {},
     "output_type": "execute_result"
    }
   ],
   "source": [
    "df_chunked['len_words'].max()"
   ]
  },
  {
   "cell_type": "markdown",
   "metadata": {},
   "source": [
    "drop lem and pos bc they were not cut properly, recount lem"
   ]
  },
  {
   "cell_type": "code",
   "execution_count": 27,
   "metadata": {},
   "outputs": [],
   "source": [
    "df_chunked = df_chunked.drop(['t_lem', 't_pos'], axis=1)"
   ]
  },
  {
   "cell_type": "code",
   "execution_count": 28,
   "metadata": {},
   "outputs": [],
   "source": [
    "df_chunked['t_lem'] = df_chunked['t_clean'].apply(lambda x: ''.join(special_lemmatization(x)).strip('\\n'))"
   ]
  },
  {
   "cell_type": "code",
   "execution_count": null,
   "metadata": {},
   "outputs": [],
   "source": []
  },
  {
   "cell_type": "code",
   "execution_count": 37,
   "metadata": {
    "scrolled": false
   },
   "outputs": [],
   "source": [
    "#for i in range(10):\n",
    "#    print(i)\n",
    "#    print('gender' + ' ' + str(df_chunked['Gender'][i]))\n",
    "#    print(df_chunked['t_lem'][i])\n",
    "#    print()"
   ]
  },
  {
   "cell_type": "code",
   "execution_count": 33,
   "metadata": {},
   "outputs": [
    {
     "data": {
      "text/html": [
       "<div>\n",
       "<style scoped>\n",
       "    .dataframe tbody tr th:only-of-type {\n",
       "        vertical-align: middle;\n",
       "    }\n",
       "\n",
       "    .dataframe tbody tr th {\n",
       "        vertical-align: top;\n",
       "    }\n",
       "\n",
       "    .dataframe thead th {\n",
       "        text-align: right;\n",
       "    }\n",
       "</style>\n",
       "<table border=\"1\" class=\"dataframe\">\n",
       "  <thead>\n",
       "    <tr style=\"text-align: right;\">\n",
       "      <th></th>\n",
       "      <th>ID</th>\n",
       "      <th>Gender</th>\n",
       "      <th>t_clean</th>\n",
       "      <th>len_words</th>\n",
       "      <th>t_lem</th>\n",
       "    </tr>\n",
       "  </thead>\n",
       "  <tbody>\n",
       "    <tr>\n",
       "      <th>0</th>\n",
       "      <td>EscheLiterator</td>\n",
       "      <td>0</td>\n",
       "      <td>поверьте мне я знаю это дело отвратительная пь...</td>\n",
       "      <td>148</td>\n",
       "      <td>поверять я я знать этот дело отвратительный пь...</td>\n",
       "    </tr>\n",
       "    <tr>\n",
       "      <th>1</th>\n",
       "      <td>elizaveta</td>\n",
       "      <td>1</td>\n",
       "      <td>они пьют как воробушки а там булычов рычит  сл...</td>\n",
       "      <td>148</td>\n",
       "      <td>они пить как воробушек а там булычовый рычать ...</td>\n",
       "    </tr>\n",
       "    <tr>\n",
       "      <th>2</th>\n",
       "      <td>yakov</td>\n",
       "      <td>0</td>\n",
       "      <td>что задумываться василиса петровна я приходить...</td>\n",
       "      <td>148</td>\n",
       "      <td>что задумываться василиса петровна я приходить...</td>\n",
       "    </tr>\n",
       "    <tr>\n",
       "      <th>3</th>\n",
       "      <td>yakov</td>\n",
       "      <td>0</td>\n",
       "      <td>я это увидеть а сейчас спать что ж можно и на ...</td>\n",
       "      <td>148</td>\n",
       "      <td>я это увидеть а сейчас спать что ж можно и на ...</td>\n",
       "    </tr>\n",
       "    <tr>\n",
       "      <th>4</th>\n",
       "      <td>yakov</td>\n",
       "      <td>0</td>\n",
       "      <td>такой не находить другой что походить я повида...</td>\n",
       "      <td>148</td>\n",
       "      <td>такой не находить другой что походить я повида...</td>\n",
       "    </tr>\n",
       "  </tbody>\n",
       "</table>\n",
       "</div>"
      ],
      "text/plain": [
       "               ID  Gender                                            t_clean  \\\n",
       "0  EscheLiterator       0  поверьте мне я знаю это дело отвратительная пь...   \n",
       "1       elizaveta       1  они пьют как воробушки а там булычов рычит  сл...   \n",
       "2           yakov       0  что задумываться василиса петровна я приходить...   \n",
       "3           yakov       0  я это увидеть а сейчас спать что ж можно и на ...   \n",
       "4           yakov       0  такой не находить другой что походить я повида...   \n",
       "\n",
       "   len_words                                              t_lem  \n",
       "0        148  поверять я я знать этот дело отвратительный пь...  \n",
       "1        148  они пить как воробушек а там булычовый рычать ...  \n",
       "2        148  что задумываться василиса петровна я приходить...  \n",
       "3        148  я это увидеть а сейчас спать что ж можно и на ...  \n",
       "4        148  такой не находить другой что походить я повида...  "
      ]
     },
     "execution_count": 33,
     "metadata": {},
     "output_type": "execute_result"
    }
   ],
   "source": [
    "df_chunked.head()"
   ]
  },
  {
   "cell_type": "code",
   "execution_count": 34,
   "metadata": {},
   "outputs": [
    {
     "data": {
      "text/plain": [
       "0    7613\n",
       "1    3616\n",
       "Name: Gender, dtype: int64"
      ]
     },
     "execution_count": 34,
     "metadata": {},
     "output_type": "execute_result"
    }
   ],
   "source": [
    "df_chunked['Gender'].value_counts()"
   ]
  },
  {
   "cell_type": "markdown",
   "metadata": {},
   "source": [
    "# 2. MODELS"
   ]
  },
  {
   "cell_type": "markdown",
   "metadata": {},
   "source": [
    "### 2.1 Train/test Split"
   ]
  },
  {
   "cell_type": "markdown",
   "metadata": {},
   "source": [
    "I split for train\\test with a stable random state, shuffle it and stratify according to the tagdet (male/female)"
   ]
  },
  {
   "cell_type": "code",
   "execution_count": 35,
   "metadata": {},
   "outputs": [],
   "source": [
    "from sklearn.model_selection import (\n",
    "    train_test_split, StratifiedKFold, GridSearchCV, RandomizedSearchCV)"
   ]
  },
  {
   "cell_type": "code",
   "execution_count": 36,
   "metadata": {},
   "outputs": [],
   "source": [
    "data = df_chunked['t_lem'].tolist()\n",
    "target = df_chunked['Gender']"
   ]
  },
  {
   "cell_type": "code",
   "execution_count": 37,
   "metadata": {},
   "outputs": [],
   "source": [
    "X_train, X_test, y_train, y_test =\\\n",
    "    train_test_split(data, target,\n",
    "                     test_size=0.2, shuffle=True, random_state=42, stratify=target)"
   ]
  },
  {
   "cell_type": "code",
   "execution_count": null,
   "metadata": {},
   "outputs": [],
   "source": [
    "data[0]"
   ]
  },
  {
   "cell_type": "code",
   "execution_count": null,
   "metadata": {},
   "outputs": [],
   "source": [
    "len(data[2])"
   ]
  },
  {
   "cell_type": "code",
   "execution_count": 108,
   "metadata": {},
   "outputs": [
    {
     "data": {
      "text/plain": [
       "8983"
      ]
     },
     "execution_count": 108,
     "metadata": {},
     "output_type": "execute_result"
    }
   ],
   "source": [
    "len(X_train)"
   ]
  },
  {
   "cell_type": "code",
   "execution_count": 131,
   "metadata": {},
   "outputs": [
    {
     "data": {
      "text/plain": [
       "8983"
      ]
     },
     "execution_count": 131,
     "metadata": {},
     "output_type": "execute_result"
    }
   ],
   "source": [
    "len(y_train)"
   ]
  },
  {
   "cell_type": "code",
   "execution_count": 132,
   "metadata": {},
   "outputs": [
    {
     "data": {
      "text/plain": [
       "2246"
      ]
     },
     "execution_count": 132,
     "metadata": {},
     "output_type": "execute_result"
    }
   ],
   "source": [
    "len(y_test)"
   ]
  },
  {
   "cell_type": "code",
   "execution_count": 109,
   "metadata": {},
   "outputs": [
    {
     "data": {
      "text/plain": [
       "2246"
      ]
     },
     "execution_count": 109,
     "metadata": {},
     "output_type": "execute_result"
    }
   ],
   "source": [
    "len(X_test)"
   ]
  },
  {
   "cell_type": "code",
   "execution_count": 110,
   "metadata": {},
   "outputs": [],
   "source": [
    "lem_len = df_chunked['t_lem'].apply(lambda x: len(x.split()))"
   ]
  },
  {
   "cell_type": "code",
   "execution_count": 111,
   "metadata": {},
   "outputs": [
    {
     "data": {
      "text/plain": [
       "148"
      ]
     },
     "execution_count": 111,
     "metadata": {},
     "output_type": "execute_result"
    }
   ],
   "source": [
    "max(lem_len)"
   ]
  },
  {
   "cell_type": "code",
   "execution_count": 83,
   "metadata": {},
   "outputs": [
    {
     "data": {
      "text/plain": [
       "'якого полка якого полка нога поморозить а чом же це ты не взять посвидченье вид штаб свой полк а якого полк знать вы сечевик вси зрадник изменник большевик скидать сапог скидать и если ты не поморозить нога а брехать то я ты тут же расстреливать хлопец фонарь и вот ты условие нога здоровый быть ты у я на тот свет отходить сзади чтобы я в кто нибудь не попадать записка треба було узять записка мразь а не бежать из полк взять он под арест и под арест до лазарет як он ликарь нога перевязывать вернуть он сюд в штаб и давать он пятнадцать шомполив щоба вино знать як без документ бегать с свой полк хлопец що там що хлопец разведка по конь по конь садиться садиться кирпатый а ну проскачить за они тилька живой вызьмить живой с что задерживать що товарищ кто ж тут ты товарищ я ты не господин господин все с гетман в город сейчас и мы твой господин кишка повыматывать хлопец давать он ты близкий урезать этот господин по шея теперь бачить як господин тут видеть освещать он хлопец мень щесь здаться що вино коммунист документ с чем корзина куда идти почему ночь покорно благодарить пан полковник садиться садиться по конь живьем живьем возмить его хлопец что ж вы выпускать он хлопец эх шляпа '"
      ]
     },
     "execution_count": 83,
     "metadata": {},
     "output_type": "execute_result"
    }
   ],
   "source": []
  },
  {
   "cell_type": "markdown",
   "metadata": {},
   "source": [
    "### 2.2. Vectorization"
   ]
  },
  {
   "cell_type": "markdown",
   "metadata": {},
   "source": [
    "### 2.2.1. BOW"
   ]
  },
  {
   "cell_type": "code",
   "execution_count": 112,
   "metadata": {},
   "outputs": [],
   "source": [
    "from sklearn.feature_extraction.text import CountVectorizer\n",
    "import numpy as np"
   ]
  },
  {
   "cell_type": "code",
   "execution_count": 160,
   "metadata": {},
   "outputs": [],
   "source": [
    "vectorizer = CountVectorizer(ngram_range=(1,5))#, min_df=100, max_df=0.7)"
   ]
  },
  {
   "cell_type": "markdown",
   "metadata": {},
   "source": [
    "First I have decided to vectorize the POS-tagged text, taking into account only those words that have high document friquency. I assume that they will mostly be prepositions and other auxiliary parts of speech. I will find out  below if my assumption is correct."
   ]
  },
  {
   "cell_type": "code",
   "execution_count": 161,
   "metadata": {},
   "outputs": [],
   "source": [
    "X_train_bow = vectorizer.fit_transform(X_train)\n",
    "X_test_bow = vectorizer.transform(X_test)\n",
    "vocabulary = np.array(vectorizer.get_feature_names())"
   ]
  },
  {
   "cell_type": "code",
   "execution_count": 162,
   "metadata": {},
   "outputs": [
    {
     "data": {
      "text/plain": [
       "3802453"
      ]
     },
     "execution_count": 162,
     "metadata": {},
     "output_type": "execute_result"
    }
   ],
   "source": [
    "len(vocabulary.tolist())"
   ]
  },
  {
   "cell_type": "code",
   "execution_count": 163,
   "metadata": {},
   "outputs": [
    {
     "data": {
      "text/plain": [
       "['аа',\n",
       " 'аа его',\n",
       " 'аа его попечение',\n",
       " 'аа его попечение около',\n",
       " 'аа его попечение около то',\n",
       " 'аа ну',\n",
       " 'аа ну господин',\n",
       " 'аа ну господин теперь',\n",
       " 'аа ну господин теперь урок',\n",
       " 'ааа',\n",
       " 'ааа вы',\n",
       " 'ааа вы не',\n",
       " 'ааа вы не мочь',\n",
       " 'ааа вы не мочь отвечайт',\n",
       " 'ааа седой',\n",
       " 'ааа седой борода',\n",
       " 'ааа седой борода шкилет',\n",
       " 'ааа седой борода шкилет не',\n",
       " 'ааа теперь',\n",
       " 'ааа теперь понимать',\n",
       " 'ааа теперь понимать ну',\n",
       " 'ааа теперь понимать ну если',\n",
       " 'аааа',\n",
       " 'аааа ах',\n",
       " 'аааа ах ты',\n",
       " 'аааа ах ты боже',\n",
       " 'аааа ах ты боже мой',\n",
       " 'ааствовать',\n",
       " 'ааствовать милый',\n",
       " 'ааствовать милый хороший',\n",
       " 'ааствовать милый хороший мой',\n",
       " 'ааствовать милый хороший мой чернобровый',\n",
       " 'абба',\n",
       " 'абба россия',\n",
       " 'абба россия говорить',\n",
       " 'абба россия говорить рождаться',\n",
       " 'абба россия говорить рождаться не',\n",
       " 'аббас',\n",
       " 'аббас он',\n",
       " 'аббас он приязнь',\n",
       " 'аббас он приязнь то',\n",
       " 'аббас он приязнь то более',\n",
       " 'аббас рад',\n",
       " 'аббас рад дружба',\n",
       " 'аббас рад дружба пребывать',\n",
       " 'аббас рад дружба пребывать но',\n",
       " 'аббат',\n",
       " 'аббат монастырь',\n",
       " 'аббат монастырь святой',\n",
       " 'аббат монастырь святой денис',\n",
       " 'аббат монастырь святой денис родственник',\n",
       " 'аббат ускакивать',\n",
       " 'аббат ускакивать подруга',\n",
       " 'аббат ускакивать подруга себя',\n",
       " 'аббат ускакивать подруга себя по',\n",
       " 'абвокат',\n",
       " 'абвокат ай',\n",
       " 'абвокат ай да',\n",
       " 'абвокат ай да ты',\n",
       " 'абвокат ай да ты где',\n",
       " 'абвокат да',\n",
       " 'абвокат да сам',\n",
       " 'абвокат да сам говорить',\n",
       " 'абвокат да сам говорить вид',\n",
       " 'абвокат как',\n",
       " 'абвокат как же',\n",
       " 'абвокат как же это',\n",
       " 'абвокат как же это вы',\n",
       " 'абвокат как же это мы',\n",
       " 'абвокат мосевна',\n",
       " 'абвокат мосевна тихон',\n",
       " 'абвокат мосевна тихон кондратьич',\n",
       " 'абвокат мосевна тихон кондратьич из',\n",
       " 'абвокат пойти',\n",
       " 'абвокат пойти дело',\n",
       " 'абвокат пойти дело пойти',\n",
       " 'абвокат пойти дело пойти пойти',\n",
       " 'абвокат про',\n",
       " 'абвокат про вавилонский',\n",
       " 'абвокат про вавилонский царь',\n",
       " 'абвокат про вавилонский царь рассказывать',\n",
       " 'абвокат ты',\n",
       " 'абвокат ты ваня',\n",
       " 'абвокат ты ваня что',\n",
       " 'абвокат ты ваня что это',\n",
       " 'абвокат хорошо',\n",
       " 'абвокатов',\n",
       " 'абвокатов разводиться',\n",
       " 'абвокатов разводиться несть',\n",
       " 'абвокатов разводиться несть число',\n",
       " 'абвокатов разводиться несть число уж',\n",
       " 'абвокатство',\n",
       " 'абвокатство быть',\n",
       " 'абвокатство быть время',\n",
       " 'абвокатство быть время да',\n",
       " 'абвокатство быть время да проходить',\n",
       " 'абдулин',\n",
       " 'абдулин видеть',\n",
       " 'абдулин видеть что',\n",
       " 'абдулин видеть что городничий',\n",
       " 'абдулин видеть что городничий старый',\n",
       " 'абдулин постоять',\n",
       " 'абдулин постоять давать',\n",
       " 'абдулин постоять давать ты',\n",
       " 'абдулин постоять давать ты записочка',\n",
       " 'абдулин приносить',\n",
       " 'абдулин приносить оттуда',\n",
       " 'абдулин приносить оттуда вино',\n",
       " 'абдулин приносить оттуда вино сам',\n",
       " 'абдулин черт',\n",
       " 'абдулин черт знать',\n",
       " 'абдулин черт знать что',\n",
       " 'абдулин черт знать что чина',\n",
       " 'абдулин чтобы',\n",
       " 'абдулин чтобы присылать',\n",
       " 'абдулин чтобы присылать сам',\n",
       " 'абдулин чтобы присылать сам хороший',\n",
       " 'абиссинец',\n",
       " 'абиссинец на',\n",
       " 'абиссинец на век',\n",
       " 'абиссинец на век на',\n",
       " 'абиссинец на век на весь',\n",
       " 'аблакат',\n",
       " 'аблакат дернуть',\n",
       " 'аблакат дернуть полюбовник',\n",
       " 'аблакат дернуть полюбовник каков',\n",
       " 'аблакат дернуть полюбовник каков самый',\n",
       " 'аблакат ребенок',\n",
       " 'аблакат ребенок прижила',\n",
       " 'аблакат ребенок прижила зять',\n",
       " 'аблакат ребенок прижила зять около',\n",
       " 'абонемент',\n",
       " 'абонемент на',\n",
       " 'абонемент на настоящий',\n",
       " 'абонемент на настоящий сезон',\n",
       " 'абонемент на настоящий сезон не',\n",
       " 'абордаж',\n",
       " 'абордаж не',\n",
       " 'абордаж не надо',\n",
       " 'абордаж не надо он',\n",
       " 'абордаж не надо он не',\n",
       " 'абрам',\n",
       " 'абрам абрашка',\n",
       " 'абрам абрашка наташа',\n",
       " 'абрам абрашка наташа хворать',\n",
       " 'абрам абрашка наташа хворать нет',\n",
       " 'абрам иваныч',\n",
       " 'абрам иваныч ничто',\n",
       " 'абрам иваныч ничто вытаскивать',\n",
       " 'абрам иваныч ничто вытаскивать нет',\n",
       " 'абрам идти',\n",
       " 'абрам идти василиса',\n",
       " 'абрам идти василиса наташка',\n",
       " 'абрам идти василиса наташка убивать',\n",
       " 'абрам ты',\n",
       " 'абрам ты какой',\n",
       " 'абрам ты какой дело',\n",
       " 'абрам ты какой дело это',\n",
       " 'абрамка',\n",
       " 'абрамка большой',\n",
       " 'абрамка большой барыня',\n",
       " 'абрамка большой барыня абрамка',\n",
       " 'абрамка большой барыня абрамка ты',\n",
       " 'абрамка ты',\n",
       " 'абрамка ты обвенчаться',\n",
       " 'абрамка ты обвенчаться только',\n",
       " 'абрамка ты обвенчаться только то',\n",
       " 'абрамович',\n",
       " 'абрамович вы',\n",
       " 'абрамович вы близко',\n",
       " 'абрамович вы близко петя',\n",
       " 'абрамович вы близко петя не',\n",
       " 'абрамыч',\n",
       " 'абрамыч вы',\n",
       " 'абрамыч вы ничто',\n",
       " 'абрамыч вы ничто новенький',\n",
       " 'абрамыч вы ничто новенький не',\n",
       " 'абрамыч думать',\n",
       " 'абрамыч думать гадать',\n",
       " 'абрамыч думать гадать нет',\n",
       " 'абрамыч думать гадать нет ли',\n",
       " 'абрашка',\n",
       " 'абрашка наташа',\n",
       " 'абрашка наташа хворать',\n",
       " 'абрашка наташа хворать нет',\n",
       " 'абрашка наташа хворать нет ты',\n",
       " 'абрикосовский',\n",
       " 'абрикосовский конфета',\n",
       " 'абрикосовский конфета ну',\n",
       " 'абрикосовский конфета ну теперь',\n",
       " 'абрикосовский конфета ну теперь по',\n",
       " 'абсолюман',\n",
       " 'абсолюман пароль',\n",
       " 'абсолюман пароль донр',\n",
       " 'абсолюман пароль донр честный',\n",
       " 'абсолюман пароль донр честный слово',\n",
       " 'абсолютно',\n",
       " 'абсолютно безразлично',\n",
       " 'абсолютно безразлично достаточно',\n",
       " 'абсолютно безразлично достаточно то',\n",
       " 'абсолютно безразлично достаточно то что',\n",
       " 'абсолютно весь',\n",
       " 'абсолютно весь необходимый',\n",
       " 'абсолютно весь необходимый чтобы',\n",
       " 'абсолютно весь необходимый чтобы вести',\n",
       " 'абсолютно не',\n",
       " 'абсолютно не понимать',\n",
       " 'абсолютно не понимать давно',\n",
       " 'абсолютно не понимать давно давно',\n",
       " 'абсолютно свободный',\n",
       " 'абсолютно свободный хор',\n",
       " 'абсолютно свободный хор надобность',\n",
       " 'абсолютно свободный хор надобность тоже',\n",
       " 'абсолютный',\n",
       " 'абсолютный недоверие',\n",
       " 'абсолютный недоверие постоянный',\n",
       " 'абсолютный недоверие постоянный надзор',\n",
       " 'абсолютный недоверие постоянный надзор как',\n",
       " 'абсолютный покой',\n",
       " 'абсолютный покой ваш',\n",
       " 'абсолютный покой ваш жена',\n",
       " 'абсолютный покой ваш жена не',\n",
       " 'абстрактность',\n",
       " 'абстрактность быть',\n",
       " 'абстрактность быть конкретный',\n",
       " 'абстрактность быть конкретный гражданка',\n",
       " 'абстрактность быть конкретный гражданка олонина',\n",
       " 'абхазия',\n",
       " 'абхазия освобождать',\n",
       " 'абхазия освобождать ты',\n",
       " 'абхазия освобождать ты сказать',\n",
       " 'абхазия освобождать ты сказать что',\n",
       " 'ава',\n",
       " 'ава ава',\n",
       " 'ава ава ава',\n",
       " 'ава ава ава ну',\n",
       " 'ава ава ава ну быть',\n",
       " 'ава ава ну',\n",
       " 'ава ава ну быть',\n",
       " 'ава ава ну быть ли',\n",
       " 'ава ну',\n",
       " 'ава ну быть',\n",
       " 'ава ну быть ли',\n",
       " 'ава ну быть ли что',\n",
       " 'авангард',\n",
       " 'авангард вы',\n",
       " 'авангард вы знать',\n",
       " 'авангард вы знать очень',\n",
       " 'авангард вы знать очень легко',\n",
       " 'аванзировать',\n",
       " 'аванзировать пез',\n",
       " 'аванзировать пез россиска',\n",
       " 'аванзировать пез россиска крамат',\n",
       " 'аванзировать пез россиска крамат как',\n",
       " 'аванс',\n",
       " 'аванс на',\n",
       " 'аванс на весь',\n",
       " 'аванс на весь триста',\n",
       " 'аванс на весь триста процент',\n",
       " 'авантаж',\n",
       " 'авантаж осторожно',\n",
       " 'авантаж осторожно надо',\n",
       " 'авантаж осторожно надо сударь',\n",
       " 'авантаж осторожно надо сударь недаром',\n",
       " 'авантаж свой',\n",
       " 'авантаж свой не',\n",
       " 'авантаж свой не знать',\n",
       " 'авантаж свой не знать отметать',\n",
       " 'авантаж то',\n",
       " 'авантаж то много',\n",
       " 'авантаж то много ли',\n",
       " 'авантаж то много ли быть',\n",
       " 'авантажный',\n",
       " 'авантажный еще',\n",
       " 'авантажный еще вопрос',\n",
       " 'авантажный еще вопрос один',\n",
       " 'авантажный еще вопрос один так',\n",
       " 'авантажный избушка',\n",
       " 'авантажный избушка на',\n",
       " 'авантажный избушка на курий',\n",
       " 'авантажный избушка на курий ножка',\n",
       " 'авантажный они',\n",
       " 'авантажный они вешать',\n",
       " 'авантажный они вешать то',\n",
       " 'авантажный они вешать то простой',\n",
       " 'авария',\n",
       " 'авария да',\n",
       " 'авария да пока',\n",
       " 'авария да пока вы',\n",
       " 'авария да пока вы ставить',\n",
       " 'аввакум',\n",
       " 'аввакум аввакум',\n",
       " 'аввакум аввакум ни',\n",
       " 'аввакум аввакум ни один',\n",
       " 'аввакум аввакум ни один человек',\n",
       " 'аввакум ни',\n",
       " 'аввакум ни один',\n",
       " 'аввакум ни один человек',\n",
       " 'аввакум ни один человек нет',\n",
       " 'август',\n",
       " 'август быть',\n",
       " 'август быть продавать',\n",
       " 'август быть продавать имение',\n",
       " 'август быть продавать имение вот',\n",
       " 'август быть продаваться',\n",
       " 'август быть продаваться вишневый',\n",
       " 'август быть продаваться вишневый сад',\n",
       " 'август вишневый',\n",
       " 'август вишневый сад',\n",
       " 'август вишневый сад весь',\n",
       " 'август вишневый сад весь имение',\n",
       " 'август во',\n",
       " 'август во всякий',\n",
       " 'август во всякий случай',\n",
       " 'август во всякий случай не',\n",
       " 'август засаживаться',\n",
       " 'август засаживаться мы',\n",
       " 'август засаживаться мы траншея',\n",
       " 'август засаживаться мы траншея он',\n",
       " 'август идти',\n",
       " 'август идти снег',\n",
       " 'август идти снег стоить',\n",
       " 'август идти снег стоить он',\n",
       " 'август назначать',\n",
       " 'август назначать торги',\n",
       " 'август назначать торги но',\n",
       " 'август назначать торги но вы',\n",
       " 'август не',\n",
       " 'август не быть',\n",
       " 'август не быть вода',\n",
       " 'август не быть вода уж',\n",
       " 'август не быть никто',\n",
       " 'август не быть никто пусть',\n",
       " 'август но',\n",
       " 'август но все',\n",
       " 'август но все день',\n",
       " 'август но все день на',\n",
       " 'август ночь',\n",
       " 'август ночь громадный',\n",
       " 'август ночь громадный костер',\n",
       " 'август ночь громадный костер но',\n",
       " 'август ну',\n",
       " 'август ну что',\n",
       " 'август ну что белеть',\n",
       " 'август ну что белеть небо',\n",
       " 'август сентябрь',\n",
       " 'август сентябрь шалить',\n",
       " 'август сентябрь шалить не',\n",
       " 'август сентябрь шалить не взять',\n",
       " 'август то',\n",
       " 'август то месяц',\n",
       " 'август то месяц да',\n",
       " 'август то месяц да не',\n",
       " 'август этот',\n",
       " 'август этот как',\n",
       " 'август этот как он',\n",
       " 'август этот как он как',\n",
       " 'авда',\n",
       " 'авда ты',\n",
       " 'авда ты старик',\n",
       " 'авда ты старик утешать',\n",
       " 'авда ты старик утешать весь',\n",
       " 'авдеич',\n",
       " 'авдеич быть',\n",
       " 'авдеич быть животик',\n",
       " 'авдеич быть животик евграф',\n",
       " 'авдеич быть животик евграф то',\n",
       " 'авдеич порастратиться',\n",
       " 'авдеич порастратиться так',\n",
       " 'авдеич порастратиться так мочь',\n",
       " 'авдеич порастратиться так мочь быть',\n",
       " 'авдей',\n",
       " 'авдей михайлович',\n",
       " 'авдей михайлович мы',\n",
       " 'авдей михайлович мы весь',\n",
       " 'авдей михайлович мы весь молчать',\n",
       " 'авдей михайлович посошок',\n",
       " 'авдей михайлович посошок лиза',\n",
       " 'авдей михайлович посошок лиза богатый',\n",
       " 'авдотьюшка',\n",
       " 'авдотьюшка грех',\n",
       " 'авдотьюшка грех то',\n",
       " 'авдотьюшка грех то грех',\n",
       " 'авдотьюшка грех то грех какой',\n",
       " 'авдотьюшка пожаловать',\n",
       " 'авдотьюшка пожаловать сюда',\n",
       " 'авдотьюшка пожаловать сюда кулек',\n",
       " 'авдотьюшка пожаловать сюда кулек тут',\n",
       " 'авдотьюшка что',\n",
       " 'авдотьюшка что же',\n",
       " 'авдотьюшка что же это',\n",
       " 'авдотьюшка что же это быть',\n",
       " 'авдотья',\n",
       " 'авдотья занимать',\n",
       " 'авдотья занимать ты',\n",
       " 'авдотья занимать ты дала',\n",
       " 'авдотья занимать ты дала господи',\n",
       " 'авдотья идти',\n",
       " 'авдотья идти за',\n",
       " 'авдотья который',\n",
       " 'авдотья который не',\n",
       " 'авдотья который не знать',\n",
       " 'авдотья который не знать за',\n",
       " 'авдотья любить',\n",
       " 'авдотья любить ты',\n",
       " 'авдотья любить ты авдотья',\n",
       " 'авдотья любить ты авдотья славный',\n",
       " 'авдотья максимовна',\n",
       " 'авдотья максимовна бог',\n",
       " 'авдотья максимовна бог милостивый',\n",
       " 'авдотья максимовна бог милостивый дело',\n",
       " 'авдотья максимовна быть',\n",
       " 'авдотья максимовна быть же',\n",
       " 'авдотья максимовна быть же во',\n",
       " 'авдотья максимовна быть на',\n",
       " 'авдотья максимовна быть на тот',\n",
       " 'авдотья максимовна влюбленный',\n",
       " 'авдотья максимовна влюбленный бы',\n",
       " 'авдотья максимовна влюбленный бы свозить',\n",
       " 'авдотья максимовна вспомнить',\n",
       " 'авдотья максимовна вспомнить быть',\n",
       " 'авдотья максимовна вспомнить быть времячко',\n",
       " 'авдотья максимовна всячески',\n",
       " 'авдотья максимовна всячески стараться',\n",
       " 'авдотья максимовна всячески стараться как',\n",
       " 'авдотья максимовна грех',\n",
       " 'авдотья максимовна грех вы',\n",
       " 'авдотья максимовна грех вы вспомнить',\n",
       " 'авдотья максимовна до',\n",
       " 'авдотья максимовна до безумие',\n",
       " 'авдотья максимовна до безумие как',\n",
       " 'авдотья максимовна ехать',\n",
       " 'авдотья максимовна ехать отсюда',\n",
       " 'авдотья максимовна ехать отсюда зачем',\n",
       " 'авдотья максимовна как',\n",
       " 'авдотья максимовна как они',\n",
       " 'авдотья максимовна как они человек',\n",
       " 'авдотья максимовна не',\n",
       " 'авдотья максимовна не плакать',\n",
       " 'авдотья максимовна не плакать переставать',\n",
       " 'авдотья максимовна но',\n",
       " 'авдотья максимовна но мы',\n",
       " 'авдотья максимовна но мы хотеть',\n",
       " 'авдотья максимовна она',\n",
       " 'авдотья максимовна она ходить',\n",
       " 'авдотья максимовна она ходить иногда',\n",
       " 'авдотья максимовна отдавать',\n",
       " 'авдотья максимовна отдавать авдотья',\n",
       " 'авдотья максимовна отдавать авдотья максимовна',\n",
       " 'авдотья максимовна порадоваться',\n",
       " 'авдотья максимовна порадоваться они',\n",
       " 'авдотья максимовна порадоваться они пойти',\n",
       " 'авдотья максимовна разве',\n",
       " 'авдотья максимовна разве быть',\n",
       " 'авдотья максимовна разве быть где',\n",
       " 'авдотья максимовна слава',\n",
       " 'авдотья максимовна слава бог',\n",
       " 'авдотья максимовна слава бог покорно',\n",
       " 'авдотья максимовна слышать',\n",
       " 'авдотья максимовна слышать вы',\n",
       " 'авдотья максимовна слышать вы выходить',\n",
       " 'авдотья максимовна так',\n",
       " 'авдотья максимовна так думать',\n",
       " 'авдотья максимовна так думать этот',\n",
       " 'авдотья максимовна так обиженный',\n",
       " 'авдотья максимовна так обиженный кругом',\n",
       " 'авдотья максимовна так это',\n",
       " 'авдотья максимовна так это для',\n",
       " 'авдотья максимовна теперь',\n",
       " 'авдотья максимовна теперь ажио',\n",
       " 'авдотья максимовна теперь ажио слеза',\n",
       " 'авдотья мой',\n",
       " 'авдотья мой последний',\n",
       " 'авдотья мой последний слово',\n",
       " 'авдотья мой последний слово или',\n",
       " 'авдотья назаровна',\n",
       " 'авдотья назаровна сиятельный',\n",
       " 'авдотья назаровна сиятельный граф',\n",
       " 'авдотья назаровна сиятельный граф уф',\n",
       " 'авдотья назаровна трудно',\n",
       " 'авдотья назаровна трудно теперь',\n",
       " 'авдотья назаровна трудно теперь жених',\n",
       " 'авдотья подлец',\n",
       " 'авдотья подлец что',\n",
       " 'авдотья подлец что же',\n",
       " 'авдотья подлец что же сказать',\n",
       " 'авдотья славный',\n",
       " 'авдотья славный баба',\n",
       " 'авдотья славный баба сколько',\n",
       " 'авдотья славный баба сколько ты',\n",
       " 'авдотья спать',\n",
       " 'авдотья спать отводить',\n",
       " 'авдотья спать отводить вести',\n",
       " 'авдотья спать отводить вести он',\n",
       " 'авдотья спаться',\n",
       " 'авдотья спаться так',\n",
       " 'авдотья спаться так что',\n",
       " 'авдотья спаться так что не',\n",
       " 'авдотья ступать',\n",
       " 'авдотья ступать кладовая',\n",
       " 'авдотья ступать кладовая вынимать',\n",
       " 'авдотья ступать кладовая вынимать ковер',\n",
       " 'авдотья ты',\n",
       " 'авдотья ты слышать',\n",
       " 'авдотья ты слышать там',\n",
       " 'авдотья ты слышать там приезжать',\n",
       " 'авдотья федоровна',\n",
       " 'авдотья федоровна на',\n",
       " 'авдотья федоровна на пара',\n",
       " 'авдотья федоровна на пара слово',\n",
       " 'авдотья федоровна не',\n",
       " 'авдотья федоровна не желать',\n",
       " 'авдотья федоровна не желать видеть',\n",
       " 'авдотья что',\n",
       " 'авдотья что авдотья',\n",
       " 'авдотья что авдотья ты',\n",
       " 'авдотья что авдотья ты слышать',\n",
       " 'авель',\n",
       " 'авель быть',\n",
       " 'авель быть тоже',\n",
       " 'авель быть тоже брат',\n",
       " 'авель быть тоже брат каин',\n",
       " 'авель они',\n",
       " 'авель они не',\n",
       " 'авель они не быть',\n",
       " 'авель они не быть равный',\n",
       " 'авель убивать',\n",
       " 'авель убивать наследство',\n",
       " 'авель убивать наследство же',\n",
       " 'авель убивать наследство же не',\n",
       " 'авертеть',\n",
       " 'авертеть киль',\n",
       " 'авертеть киль не',\n",
       " 'авертеть киль не виендра',\n",
       " 'авертеть киль не виендра па',\n",
       " 'авиационный',\n",
       " 'авиационный бомба',\n",
       " 'авиационный бомба проникать',\n",
       " 'авиационный бомба проникать любой',\n",
       " 'авиационный бомба проникать любой убежище',\n",
       " 'авиация',\n",
       " 'авиация вообще',\n",
       " 'авиация вообще искусство',\n",
       " 'авиация вообще искусство очень',\n",
       " 'авиация вообще искусство очень очень',\n",
       " 'авиация соединять',\n",
       " 'авиация соединять штат',\n",
       " 'авиация соединять штат мочь',\n",
       " 'авиация соединять штат мочь быть',\n",
       " 'авось',\n",
       " 'авось бог',\n",
       " 'авось бог вынести',\n",
       " 'авось бог вынести теперь',\n",
       " 'авось бог вынести теперь вы',\n",
       " 'авось бог прощать',\n",
       " 'авось бог прощать да',\n",
       " 'авось бог прощать да занапрасно',\n",
       " 'авось бы',\n",
       " 'авось бы чувство',\n",
       " 'авось бы чувство приходить',\n",
       " 'авось бы чувство приходить бы',\n",
       " 'авось быть',\n",
       " 'авось быть жить',\n",
       " 'авось быть жить порядочно',\n",
       " 'авось быть жить порядочно весь',\n",
       " 'авось вы',\n",
       " 'авось вы пожаловать',\n",
       " 'авось вы пожаловать не',\n",
       " 'авось вы пожаловать не видать',\n",
       " 'авось вывозить',\n",
       " 'авось вывозить валет',\n",
       " 'авось вывозить валет тьфу',\n",
       " 'авось вывозить валет тьфу пропасть',\n",
       " 'авось давать',\n",
       " 'авось давать он',\n",
       " 'авось давать он деньги',\n",
       " 'авось давать он деньги думать',\n",
       " 'авось добрый',\n",
       " 'авось добрый человек',\n",
       " 'авось добрый человек находиться',\n",
       " 'авось добрый человек находиться не',\n",
       " 'авось если',\n",
       " 'авось если вы',\n",
       " 'авось если вы точно',\n",
       " 'авось если вы точно иметь',\n",
       " 'авось за',\n",
       " 'авось за москва',\n",
       " 'авось за москва то',\n",
       " 'авось за москва то река',\n",
       " 'авось исправлять',\n",
       " 'авось исправлять когда',\n",
       " 'авось исправлять когда печаль',\n",
       " 'авось исправлять когда печаль слеза',\n",
       " 'авось ка',\n",
       " 'авось ка она',\n",
       " 'авось ка она понравиться',\n",
       " 'авось ка она понравиться мой',\n",
       " 'авось лад',\n",
       " 'авось лад много',\n",
       " 'авось лад много быть',\n",
       " 'авось лад много быть тетушка',\n",
       " 'авось ли',\n",
       " 'авось ли бы',\n",
       " 'авось ли бы забывать',\n",
       " 'авось ли бы забывать да',\n",
       " 'авось ли наш',\n",
       " 'авось ли наш бремя',\n",
       " 'авось ли наш бремя идти',\n",
       " 'авось ли под',\n",
       " 'авось ли под ты',\n",
       " 'авось ли под ты не',\n",
       " 'авось ли принимать',\n",
       " 'авось ли принимать мы',\n",
       " 'авось ли принимать мы болезнь',\n",
       " 'авось либо',\n",
       " 'авось либо все',\n",
       " 'авось либо все дело',\n",
       " 'авось либо все дело поправляться',\n",
       " 'авось либо господь',\n",
       " 'авось либо господь милостивый',\n",
       " 'авось либо господь милостивый поди',\n",
       " 'авось либо господь милостивый счастие',\n",
       " 'авось либо льзя',\n",
       " 'авось либо льзя быть',\n",
       " 'авось либо льзя быть соглашаться',\n",
       " 'авось либо мы',\n",
       " 'авось либо мы удаваться',\n",
       " 'авось либо мы удаваться она',\n",
       " 'авось либо надежда',\n",
       " 'авось либо надежда полагать',\n",
       " 'авось либо надежда полагать ну',\n",
       " 'авось либо никак',\n",
       " 'авось либо никак написать',\n",
       " 'авось либо никак написать письмо',\n",
       " 'авось либо ну',\n",
       " 'авось либо ну еще',\n",
       " 'авось либо ну еще слово',\n",
       " 'авось либо объясняться',\n",
       " 'авось либо объясняться где',\n",
       " 'авось либо объясняться где ты',\n",
       " 'авось либо она',\n",
       " 'авось либо она пускать',\n",
       " 'авось либо она пускать себя',\n",
       " 'авось либо сподоблять',\n",
       " 'авось либо сподоблять бог',\n",
       " 'авось либо сподоблять бог быть',\n",
       " 'авось либо так',\n",
       " 'авось либо так сяк',\n",
       " 'авось либо так сяк она',\n",
       " 'авось либо тогда',\n",
       " 'авось либо тогда решать',\n",
       " 'авось либо тогда решать его',\n",
       " 'авось мой',\n",
       " 'авось мой легкий',\n",
       " 'авось мой легкий рука',\n",
       " 'авось мой легкий рука уж',\n",
       " 'авось мы',\n",
       " 'авось мы вообще',\n",
       " 'авось мы вообще поддевать',\n",
       " 'авось мы вообще поддевать он',\n",
       " 'авось мы дело',\n",
       " 'авось мы дело то',\n",
       " 'авось мы дело то как',\n",
       " 'авось на',\n",
       " 'авось на твой',\n",
       " 'авось на твой доля',\n",
       " 'авось на твой доля лиза',\n",
       " 'авось не',\n",
       " 'авось не замечать',\n",
       " 'авось не замечать что',\n",
       " 'авось не замечать что идти',\n",
       " 'авось не присужднная',\n",
       " 'авось не присужднная курить',\n",
       " 'авось не присужднная курить этот',\n",
       " 'авось не разбегаться',\n",
       " 'авось не разбегаться не',\n",
       " 'авось не разбегаться не пойтить',\n",
       " 'авось не разорять',\n",
       " 'авось не разорять давать',\n",
       " 'авось не разорять давать так',\n",
       " 'авось не увидеть',\n",
       " 'авось не увидеть глядеть',\n",
       " 'авось не увидеть глядеть ка',\n",
       " 'авось не укусить',\n",
       " 'авось не укусить если',\n",
       " 'авось не укусить если не',\n",
       " 'авось нет',\n",
       " 'авось нет но',\n",
       " 'авось нет но как',\n",
       " 'авось нет но как крепко',\n",
       " 'авось никто',\n",
       " 'авось никто не',\n",
       " 'авось никто не увидеть',\n",
       " 'авось никто не увидеть ох',\n",
       " 'авось ничто',\n",
       " 'авось ничто не',\n",
       " 'авось ничто не быть',\n",
       " 'авось ничто не быть ненавидеть',\n",
       " 'авось он',\n",
       " 'авось он ты',\n",
       " 'авось он ты не',\n",
       " 'авось он ты не укусить',\n",
       " 'авось остепеняться',\n",
       " 'авось остепеняться немножко',\n",
       " 'авось остепеняться немножко взять',\n",
       " 'авось остепеняться немножко взять бы',\n",
       " 'авось партнер',\n",
       " 'авось партнер подвертываться',\n",
       " 'авось партнер подвертываться же',\n",
       " 'авось партнер подвертываться же сюи',\n",
       " 'авось подаваться',\n",
       " 'авось подаваться главное',\n",
       " 'авось подаваться главное не',\n",
       " 'авось подаваться главное не баловать',\n",
       " 'авось подаваться куда',\n",
       " 'авось подаваться куда не',\n",
       " 'авось подаваться куда не окно',\n",
       " 'авось подобреть',\n",
       " 'авось подобреть ну',\n",
       " 'авось подобреть ну бог',\n",
       " 'авось подобреть ну бог бог',\n",
       " 'авось помогать',\n",
       " 'авось помогать это',\n",
       " 'авось помогать это узнавать',\n",
       " 'авось помогать это узнавать но',\n",
       " 'авось после',\n",
       " 'авось после приходить',\n",
       " 'авось после приходить что',\n",
       " 'авось после приходить что на',\n",
       " 'авось приводить',\n",
       " 'авось приводить бог',\n",
       " 'авось приводить бог опять',\n",
       " 'авось приводить бог опять где',\n",
       " 'авось пригождаться',\n",
       " 'авось пригождаться когда',\n",
       " 'авось пригождаться когда кончать',\n",
       " 'авось пригождаться когда кончать работа',\n",
       " 'авось приходить',\n",
       " 'авось приходить не',\n",
       " 'авось приходить не ночевать',\n",
       " 'авось приходить не ночевать же',\n",
       " 'авось ради',\n",
       " 'авось разочаровываться',\n",
       " 'авось разочаровываться неужели',\n",
       " 'авось разочаровываться неужели так',\n",
       " 'авось разочаровываться неужели так мечтать',\n",
       " 'авось скоро',\n",
       " 'авось скоро отставать',\n",
       " 'авось скоро отставать здесь',\n",
       " 'авось скоро отставать здесь мой',\n",
       " 'авось снести',\n",
       " 'авось снести они',\n",
       " 'авось снести они разом',\n",
       " 'авось совет',\n",
       " 'авось совет придумывать',\n",
       " 'авось совет придумывать на',\n",
       " 'авось совет придумывать на выручка',\n",
       " 'авось сцилла',\n",
       " 'авось сцилла не',\n",
       " 'авось сцилла не попадать',\n",
       " 'авось сцилла не попадать харибда',\n",
       " 'авось тогда',\n",
       " 'авось тогда хоть',\n",
       " 'авось тогда хоть получать',\n",
       " 'авось тогда хоть получать пятилетний',\n",
       " 'авось труд',\n",
       " 'авось труд то',\n",
       " 'авось труд то не',\n",
       " 'авось труд то не большой',\n",
       " 'авось ты',\n",
       " 'авось ты батюшка',\n",
       " 'авось ты батюшка солидный',\n",
       " 'авось ты батюшка солидный посмотреть',\n",
       " 'авось ты не',\n",
       " 'авось ты не спрашивать',\n",
       " 'авось ты не спрашивать ложиться',\n",
       " 'авось удачный',\n",
       " 'авось удачный быть',\n",
       " 'авось удачный быть он',\n",
       " 'авось удачный быть он не',\n",
       " 'авось умный',\n",
       " 'авось умный быть',\n",
       " 'авось умный быть еще',\n",
       " 'авось умный быть еще бы',\n",
       " 'авось хозяин',\n",
       " 'авось хозяин то',\n",
       " 'авось хозяин то догадываться',\n",
       " 'авось хозяин то догадываться ну',\n",
       " 'авось хоть',\n",
       " 'авось хоть сын',\n",
       " 'авось хоть сын порадовать',\n",
       " 'авось хоть сын порадовать что',\n",
       " 'авось хоть что',\n",
       " 'авось хоть что нибудь',\n",
       " 'авось хоть что нибудь он',\n",
       " 'авось царь',\n",
       " 'авось царь до',\n",
       " 'авось царь до выход',\n",
       " 'авось царь до выход проехать',\n",
       " 'авось час',\n",
       " 'авось час то',\n",
       " 'авось час то не',\n",
       " 'авось час то не умирать',\n",
       " 'авось что',\n",
       " 'авось что нибудь',\n",
       " 'авось что нибудь успевать',\n",
       " 'авось что нибудь успевать не',\n",
       " 'авось язык',\n",
       " 'авось язык то',\n",
       " 'авось язык то не',\n",
       " 'авось язык то не отваливаться',\n",
       " 'авраам',\n",
       " 'авраам благословисеться',\n",
       " 'авраам благословисеться якожа',\n",
       " 'аврам',\n",
       " 'аврам разорять',\n",
       " 'аврам разорять исак',\n",
       " 'аврам разорять исак исак',\n",
       " 'аврам разорять исак исак разорять',\n",
       " 'аврам рожать',\n",
       " 'аврам рожать исак',\n",
       " 'аврам рожать исак исак',\n",
       " 'аврам рожать исак исак рожать',\n",
       " 'аврамий',\n",
       " 'аврамий люс',\n",
       " 'аврамий люс флоренция',\n",
       " 'аврамий люс флоренция посол',\n",
       " 'аврамий люс флоренция посол любчанский',\n",
       " 'аврора',\n",
       " 'аврора если',\n",
       " 'аврора если бы',\n",
       " 'аврора если бы жить',\n",
       " 'аврора если бы жить умственный',\n",
       " 'австралия',\n",
       " 'австралия еще',\n",
       " 'австралия еще не',\n",
       " 'австралия еще не быть',\n",
       " 'австралия еще не быть да',\n",
       " 'австралия знать',\n",
       " 'австралия знать знать',\n",
       " 'австралия знать знать можно',\n",
       " 'австралия знать знать можно собирать',\n",
       " 'австралия индия',\n",
       " 'австралия индия поехать',\n",
       " 'австралия индия поехать еще',\n",
       " 'австралия индия поехать еще тигр',\n",
       " 'австралия ни',\n",
       " 'австралия ни общий',\n",
       " 'австралия ни общий интерес',\n",
       " 'австралия ни общий интерес ни',\n",
       " 'австралия ну',\n",
       " 'австралия ну как',\n",
       " 'австралия ну как дело',\n",
       " 'австралия ну как дело коллега',\n",
       " 'австралия он',\n",
       " 'австралия он быть',\n",
       " 'австралия он быть принимать',\n",
       " 'австралия он быть принимать сказать',\n",
       " 'австралия пойти',\n",
       " 'австралия пойти немного',\n",
       " 'австралия пойти немного знать',\n",
       " 'австралия пойти немного знать калифорния',\n",
       " 'австралия тоже',\n",
       " 'австралия тоже захотеться',\n",
       " 'австралия тоже захотеться повидать',\n",
       " 'австралия тоже захотеться повидать николай',\n",
       " 'австралия уезжать',\n",
       " 'австралия уезжать не',\n",
       " 'австралия уезжать не ездить',\n",
       " 'австралия уезжать не ездить зачем',\n",
       " 'австриец',\n",
       " 'австриец турок',\n",
       " 'австриец турок одолевать',\n",
       " 'австриец турок одолевать не',\n",
       " 'австриец турок одолевать не мочь',\n",
       " 'австрийский',\n",
       " 'австрийский да',\n",
       " 'австрийский да нет',\n",
       " 'австрийский да нет молчанов',\n",
       " 'австрийский да нет молчанов честный',\n",
       " 'австрийский мы',\n",
       " 'австрийский мы обязанный',\n",
       " 'австрийский мы обязанный посольство',\n",
       " 'австрийский мы обязанный посольство при',\n",
       " 'австрийский правительство',\n",
       " 'австрийский правительство то',\n",
       " 'австрийский правительство то бац',\n",
       " 'австрийский правительство то бац ночь',\n",
       " 'австрия',\n",
       " 'австрия не',\n",
       " 'австрия не вспомнить',\n",
       " 'австрия не вспомнить только',\n",
       " 'австрия не вспомнить только год',\n",
       " 'австрия рука',\n",
       " 'австрия рука жар',\n",
       " 'австрия рука жар загребать',\n",
       " 'австрия рука жар загребать казна',\n",
       " 'автобиография',\n",
       " 'автобиография написать',\n",
       " 'автобиография написать какой',\n",
       " 'автобиография написать какой это',\n",
       " 'автобиография написать какой это превосходный',\n",
       " 'автобус',\n",
       " 'автобус мой',\n",
       " 'автобус мой машина',\n",
       " 'автобус мой машина ты',\n",
       " 'автобус мой машина ты мочь',\n",
       " 'автограф',\n",
       " 'автограф только',\n",
       " 'автограф только не',\n",
       " 'автограф только не писать',\n",
       " 'автограф только не писать многоуважаемый',\n",
       " 'автодор',\n",
       " 'автодор да',\n",
       " 'автодор да не',\n",
       " 'автодор да не щелкать',\n",
       " 'автодор да не щелкать ты',\n",
       " 'автомобиль',\n",
       " 'автомобиль английский',\n",
       " 'автомобиль английский автомобиль',\n",
       " 'автомобиль английский автомобиль потребовать',\n",
       " 'автомобиль английский автомобиль потребовать какой',\n",
       " 'автомобиль давать',\n",
       " 'автомобиль давать вот',\n",
       " 'автомобиль давать вот этот',\n",
       " 'автомобиль давать вот этот бумажка',\n",
       " 'автомобиль ездить',\n",
       " 'автомобиль ездить ух',\n",
       " 'автомобиль ездить ух как',\n",
       " 'автомобиль ездить ух как старый',\n",
       " 'автомобиль мертвый',\n",
       " 'автомобиль мертвый шофер',\n",
       " 'автомобиль мертвый шофер бензин',\n",
       " 'автомобиль мертвый шофер бензин гореть',\n",
       " 'автомобиль мы',\n",
       " 'автомобиль мы здесь',\n",
       " 'автомобиль мы здесь как',\n",
       " 'автомобиль мы здесь как собака',\n",
       " 'автомобиль небольшой',\n",
       " 'автомобиль небольшой электростанция',\n",
       " 'автомобиль небольшой электростанция книга',\n",
       " 'автомобиль небольшой электростанция книга передаточный',\n",
       " 'автомобиль потребовать',\n",
       " 'автомобиль потребовать какой',\n",
       " 'автомобиль потребовать какой то',\n",
       " 'автомобиль потребовать какой то пропуск',\n",
       " 'автомобиль тогда',\n",
       " 'автомобиль тогда она',\n",
       " 'автомобиль тогда она уж',\n",
       " 'автомобиль тогда она уж второй',\n",
       " 'автомобиль это',\n",
       " 'автомобиль это событие',\n",
       " 'автомобиль это событие не',\n",
       " 'автомобиль это событие не иметь',\n",
       " 'автопортрет',\n",
       " 'автопортрет как',\n",
       " 'автопортрет как океан',\n",
       " 'автопортрет как океан сливаться',\n",
       " 'автопортрет как океан сливаться ручей',\n",
       " 'автопортрет уж',\n",
       " 'автопортрет уж не',\n",
       " 'автопортрет уж не ждать',\n",
       " 'автопортрет уж не ждать что',\n",
       " 'автор',\n",
       " 'автор актер',\n",
       " 'автор актер смотреть',\n",
       " 'автор актер смотреть племянница',\n",
       " 'автор актер смотреть племянница весь',\n",
       " 'автор актер трудненько',\n",
       " 'автор актер трудненько признаваться',\n",
       " 'автор актер трудненько признаваться если',\n",
       " 'автор ваш',\n",
       " 'автор ваш нет',\n",
       " 'автор ваш нет глубокий',\n",
       " 'автор ваш нет глубокий сильный',\n",
       " 'автор вить',\n",
       " 'автор вить вот',\n",
       " 'автор вить вот один',\n",
       " 'автор вить вот один монолог',\n",
       " 'автор враль',\n",
       " 'автор враль премерзкий',\n",
       " 'автор враль премерзкий что',\n",
       " 'автор враль премерзкий что мыслить',\n",
       " 'автор да',\n",
       " 'автор да как',\n",
       " 'автор да как нибудь',\n",
       " 'автор да как нибудь постоять',\n",
       " 'автор какой',\n",
       " 'автор какой вы',\n",
       " 'автор какой вы ребенок',\n",
       " 'автор какой вы ребенок вот',\n",
       " 'автор который',\n",
       " 'автор который он',\n",
       " 'автор который он получать',\n",
       " 'автор который он получать неправедный',\n",
       " 'автор молчать',\n",
       " 'автор молчать опять',\n",
       " 'автор молчать опять быть',\n",
       " 'автор молчать опять быть зло',\n",
       " 'автор муза',\n",
       " ...]"
      ]
     },
     "execution_count": 163,
     "metadata": {},
     "output_type": "execute_result"
    }
   ],
   "source": [
    "vectorizer.get_feature_names()"
   ]
  },
  {
   "cell_type": "code",
   "execution_count": 166,
   "metadata": {},
   "outputs": [
    {
     "data": {
      "text/plain": [
       "8983"
      ]
     },
     "execution_count": 166,
     "metadata": {},
     "output_type": "execute_result"
    }
   ],
   "source": [
    "X_train_bow.shape[0]"
   ]
  },
  {
   "cell_type": "code",
   "execution_count": 165,
   "metadata": {},
   "outputs": [
    {
     "data": {
      "text/plain": [
       "8983"
      ]
     },
     "execution_count": 165,
     "metadata": {},
     "output_type": "execute_result"
    }
   ],
   "source": [
    "len(X_train)"
   ]
  },
  {
   "cell_type": "code",
   "execution_count": 135,
   "metadata": {},
   "outputs": [
    {
     "data": {
      "text/plain": [
       "<8984x1698 sparse matrix of type '<class 'numpy.int64'>'\n",
       "\twith 669876 stored elements in Compressed Sparse Row format>"
      ]
     },
     "execution_count": 135,
     "metadata": {},
     "output_type": "execute_result"
    }
   ],
   "source": [
    "X_train_bow"
   ]
  },
  {
   "cell_type": "markdown",
   "metadata": {},
   "source": [
    "### 2.2.2. TF-IDF"
   ]
  },
  {
   "cell_type": "code",
   "execution_count": 117,
   "metadata": {},
   "outputs": [],
   "source": [
    "from sklearn.feature_extraction.text import TfidfVectorizer"
   ]
  },
  {
   "cell_type": "code",
   "execution_count": 118,
   "metadata": {},
   "outputs": [],
   "source": [
    "tfidf_vectorizer = TfidfVectorizer(ngram_range=(1,5), min_df=100, max_df=0.5)"
   ]
  },
  {
   "cell_type": "code",
   "execution_count": 119,
   "metadata": {},
   "outputs": [],
   "source": [
    "X_train_tfidf = tfidf_vectorizer.fit_transform(X_train)\n",
    "X_test_tfidf = tfidf_vectorizer.transform(X_test)\n",
    "tfidf_vocabulary = np.array(tfidf_vectorizer.get_feature_names())"
   ]
  },
  {
   "cell_type": "code",
   "execution_count": 120,
   "metadata": {},
   "outputs": [
    {
     "data": {
      "text/plain": [
       "1701"
      ]
     },
     "execution_count": 120,
     "metadata": {},
     "output_type": "execute_result"
    }
   ],
   "source": [
    "len(tfidf_vocabulary.tolist())"
   ]
  },
  {
   "cell_type": "markdown",
   "metadata": {},
   "source": [
    "### 2.3. LogReg RFC"
   ]
  },
  {
   "cell_type": "markdown",
   "metadata": {},
   "source": [
    "### 2.3.1. BOW"
   ]
  },
  {
   "cell_type": "code",
   "execution_count": 121,
   "metadata": {},
   "outputs": [],
   "source": [
    "import matplotlib as plt\n",
    "from sklearn.ensemble import RandomForestClassifier\n",
    "from sklearn.model_selection import (\n",
    "    train_test_split, StratifiedKFold, GridSearchCV, RandomizedSearchCV)\n",
    "from sklearn.feature_extraction.text import CountVectorizer, HashingVectorizer\n",
    "from sklearn.linear_model import LogisticRegression\n",
    "from sklearn.metrics import log_loss, accuracy_score, precision_score\n",
    "from sklearn.metrics import (\n",
    "    roc_curve, precision_recall_curve, auc, recall_score)\n",
    "import time"
   ]
  },
  {
   "cell_type": "code",
   "execution_count": 122,
   "metadata": {},
   "outputs": [
    {
     "name": "stdout",
     "output_type": "stream",
     "text": [
      "Stored 'dur_time' (ndarray)\n",
      "Stored 'names' (list)\n"
     ]
    }
   ],
   "source": [
    "# fit log-reg and rfc\n",
    "\n",
    "# fit log-reg and rfc\n",
    "models = [LogisticRegression(), RandomForestClassifier(n_estimators=200)]\n",
    "names = ['logistic_regression', 'random_forest']\n",
    "metrics_func = [accuracy_score, precision_score, recall_score]\n",
    "metrics_name = ['accuracy', 'precision', 'recall']\n",
    "y_preds = np.zeros((len(X_test), len(models)))  # matrix to store metric data\n",
    "dur_time = np.zeros(len(models))  # matrix to store time\n",
    "\n",
    "for i in range(len(models)):\n",
    "    start_time = time.time()\n",
    "    models[i].fit(X_train_bow, y_train)\n",
    "    dur_time[i] = time.time() - start_time\n",
    "    y_preds[:, i] = models[i].predict(X_test_bow)\n",
    "\n",
    "%store dur_time\n",
    "%store names"
   ]
  },
  {
   "cell_type": "code",
   "execution_count": 123,
   "metadata": {},
   "outputs": [
    {
     "name": "stdout",
     "output_type": "stream",
     "text": [
      "Stored 'df_scores' (DataFrame)\n"
     ]
    },
    {
     "data": {
      "text/html": [
       "<div>\n",
       "<style scoped>\n",
       "    .dataframe tbody tr th:only-of-type {\n",
       "        vertical-align: middle;\n",
       "    }\n",
       "\n",
       "    .dataframe tbody tr th {\n",
       "        vertical-align: top;\n",
       "    }\n",
       "\n",
       "    .dataframe thead th {\n",
       "        text-align: right;\n",
       "    }\n",
       "</style>\n",
       "<table border=\"1\" class=\"dataframe\">\n",
       "  <thead>\n",
       "    <tr style=\"text-align: right;\">\n",
       "      <th></th>\n",
       "      <th>model</th>\n",
       "      <th>metric</th>\n",
       "      <th>score</th>\n",
       "    </tr>\n",
       "  </thead>\n",
       "  <tbody>\n",
       "    <tr>\n",
       "      <th>0</th>\n",
       "      <td>logistic_regression</td>\n",
       "      <td>accuracy</td>\n",
       "      <td>0.740873</td>\n",
       "    </tr>\n",
       "    <tr>\n",
       "      <th>1</th>\n",
       "      <td>logistic_regression</td>\n",
       "      <td>precision</td>\n",
       "      <td>0.601732</td>\n",
       "    </tr>\n",
       "    <tr>\n",
       "      <th>2</th>\n",
       "      <td>logistic_regression</td>\n",
       "      <td>recall</td>\n",
       "      <td>0.576763</td>\n",
       "    </tr>\n",
       "    <tr>\n",
       "      <th>3</th>\n",
       "      <td>random_forest</td>\n",
       "      <td>accuracy</td>\n",
       "      <td>0.723508</td>\n",
       "    </tr>\n",
       "    <tr>\n",
       "      <th>4</th>\n",
       "      <td>random_forest</td>\n",
       "      <td>precision</td>\n",
       "      <td>0.844595</td>\n",
       "    </tr>\n",
       "    <tr>\n",
       "      <th>5</th>\n",
       "      <td>random_forest</td>\n",
       "      <td>recall</td>\n",
       "      <td>0.172891</td>\n",
       "    </tr>\n",
       "  </tbody>\n",
       "</table>\n",
       "</div>"
      ],
      "text/plain": [
       "                 model     metric     score\n",
       "0  logistic_regression   accuracy  0.740873\n",
       "1  logistic_regression  precision  0.601732\n",
       "2  logistic_regression     recall  0.576763\n",
       "3        random_forest   accuracy  0.723508\n",
       "4        random_forest  precision  0.844595\n",
       "5        random_forest     recall  0.172891"
      ]
     },
     "execution_count": 123,
     "metadata": {},
     "output_type": "execute_result"
    }
   ],
   "source": [
    "# data to a DF\n",
    "df_scores = pd.DataFrame.from_dict({\n",
    "    i*len(metrics_name) + j: [names[i], metrics_name[j], metrics_func[j](\n",
    "        y_test, y_preds[:, i])]\n",
    "    for i in range(len(names))\n",
    "    for j in range(len(metrics_name))\n",
    "}, orient='index')\n",
    "df_scores.columns = ['model', 'metric', 'score']\n",
    "\n",
    "%store df_scores\n",
    "df_scores\n"
   ]
  },
  {
   "cell_type": "markdown",
   "metadata": {},
   "source": [
    "### 2.3.2. TF-IDF"
   ]
  },
  {
   "cell_type": "code",
   "execution_count": 124,
   "metadata": {},
   "outputs": [
    {
     "name": "stdout",
     "output_type": "stream",
     "text": [
      "Stored 'dur_time' (ndarray)\n",
      "Stored 'names' (list)\n"
     ]
    }
   ],
   "source": [
    "# fit log-reg and rfc\n",
    "models = [LogisticRegression(), RandomForestClassifier(n_estimators=200)]\n",
    "names = ['logistic_regression', 'random_forest']\n",
    "metrics_func = [accuracy_score, precision_score, recall_score, auc]\n",
    "metrics_name = ['accuracy', 'precision', 'recall']\n",
    "y_preds = np.zeros((len(X_test), len(models)))  # matrix to store metric data\n",
    "dur_time = np.zeros(len(models))  # matrix to store time\n",
    "\n",
    "for i in range(len(models)):\n",
    "    start_time = time.time()\n",
    "    models[i].fit(X_train_tfidf, y_train)\n",
    "    dur_time[i] = time.time() - start_time\n",
    "    y_preds[:, i] = models[i].predict(X_test_tfidf)\n",
    "\n",
    "%store dur_time\n",
    "%store names"
   ]
  },
  {
   "cell_type": "code",
   "execution_count": 125,
   "metadata": {},
   "outputs": [
    {
     "name": "stdout",
     "output_type": "stream",
     "text": [
      "Stored 'df_scores' (DataFrame)\n"
     ]
    },
    {
     "data": {
      "text/html": [
       "<div>\n",
       "<style scoped>\n",
       "    .dataframe tbody tr th:only-of-type {\n",
       "        vertical-align: middle;\n",
       "    }\n",
       "\n",
       "    .dataframe tbody tr th {\n",
       "        vertical-align: top;\n",
       "    }\n",
       "\n",
       "    .dataframe thead th {\n",
       "        text-align: right;\n",
       "    }\n",
       "</style>\n",
       "<table border=\"1\" class=\"dataframe\">\n",
       "  <thead>\n",
       "    <tr style=\"text-align: right;\">\n",
       "      <th></th>\n",
       "      <th>model</th>\n",
       "      <th>metric</th>\n",
       "      <th>score</th>\n",
       "    </tr>\n",
       "  </thead>\n",
       "  <tbody>\n",
       "    <tr>\n",
       "      <th>0</th>\n",
       "      <td>logistic_regression</td>\n",
       "      <td>accuracy</td>\n",
       "      <td>0.772039</td>\n",
       "    </tr>\n",
       "    <tr>\n",
       "      <th>1</th>\n",
       "      <td>logistic_regression</td>\n",
       "      <td>precision</td>\n",
       "      <td>0.708911</td>\n",
       "    </tr>\n",
       "    <tr>\n",
       "      <th>2</th>\n",
       "      <td>logistic_regression</td>\n",
       "      <td>recall</td>\n",
       "      <td>0.495159</td>\n",
       "    </tr>\n",
       "    <tr>\n",
       "      <th>3</th>\n",
       "      <td>random_forest</td>\n",
       "      <td>accuracy</td>\n",
       "      <td>0.720392</td>\n",
       "    </tr>\n",
       "    <tr>\n",
       "      <th>4</th>\n",
       "      <td>random_forest</td>\n",
       "      <td>precision</td>\n",
       "      <td>0.810458</td>\n",
       "    </tr>\n",
       "    <tr>\n",
       "      <th>5</th>\n",
       "      <td>random_forest</td>\n",
       "      <td>recall</td>\n",
       "      <td>0.171508</td>\n",
       "    </tr>\n",
       "  </tbody>\n",
       "</table>\n",
       "</div>"
      ],
      "text/plain": [
       "                 model     metric     score\n",
       "0  logistic_regression   accuracy  0.772039\n",
       "1  logistic_regression  precision  0.708911\n",
       "2  logistic_regression     recall  0.495159\n",
       "3        random_forest   accuracy  0.720392\n",
       "4        random_forest  precision  0.810458\n",
       "5        random_forest     recall  0.171508"
      ]
     },
     "execution_count": 125,
     "metadata": {},
     "output_type": "execute_result"
    }
   ],
   "source": [
    "# data to a DF\n",
    "df_scores = pd.DataFrame.from_dict({\n",
    "    i*len(metrics_name) + j: [names[i], metrics_name[j], metrics_func[j](\n",
    "        y_test, y_preds[:, i])]\n",
    "    for i in range(len(names))\n",
    "    for j in range(len(metrics_name))\n",
    "}, orient='index')\n",
    "df_scores.columns = ['model', 'metric', 'score']\n",
    "\n",
    "%store df_scores\n",
    "df_scores\n"
   ]
  },
  {
   "cell_type": "markdown",
   "metadata": {},
   "source": [
    "## 2.4. Keras"
   ]
  },
  {
   "cell_type": "code",
   "execution_count": 126,
   "metadata": {},
   "outputs": [
    {
     "name": "stderr",
     "output_type": "stream",
     "text": [
      "/home/taorkon/anaconda3/lib/python3.6/site-packages/h5py/__init__.py:36: FutureWarning: Conversion of the second argument of issubdtype from `float` to `np.floating` is deprecated. In future, it will be treated as `np.float64 == np.dtype(float).type`.\n",
      "  from ._conv import register_converters as _register_converters\n",
      "Using TensorFlow backend.\n"
     ]
    }
   ],
   "source": [
    "from keras.models import Sequential\n",
    "from keras import layers\n",
    "from sklearn.model_selection import StratifiedKFold"
   ]
  },
  {
   "cell_type": "code",
   "execution_count": 127,
   "metadata": {},
   "outputs": [],
   "source": [
    "skf = StratifiedKFold(n_splits=5, shuffle=True, random_state=42)"
   ]
  },
  {
   "cell_type": "code",
   "execution_count": 128,
   "metadata": {},
   "outputs": [],
   "source": [
    "data_keras = np.array(data)\n",
    "target_keras = np.array(target)"
   ]
  },
  {
   "cell_type": "markdown",
   "metadata": {},
   "source": [
    "### *With cross-validation*"
   ]
  },
  {
   "cell_type": "code",
   "execution_count": 129,
   "metadata": {},
   "outputs": [
    {
     "name": "stdout",
     "output_type": "stream",
     "text": [
      "WARNING:tensorflow:From /home/taorkon/anaconda3/lib/python3.6/site-packages/tensorflow/python/framework/op_def_library.py:263: colocate_with (from tensorflow.python.framework.ops) is deprecated and will be removed in a future version.\n",
      "Instructions for updating:\n",
      "Colocations handled automatically by placer.\n",
      "WARNING:tensorflow:From /home/taorkon/anaconda3/lib/python3.6/site-packages/tensorflow/python/ops/math_ops.py:3066: to_int32 (from tensorflow.python.ops.math_ops) is deprecated and will be removed in a future version.\n",
      "Instructions for updating:\n",
      "Use tf.cast instead.\n",
      "Training Accuracy: 0.9924\n",
      "Testing Accuracy:  0.7655\n",
      "Training Accuracy: 0.9874\n",
      "Testing Accuracy:  0.7560\n",
      "Training Accuracy: 0.9804\n",
      "Testing Accuracy:  0.7395\n",
      "Training Accuracy: 0.9895\n",
      "Testing Accuracy:  0.7541\n",
      "Training Accuracy: 0.9898\n",
      "Testing Accuracy:  0.7403\n"
     ]
    }
   ],
   "source": [
    "for train,test in skf.split(data_keras, target_keras):\n",
    "    \n",
    "    #print(data_keras[train], type(data_keras[train]))\n",
    "    \n",
    "    X_train_bow = vectorizer.fit_transform(data_keras[train])\n",
    "    X_test_bow = vectorizer.transform(data_keras[test])\n",
    "    \n",
    "    input_dim = X_train_bow.shape[1]  # Number of features\n",
    "\n",
    "    model = Sequential()\n",
    "    model.add(layers.Dense(10, input_dim=input_dim, activation='relu'))\n",
    "    model.add(layers.Dense(1, activation='sigmoid'))\n",
    "\n",
    "    model.compile(loss='binary_crossentropy', optimizer='adam', metrics=['accuracy'])\n",
    "    #model.summary()\n",
    "\n",
    "    history = model.fit(X_train_bow, target_keras[train],\n",
    "                        epochs=10, verbose=False,\n",
    "                        validation_data=(X_test_bow, target_keras[test]),\n",
    "                        batch_size=10)\n",
    "\n",
    "    loss, accuracy = model.evaluate(X_train_bow, target_keras[train], verbose=False)\n",
    "    print(\"Training Accuracy: {:.4f}\".format(accuracy))\n",
    "    loss, accuracy = model.evaluate(X_test_bow, target_keras[test], verbose=False)\n",
    "    print(\"Testing Accuracy:  {:.4f}\".format(accuracy))"
   ]
  },
  {
   "cell_type": "markdown",
   "metadata": {},
   "source": [
    "### *Without Cross_validation*"
   ]
  },
  {
   "cell_type": "code",
   "execution_count": 130,
   "metadata": {},
   "outputs": [
    {
     "ename": "ValueError",
     "evalue": "Input arrays should have the same number of samples as target arrays. Found 8984 input samples and 8983 target samples.",
     "output_type": "error",
     "traceback": [
      "\u001b[0;31m---------------------------------------------------------------------------\u001b[0m",
      "\u001b[0;31mValueError\u001b[0m                                Traceback (most recent call last)",
      "\u001b[0;32m<ipython-input-130-f14b9421d03a>\u001b[0m in \u001b[0;36m<module>\u001b[0;34m()\u001b[0m\n\u001b[1;32m     10\u001b[0m history = model.fit(\n\u001b[1;32m     11\u001b[0m     \u001b[0mX_train_bow\u001b[0m\u001b[0;34m,\u001b[0m \u001b[0my_train\u001b[0m\u001b[0;34m,\u001b[0m\u001b[0mepochs\u001b[0m\u001b[0;34m=\u001b[0m\u001b[0;36m10\u001b[0m\u001b[0;34m,\u001b[0m \u001b[0mverbose\u001b[0m\u001b[0;34m=\u001b[0m\u001b[0;32mFalse\u001b[0m\u001b[0;34m,\u001b[0m\u001b[0;34m\u001b[0m\u001b[0;34m\u001b[0m\u001b[0m\n\u001b[0;32m---> 12\u001b[0;31m     validation_data=(X_test_bow, y_test),batch_size=10)\n\u001b[0m\u001b[1;32m     13\u001b[0m \u001b[0;34m\u001b[0m\u001b[0m\n\u001b[1;32m     14\u001b[0m \u001b[0mloss\u001b[0m\u001b[0;34m,\u001b[0m \u001b[0maccuracy\u001b[0m \u001b[0;34m=\u001b[0m \u001b[0mmodel\u001b[0m\u001b[0;34m.\u001b[0m\u001b[0mevaluate\u001b[0m\u001b[0;34m(\u001b[0m\u001b[0mX_train_bow\u001b[0m\u001b[0;34m,\u001b[0m \u001b[0my_train\u001b[0m\u001b[0;34m,\u001b[0m \u001b[0mverbose\u001b[0m\u001b[0;34m=\u001b[0m\u001b[0;32mFalse\u001b[0m\u001b[0;34m)\u001b[0m\u001b[0;34m\u001b[0m\u001b[0;34m\u001b[0m\u001b[0m\n",
      "\u001b[0;32m~/anaconda3/lib/python3.6/site-packages/keras/engine/training.py\u001b[0m in \u001b[0;36mfit\u001b[0;34m(self, x, y, batch_size, epochs, verbose, callbacks, validation_split, validation_data, shuffle, class_weight, sample_weight, initial_epoch, steps_per_epoch, validation_steps, **kwargs)\u001b[0m\n\u001b[1;32m    950\u001b[0m             \u001b[0msample_weight\u001b[0m\u001b[0;34m=\u001b[0m\u001b[0msample_weight\u001b[0m\u001b[0;34m,\u001b[0m\u001b[0;34m\u001b[0m\u001b[0;34m\u001b[0m\u001b[0m\n\u001b[1;32m    951\u001b[0m             \u001b[0mclass_weight\u001b[0m\u001b[0;34m=\u001b[0m\u001b[0mclass_weight\u001b[0m\u001b[0;34m,\u001b[0m\u001b[0;34m\u001b[0m\u001b[0;34m\u001b[0m\u001b[0m\n\u001b[0;32m--> 952\u001b[0;31m             batch_size=batch_size)\n\u001b[0m\u001b[1;32m    953\u001b[0m         \u001b[0;31m# Prepare validation data.\u001b[0m\u001b[0;34m\u001b[0m\u001b[0;34m\u001b[0m\u001b[0;34m\u001b[0m\u001b[0m\n\u001b[1;32m    954\u001b[0m         \u001b[0mdo_validation\u001b[0m \u001b[0;34m=\u001b[0m \u001b[0;32mFalse\u001b[0m\u001b[0;34m\u001b[0m\u001b[0;34m\u001b[0m\u001b[0m\n",
      "\u001b[0;32m~/anaconda3/lib/python3.6/site-packages/keras/engine/training.py\u001b[0m in \u001b[0;36m_standardize_user_data\u001b[0;34m(self, x, y, sample_weight, class_weight, check_array_lengths, batch_size)\u001b[0m\n\u001b[1;32m    802\u001b[0m             ]\n\u001b[1;32m    803\u001b[0m             \u001b[0;31m# Check that all arrays have the same length.\u001b[0m\u001b[0;34m\u001b[0m\u001b[0;34m\u001b[0m\u001b[0;34m\u001b[0m\u001b[0m\n\u001b[0;32m--> 804\u001b[0;31m             \u001b[0mcheck_array_length_consistency\u001b[0m\u001b[0;34m(\u001b[0m\u001b[0mx\u001b[0m\u001b[0;34m,\u001b[0m \u001b[0my\u001b[0m\u001b[0;34m,\u001b[0m \u001b[0msample_weights\u001b[0m\u001b[0;34m)\u001b[0m\u001b[0;34m\u001b[0m\u001b[0;34m\u001b[0m\u001b[0m\n\u001b[0m\u001b[1;32m    805\u001b[0m             \u001b[0;32mif\u001b[0m \u001b[0mself\u001b[0m\u001b[0;34m.\u001b[0m\u001b[0m_is_graph_network\u001b[0m\u001b[0;34m:\u001b[0m\u001b[0;34m\u001b[0m\u001b[0;34m\u001b[0m\u001b[0m\n\u001b[1;32m    806\u001b[0m                 \u001b[0;31m# Additional checks to avoid users mistakenly\u001b[0m\u001b[0;34m\u001b[0m\u001b[0;34m\u001b[0m\u001b[0;34m\u001b[0m\u001b[0m\n",
      "\u001b[0;32m~/anaconda3/lib/python3.6/site-packages/keras/engine/training_utils.py\u001b[0m in \u001b[0;36mcheck_array_length_consistency\u001b[0;34m(inputs, targets, weights)\u001b[0m\n\u001b[1;32m    235\u001b[0m                          \u001b[0;34m'the same number of samples as target arrays. '\u001b[0m\u001b[0;34m\u001b[0m\u001b[0;34m\u001b[0m\u001b[0m\n\u001b[1;32m    236\u001b[0m                          \u001b[0;34m'Found '\u001b[0m \u001b[0;34m+\u001b[0m \u001b[0mstr\u001b[0m\u001b[0;34m(\u001b[0m\u001b[0mlist\u001b[0m\u001b[0;34m(\u001b[0m\u001b[0mset_x\u001b[0m\u001b[0;34m)\u001b[0m\u001b[0;34m[\u001b[0m\u001b[0;36m0\u001b[0m\u001b[0;34m]\u001b[0m\u001b[0;34m)\u001b[0m \u001b[0;34m+\u001b[0m \u001b[0;34m' input samples '\u001b[0m\u001b[0;34m\u001b[0m\u001b[0;34m\u001b[0m\u001b[0m\n\u001b[0;32m--> 237\u001b[0;31m                          'and ' + str(list(set_y)[0]) + ' target samples.')\n\u001b[0m\u001b[1;32m    238\u001b[0m     \u001b[0;32mif\u001b[0m \u001b[0mlen\u001b[0m\u001b[0;34m(\u001b[0m\u001b[0mset_w\u001b[0m\u001b[0;34m)\u001b[0m \u001b[0;34m>\u001b[0m \u001b[0;36m1\u001b[0m\u001b[0;34m:\u001b[0m\u001b[0;34m\u001b[0m\u001b[0;34m\u001b[0m\u001b[0m\n\u001b[1;32m    239\u001b[0m         raise ValueError('All sample_weight arrays should have '\n",
      "\u001b[0;31mValueError\u001b[0m: Input arrays should have the same number of samples as target arrays. Found 8984 input samples and 8983 target samples."
     ]
    }
   ],
   "source": [
    "input_dim = X_train_bow.shape[1]  # Number of features\n",
    "\n",
    "model = Sequential()\n",
    "model.add(layers.Dense(10, input_dim=input_dim, activation='relu'))\n",
    "model.add(layers.Dense(1, activation='sigmoid'))\n",
    "\n",
    "model.compile(loss='binary_crossentropy', optimizer='adam', metrics=['accuracy'])\n",
    "#model.summary()\n",
    "\n",
    "history = model.fit(\n",
    "    X_train_bow, y_train,epochs=10, verbose=False,\n",
    "    validation_data=(X_test_bow, y_test),batch_size=10)\n",
    "\n",
    "loss, accuracy = model.evaluate(X_train_bow, y_train, verbose=False)\n",
    "print(\"Training Accuracy: {:.4f}\".format(accuracy))\n",
    "loss, accuracy = model.evaluate(X_test_bow, y_test, verbose=False)\n",
    "print(\"Testing Accuracy:  {:.4f}\".format(accuracy))"
   ]
  },
  {
   "cell_type": "markdown",
   "metadata": {},
   "source": [
    "test on famous char (and check probability)"
   ]
  },
  {
   "cell_type": "markdown",
   "metadata": {},
   "source": [
    "1. not to lemmatize words with female morphemes\n",
    "2. check if there are more of those words in fem speech\n",
    "3. think of ways to split male dataset\n",
    "4. check tense distribution\n",
    "5. test on contemporary/modern fem speech\n",
    "6. find examples that do not work in the alg\n",
    "7. try to give unknown to the alg"
   ]
  },
  {
   "cell_type": "markdown",
   "metadata": {},
   "source": [
    "1. somr stats for the speeches"
   ]
  },
  {
   "cell_type": "code",
   "execution_count": null,
   "metadata": {},
   "outputs": [],
   "source": [
    "#try xg boost"
   ]
  }
 ],
 "metadata": {
  "kernelspec": {
   "display_name": "Python 3",
   "language": "python",
   "name": "python3"
  },
  "language_info": {
   "codemirror_mode": {
    "name": "ipython",
    "version": 3
   },
   "file_extension": ".py",
   "mimetype": "text/x-python",
   "name": "python",
   "nbconvert_exporter": "python",
   "pygments_lexer": "ipython3",
   "version": "3.6.8"
  }
 },
 "nbformat": 4,
 "nbformat_minor": 2
}

{
 "cells": [
  {
   "cell_type": "markdown",
   "metadata": {},
   "source": [
    "# Preparing Data for Stylo"
   ]
  },
  {
   "cell_type": "markdown",
   "metadata": {},
   "source": [
    "In this notebook I plan to ready a new set of data for Stylo. I will take a dataset that includes the information about the author, the name of the play ang the gender of characters, as well as their utterances."
   ]
  },
  {
   "cell_type": "markdown",
   "metadata": {},
   "source": [
    "The target dataset will be divided by play. However, the text of the characters' speach of said play will only be contained in two files, determined by the gender of its speaker. The important instance ia that there will bw no futher division, i.e. it will not be recorded who said certain words, only the gender will matter. All the text, attributed to female characters of a play will be contained in one file as a solid entity. The \"male\" text will be handled the same way. As a result, there will be two different files for each play, containing \"male\" and \"female\" words separately."
   ]
  },
  {
   "cell_type": "markdown",
   "metadata": {},
   "source": [
    "Next the files will be processed in Stylo. My hypothesis is such, that the files of the same play but different \"gender\" will be the closest, but still separated. Another possible outcome is that all the \"male\" parts written by the same author will be the closest stylistically speaking, on the next branch will be the \"female\" files of this author (will the genre matter?). I am hoping for the latter. Anyways, no matter the outcome, the programm will hopefully be able to provide us with some insight as to how particularly the text is influenced by the gender of its character."
   ]
  },
  {
   "cell_type": "markdown",
   "metadata": {},
   "source": [
    "Note: will the author or the genre make the plays closer(my odds are on the authors)?"
   ]
  },
  {
   "cell_type": "markdown",
   "metadata": {},
   "source": [
    "## 0. Imports"
   ]
  },
  {
   "cell_type": "markdown",
   "metadata": {},
   "source": [
    "Here I will import all the necessary python libraries. It is handy to have them all in one place."
   ]
  },
  {
   "cell_type": "code",
   "execution_count": 1,
   "metadata": {},
   "outputs": [],
   "source": [
    "import pandas as pd"
   ]
  },
  {
   "cell_type": "markdown",
   "metadata": {},
   "source": [
    "## 1. Question #1\n",
    "\n",
    "What should the minimum length of a character speech be, to become a part of the dataset? If, say, a character only utters a single word throughout a play? Should we count it in? My first suggestion is to use all the available text and think of editing if the results are not satisfactory. Then it will be preprocessed by a list of stop-words(right?)."
   ]
  },
  {
   "cell_type": "markdown",
   "metadata": {},
   "source": [
    "## 2. Import the data"
   ]
  },
  {
   "cell_type": "markdown",
   "metadata": {},
   "source": [
    "We have already created two nessery datasets, one contains speech of female characters and the other has the speech of the male ones. Let's have a quich look at them first."
   ]
  },
  {
   "cell_type": "markdown",
   "metadata": {},
   "source": [
    "So, let's import the data."
   ]
  },
  {
   "cell_type": "code",
   "execution_count": 2,
   "metadata": {
    "scrolled": true
   },
   "outputs": [],
   "source": [
    "df_fem = pd.read_csv('data/df_fem.tsv', sep='\\t', index_col=0)   #importing the female data\n",
    "df_male = pd.read_csv('data/df_male.tsv', sep='\\t', index_col=0) #importing thee male data"
   ]
  },
  {
   "cell_type": "markdown",
   "metadata": {},
   "source": [
    "And now we should have a look at it to make sure everything is in order. Looks like it is!"
   ]
  },
  {
   "cell_type": "code",
   "execution_count": 3,
   "metadata": {},
   "outputs": [
    {
     "data": {
      "text/html": [
       "<div>\n",
       "<style scoped>\n",
       "    .dataframe tbody tr th:only-of-type {\n",
       "        vertical-align: middle;\n",
       "    }\n",
       "\n",
       "    .dataframe tbody tr th {\n",
       "        vertical-align: top;\n",
       "    }\n",
       "\n",
       "    .dataframe thead th {\n",
       "        text-align: right;\n",
       "    }\n",
       "</style>\n",
       "<table border=\"1\" class=\"dataframe\">\n",
       "  <thead>\n",
       "    <tr style=\"text-align: right;\">\n",
       "      <th></th>\n",
       "      <th>ID</th>\n",
       "      <th>Gender</th>\n",
       "      <th>Text</th>\n",
       "      <th>play_name</th>\n",
       "      <th>t_clean</th>\n",
       "      <th>clean_len</th>\n",
       "    </tr>\n",
       "  </thead>\n",
       "  <tbody>\n",
       "    <tr>\n",
       "      <th>0</th>\n",
       "      <td>vasilisa_petrovna</td>\n",
       "      <td>1</td>\n",
       "      <td>Да вот думаю все.\\nХолодно. Да, вот думаю все....</td>\n",
       "      <td>andreyev-ne-ubiy</td>\n",
       "      <td>да вот думаю все холодно да вот думаю все ты з...</td>\n",
       "      <td>5365</td>\n",
       "    </tr>\n",
       "    <tr>\n",
       "      <th>1</th>\n",
       "      <td>margarita</td>\n",
       "      <td>1</td>\n",
       "      <td>Вот и я к вам. Да милая ж вы моя Василиса Петр...</td>\n",
       "      <td>andreyev-ne-ubiy</td>\n",
       "      <td>вот и я к вам да милая ж вы моя василиса петро...</td>\n",
       "      <td>1175</td>\n",
       "    </tr>\n",
       "    <tr>\n",
       "      <th>2</th>\n",
       "      <td>gornichnaya</td>\n",
       "      <td>1</td>\n",
       "      <td>Там двое к вам пришли, Василиса Петровна. Прик...</td>\n",
       "      <td>andreyev-ne-ubiy</td>\n",
       "      <td>там двое к вам пришли василиса петровна прикаж...</td>\n",
       "      <td>54</td>\n",
       "    </tr>\n",
       "    <tr>\n",
       "      <th>3</th>\n",
       "      <td>darya_stepanovna</td>\n",
       "      <td>1</td>\n",
       "      <td>Что ж я буду врать? Сам виноват, чего ж раньше...</td>\n",
       "      <td>andreyev-ne-ubiy</td>\n",
       "      <td>что ж я буду врать сам виноват чего ж раньше н...</td>\n",
       "      <td>13</td>\n",
       "    </tr>\n",
       "    <tr>\n",
       "      <th>4</th>\n",
       "      <td>pervaya_dama</td>\n",
       "      <td>1</td>\n",
       "      <td>Как здесь душно. Вы не находите?\\nДа, удивител...</td>\n",
       "      <td>andreyev-ne-ubiy</td>\n",
       "      <td>как здесь душно вы не находите да удивительно ...</td>\n",
       "      <td>35</td>\n",
       "    </tr>\n",
       "  </tbody>\n",
       "</table>\n",
       "</div>"
      ],
      "text/plain": [
       "                  ID  Gender  \\\n",
       "0  vasilisa_petrovna       1   \n",
       "1          margarita       1   \n",
       "2        gornichnaya       1   \n",
       "3   darya_stepanovna       1   \n",
       "4       pervaya_dama       1   \n",
       "\n",
       "                                                Text         play_name  \\\n",
       "0  Да вот думаю все.\\nХолодно. Да, вот думаю все....  andreyev-ne-ubiy   \n",
       "1  Вот и я к вам. Да милая ж вы моя Василиса Петр...  andreyev-ne-ubiy   \n",
       "2  Там двое к вам пришли, Василиса Петровна. Прик...  andreyev-ne-ubiy   \n",
       "3  Что ж я буду врать? Сам виноват, чего ж раньше...  andreyev-ne-ubiy   \n",
       "4  Как здесь душно. Вы не находите?\\nДа, удивител...  andreyev-ne-ubiy   \n",
       "\n",
       "                                             t_clean  clean_len  \n",
       "0  да вот думаю все холодно да вот думаю все ты з...       5365  \n",
       "1  вот и я к вам да милая ж вы моя василиса петро...       1175  \n",
       "2  там двое к вам пришли василиса петровна прикаж...         54  \n",
       "3  что ж я буду врать сам виноват чего ж раньше н...         13  \n",
       "4  как здесь душно вы не находите да удивительно ...         35  "
      ]
     },
     "execution_count": 3,
     "metadata": {},
     "output_type": "execute_result"
    }
   ],
   "source": [
    "df_fem.head() #having a look at the first fem rows"
   ]
  },
  {
   "cell_type": "code",
   "execution_count": 4,
   "metadata": {},
   "outputs": [
    {
     "data": {
      "text/html": [
       "<div>\n",
       "<style scoped>\n",
       "    .dataframe tbody tr th:only-of-type {\n",
       "        vertical-align: middle;\n",
       "    }\n",
       "\n",
       "    .dataframe tbody tr th {\n",
       "        vertical-align: top;\n",
       "    }\n",
       "\n",
       "    .dataframe thead th {\n",
       "        text-align: right;\n",
       "    }\n",
       "</style>\n",
       "<table border=\"1\" class=\"dataframe\">\n",
       "  <thead>\n",
       "    <tr style=\"text-align: right;\">\n",
       "      <th></th>\n",
       "      <th>ID</th>\n",
       "      <th>Gender</th>\n",
       "      <th>Text</th>\n",
       "      <th>play_name</th>\n",
       "      <th>t_clean</th>\n",
       "      <th>clean_len</th>\n",
       "    </tr>\n",
       "  </thead>\n",
       "  <tbody>\n",
       "    <tr>\n",
       "      <th>0</th>\n",
       "      <td>yakov</td>\n",
       "      <td>0</td>\n",
       "      <td>Что задумались, Василиса Петровна? Я пришел.\\n...</td>\n",
       "      <td>andreyev-ne-ubiy</td>\n",
       "      <td>что задумались василиса петровна я пришел ну д...</td>\n",
       "      <td>2713</td>\n",
       "    </tr>\n",
       "    <tr>\n",
       "      <th>1</th>\n",
       "      <td>kulabukhov</td>\n",
       "      <td>0</td>\n",
       "      <td>Ага! Так, так! Салон и разговоры, свет и общес...</td>\n",
       "      <td>andreyev-ne-ubiy</td>\n",
       "      <td>ага так так салон и разговоры свет и общество ...</td>\n",
       "      <td>824</td>\n",
       "    </tr>\n",
       "    <tr>\n",
       "      <th>2</th>\n",
       "      <td>feofan</td>\n",
       "      <td>0</td>\n",
       "      <td>Мир вам, братие и сестры. Где тут сидение покр...</td>\n",
       "      <td>andreyev-ne-ubiy</td>\n",
       "      <td>мир вам братие и сестры где тут сидение покреп...</td>\n",
       "      <td>1310</td>\n",
       "    </tr>\n",
       "    <tr>\n",
       "      <th>3</th>\n",
       "      <td>gost</td>\n",
       "      <td>0</td>\n",
       "      <td>До свидания. Так я буду в надежде получить от ...</td>\n",
       "      <td>andreyev-ne-ubiy</td>\n",
       "      <td>до свидания так я буду в надежде получить от м...</td>\n",
       "      <td>210</td>\n",
       "    </tr>\n",
       "    <tr>\n",
       "      <th>4</th>\n",
       "      <td>zaychikov</td>\n",
       "      <td>0</td>\n",
       "      <td>Позвольте представиться: бывший антрепренер, И...</td>\n",
       "      <td>andreyev-ne-ubiy</td>\n",
       "      <td>позвольте представиться бывший антрепренер ива...</td>\n",
       "      <td>2740</td>\n",
       "    </tr>\n",
       "  </tbody>\n",
       "</table>\n",
       "</div>"
      ],
      "text/plain": [
       "           ID  Gender                                               Text  \\\n",
       "0       yakov       0  Что задумались, Василиса Петровна? Я пришел.\\n...   \n",
       "1  kulabukhov       0  Ага! Так, так! Салон и разговоры, свет и общес...   \n",
       "2      feofan       0  Мир вам, братие и сестры. Где тут сидение покр...   \n",
       "3        gost       0  До свидания. Так я буду в надежде получить от ...   \n",
       "4   zaychikov       0  Позвольте представиться: бывший антрепренер, И...   \n",
       "\n",
       "          play_name                                            t_clean  \\\n",
       "0  andreyev-ne-ubiy  что задумались василиса петровна я пришел ну д...   \n",
       "1  andreyev-ne-ubiy  ага так так салон и разговоры свет и общество ...   \n",
       "2  andreyev-ne-ubiy  мир вам братие и сестры где тут сидение покреп...   \n",
       "3  andreyev-ne-ubiy  до свидания так я буду в надежде получить от м...   \n",
       "4  andreyev-ne-ubiy  позвольте представиться бывший антрепренер ива...   \n",
       "\n",
       "   clean_len  \n",
       "0       2713  \n",
       "1        824  \n",
       "2       1310  \n",
       "3        210  \n",
       "4       2740  "
      ]
     },
     "execution_count": 4,
     "metadata": {},
     "output_type": "execute_result"
    }
   ],
   "source": [
    "df_male.head() #having a look at the first male rows"
   ]
  },
  {
   "cell_type": "markdown",
   "metadata": {},
   "source": [
    "## 3. Get rid of NaNs and 0s"
   ]
  },
  {
   "cell_type": "markdown",
   "metadata": {},
   "source": [
    "Next I sugest we check the data for NaNs and 0s."
   ]
  },
  {
   "cell_type": "code",
   "execution_count": null,
   "metadata": {},
   "outputs": [],
   "source": [
    "df_fem.isna().sum() #checking the female df for NaNs"
   ]
  },
  {
   "cell_type": "markdown",
   "metadata": {},
   "source": [
    "None found! Let us look at the male dataframe."
   ]
  },
  {
   "cell_type": "code",
   "execution_count": 30,
   "metadata": {},
   "outputs": [
    {
     "data": {
      "text/plain": [
       "ID           0\n",
       "Gender       0\n",
       "Text         0\n",
       "play_name    0\n",
       "t_clean      2\n",
       "clean_len    0\n",
       "dtype: int64"
      ]
     },
     "execution_count": 30,
     "metadata": {},
     "output_type": "execute_result"
    }
   ],
   "source": [
    "df_male.isna().sum() #checking the male df for NaNs"
   ]
  },
  {
   "cell_type": "markdown",
   "metadata": {},
   "source": [
    "Here are two rows with NaN values in the 't_clean' column. However, the 'Text' values of these rows seem to be filled. Let us check what is going on."
   ]
  },
  {
   "cell_type": "code",
   "execution_count": 27,
   "metadata": {},
   "outputs": [],
   "source": [
    "df_male_nans = df_male[df_male.isna().any(axis=1)] #a new df that only contains rows with NaNs from df_male"
   ]
  },
  {
   "cell_type": "code",
   "execution_count": 28,
   "metadata": {},
   "outputs": [
    {
     "data": {
      "text/html": [
       "<div>\n",
       "<style scoped>\n",
       "    .dataframe tbody tr th:only-of-type {\n",
       "        vertical-align: middle;\n",
       "    }\n",
       "\n",
       "    .dataframe tbody tr th {\n",
       "        vertical-align: top;\n",
       "    }\n",
       "\n",
       "    .dataframe thead th {\n",
       "        text-align: right;\n",
       "    }\n",
       "</style>\n",
       "<table border=\"1\" class=\"dataframe\">\n",
       "  <thead>\n",
       "    <tr style=\"text-align: right;\">\n",
       "      <th></th>\n",
       "      <th>ID</th>\n",
       "      <th>Gender</th>\n",
       "      <th>Text</th>\n",
       "      <th>play_name</th>\n",
       "      <th>t_clean</th>\n",
       "      <th>clean_len</th>\n",
       "    </tr>\n",
       "  </thead>\n",
       "  <tbody>\n",
       "    <tr>\n",
       "      <th>337</th>\n",
       "      <td>Vrach</td>\n",
       "      <td>0</td>\n",
       "      <td>Fertig.</td>\n",
       "      <td>bulgakov-dni-turbinyh</td>\n",
       "      <td>NaN</td>\n",
       "      <td>0</td>\n",
       "    </tr>\n",
       "    <tr>\n",
       "      <th>1116</th>\n",
       "      <td>pervyj_vrach</td>\n",
       "      <td>0</td>\n",
       "      <td>36,1.</td>\n",
       "      <td>mayakovsky-klop</td>\n",
       "      <td>NaN</td>\n",
       "      <td>0</td>\n",
       "    </tr>\n",
       "  </tbody>\n",
       "</table>\n",
       "</div>"
      ],
      "text/plain": [
       "                ID  Gender     Text              play_name t_clean  clean_len\n",
       "337          Vrach       0  Fertig.  bulgakov-dni-turbinyh     NaN          0\n",
       "1116  pervyj_vrach       0    36,1.        mayakovsky-klop     NaN          0"
      ]
     },
     "execution_count": 28,
     "metadata": {},
     "output_type": "execute_result"
    }
   ],
   "source": [
    "df_male_nans #see what is there"
   ]
  },
  {
   "cell_type": "markdown",
   "metadata": {},
   "source": [
    "Clearly, the text became NaN after cleaning, because all the characters are non-cyrillic. We left only cyrillic characters in the t_clean column. Latin characters, numbers and punctuation was eliminated."
   ]
  },
  {
   "cell_type": "markdown",
   "metadata": {},
   "source": [
    "Are all the clean_len values above 0 in both dataframes? (the .isna() function from above only detects na-values, but not zeros)"
   ]
  },
  {
   "cell_type": "code",
   "execution_count": 36,
   "metadata": {},
   "outputs": [
    {
     "data": {
      "text/plain": [
       "0"
      ]
     },
     "execution_count": 36,
     "metadata": {},
     "output_type": "execute_result"
    }
   ],
   "source": [
    "df_fem['clean_len'].isin([0]).sum() #cheking if all the clean female text contains at least one word"
   ]
  },
  {
   "cell_type": "markdown",
   "metadata": {},
   "source": [
    "Everything is fine so far."
   ]
  },
  {
   "cell_type": "code",
   "execution_count": 5,
   "metadata": {},
   "outputs": [
    {
     "data": {
      "text/plain": [
       "14"
      ]
     },
     "execution_count": 5,
     "metadata": {},
     "output_type": "execute_result"
    }
   ],
   "source": [
    "df_male['clean_len'].isin([0]).sum() #cheking if all the clean male text contains at least one word"
   ]
  },
  {
   "cell_type": "markdown",
   "metadata": {},
   "source": [
    "Let us check the details."
   ]
  },
  {
   "cell_type": "code",
   "execution_count": 9,
   "metadata": {},
   "outputs": [],
   "source": [
    "df_male_zeros = df_male[df_male['clean_len'].isin([0])] #a new df that only contains zeroes from df_male"
   ]
  },
  {
   "cell_type": "code",
   "execution_count": 10,
   "metadata": {},
   "outputs": [
    {
     "data": {
      "text/html": [
       "<div>\n",
       "<style scoped>\n",
       "    .dataframe tbody tr th:only-of-type {\n",
       "        vertical-align: middle;\n",
       "    }\n",
       "\n",
       "    .dataframe tbody tr th {\n",
       "        vertical-align: top;\n",
       "    }\n",
       "\n",
       "    .dataframe thead th {\n",
       "        text-align: right;\n",
       "    }\n",
       "</style>\n",
       "<table border=\"1\" class=\"dataframe\">\n",
       "  <thead>\n",
       "    <tr style=\"text-align: right;\">\n",
       "      <th></th>\n",
       "      <th>ID</th>\n",
       "      <th>Gender</th>\n",
       "      <th>Text</th>\n",
       "      <th>play_name</th>\n",
       "      <th>t_clean</th>\n",
       "      <th>clean_len</th>\n",
       "    </tr>\n",
       "  </thead>\n",
       "  <tbody>\n",
       "    <tr>\n",
       "      <th>189</th>\n",
       "      <td>berte</td>\n",
       "      <td>0</td>\n",
       "      <td>Un cosaque de Platow...\\nTres intelligent et b...</td>\n",
       "      <td>bulgakov-vojna-i-mir</td>\n",
       "      <td></td>\n",
       "      <td>0</td>\n",
       "    </tr>\n",
       "    <tr>\n",
       "      <th>223</th>\n",
       "      <td>morel</td>\n",
       "      <td>0</td>\n",
       "      <td>Capitaine, ils ont de la soupe et du gigot de ...</td>\n",
       "      <td>bulgakov-vojna-i-mir</td>\n",
       "      <td></td>\n",
       "      <td>0</td>\n",
       "    </tr>\n",
       "    <tr>\n",
       "      <th>225</th>\n",
       "      <td>malenkij_maroder</td>\n",
       "      <td>0</td>\n",
       "      <td>Voyons, pas de betises!</td>\n",
       "      <td>bulgakov-vojna-i-mir</td>\n",
       "      <td></td>\n",
       "      <td>0</td>\n",
       "    </tr>\n",
       "    <tr>\n",
       "      <th>226</th>\n",
       "      <td>ulan</td>\n",
       "      <td>0</td>\n",
       "      <td>Il a un poignard, lieutenant.</td>\n",
       "      <td>bulgakov-vojna-i-mir</td>\n",
       "      <td></td>\n",
       "      <td>0</td>\n",
       "    </tr>\n",
       "    <tr>\n",
       "      <th>235</th>\n",
       "      <td>boss</td>\n",
       "      <td>0</td>\n",
       "      <td>Merci, monsieur!</td>\n",
       "      <td>bulgakov-vojna-i-mir</td>\n",
       "      <td></td>\n",
       "      <td>0</td>\n",
       "    </tr>\n",
       "    <tr>\n",
       "      <th>263</th>\n",
       "      <td>voroncov</td>\n",
       "      <td>0</td>\n",
       "      <td>Votre Majesté Impériale!..</td>\n",
       "      <td>bulgakov-poslednie-dni</td>\n",
       "      <td></td>\n",
       "      <td>0</td>\n",
       "    </tr>\n",
       "    <tr>\n",
       "      <th>337</th>\n",
       "      <td>Vrach</td>\n",
       "      <td>0</td>\n",
       "      <td>Fertig.</td>\n",
       "      <td>bulgakov-dni-turbinyh</td>\n",
       "      <td>NaN</td>\n",
       "      <td>0</td>\n",
       "    </tr>\n",
       "    <tr>\n",
       "      <th>905</th>\n",
       "      <td>gost_2d</td>\n",
       "      <td>0</td>\n",
       "      <td>C'est une coquette. —</td>\n",
       "      <td>lermontov-strannyj-chelovek</td>\n",
       "      <td></td>\n",
       "      <td>0</td>\n",
       "    </tr>\n",
       "    <tr>\n",
       "      <th>1116</th>\n",
       "      <td>pervyj_vrach</td>\n",
       "      <td>0</td>\n",
       "      <td>36,1.</td>\n",
       "      <td>mayakovsky-klop</td>\n",
       "      <td>NaN</td>\n",
       "      <td>0</td>\n",
       "    </tr>\n",
       "    <tr>\n",
       "      <th>1544</th>\n",
       "      <td>nemtsy</td>\n",
       "      <td>0</td>\n",
       "      <td>Vivat! hoch! hoch!</td>\n",
       "      <td>ostrovsky-dmitrij-samozvanets-i-vasilij-shujskij</td>\n",
       "      <td></td>\n",
       "      <td>0</td>\n",
       "    </tr>\n",
       "    <tr>\n",
       "      <th>1805</th>\n",
       "      <td>v_rozen</td>\n",
       "      <td>0</td>\n",
       "      <td>Es ist Schande.\\nSie haben Recht.\\nJa.\\nIch gl...</td>\n",
       "      <td>pushkin-boris-godunov</td>\n",
       "      <td></td>\n",
       "      <td>0</td>\n",
       "    </tr>\n",
       "    <tr>\n",
       "      <th>1806</th>\n",
       "      <td>nemtsy</td>\n",
       "      <td>0</td>\n",
       "      <td>Hilf Gott!</td>\n",
       "      <td>pushkin-boris-godunov</td>\n",
       "      <td></td>\n",
       "      <td>0</td>\n",
       "    </tr>\n",
       "    <tr>\n",
       "      <th>2283</th>\n",
       "      <td>sluga</td>\n",
       "      <td>0</td>\n",
       "      <td>'Celenza comanda?\\n'Celenza, jé… moua… héhé…\\n...</td>\n",
       "      <td>turgenev-vecher-v-sorrente</td>\n",
       "      <td></td>\n",
       "      <td>0</td>\n",
       "    </tr>\n",
       "    <tr>\n",
       "      <th>2284</th>\n",
       "      <td>mr_popelin</td>\n",
       "      <td>0</td>\n",
       "      <td>Pardon, Monsieur...\\nPardon, c'est ici que dem...</td>\n",
       "      <td>turgenev-vecher-v-sorrente</td>\n",
       "      <td>...</td>\n",
       "      <td>0</td>\n",
       "    </tr>\n",
       "  </tbody>\n",
       "</table>\n",
       "</div>"
      ],
      "text/plain": [
       "                    ID  Gender  \\\n",
       "189              berte       0   \n",
       "223              morel       0   \n",
       "225   malenkij_maroder       0   \n",
       "226               ulan       0   \n",
       "235               boss       0   \n",
       "263           voroncov       0   \n",
       "337              Vrach       0   \n",
       "905            gost_2d       0   \n",
       "1116      pervyj_vrach       0   \n",
       "1544            nemtsy       0   \n",
       "1805           v_rozen       0   \n",
       "1806            nemtsy       0   \n",
       "2283             sluga       0   \n",
       "2284        mr_popelin       0   \n",
       "\n",
       "                                                   Text  \\\n",
       "189   Un cosaque de Platow...\\nTres intelligent et b...   \n",
       "223   Capitaine, ils ont de la soupe et du gigot de ...   \n",
       "225                             Voyons, pas de betises!   \n",
       "226                       Il a un poignard, lieutenant.   \n",
       "235                                    Merci, monsieur!   \n",
       "263                          Votre Majesté Impériale!..   \n",
       "337                                             Fertig.   \n",
       "905                               C'est une coquette. —   \n",
       "1116                                              36,1.   \n",
       "1544                                 Vivat! hoch! hoch!   \n",
       "1805  Es ist Schande.\\nSie haben Recht.\\nJa.\\nIch gl...   \n",
       "1806                                         Hilf Gott!   \n",
       "2283  'Celenza comanda?\\n'Celenza, jé… moua… héhé…\\n...   \n",
       "2284  Pardon, Monsieur...\\nPardon, c'est ici que dem...   \n",
       "\n",
       "                                             play_name  \\\n",
       "189                               bulgakov-vojna-i-mir   \n",
       "223                               bulgakov-vojna-i-mir   \n",
       "225                               bulgakov-vojna-i-mir   \n",
       "226                               bulgakov-vojna-i-mir   \n",
       "235                               bulgakov-vojna-i-mir   \n",
       "263                             bulgakov-poslednie-dni   \n",
       "337                              bulgakov-dni-turbinyh   \n",
       "905                        lermontov-strannyj-chelovek   \n",
       "1116                                   mayakovsky-klop   \n",
       "1544  ostrovsky-dmitrij-samozvanets-i-vasilij-shujskij   \n",
       "1805                             pushkin-boris-godunov   \n",
       "1806                             pushkin-boris-godunov   \n",
       "2283                        turgenev-vecher-v-sorrente   \n",
       "2284                        turgenev-vecher-v-sorrente   \n",
       "\n",
       "                                                t_clean  clean_len  \n",
       "189                                                              0  \n",
       "223                                                              0  \n",
       "225                                                              0  \n",
       "226                                                              0  \n",
       "235                                                              0  \n",
       "263                                                              0  \n",
       "337                                                 NaN          0  \n",
       "905                                                              0  \n",
       "1116                                                NaN          0  \n",
       "1544                                                             0  \n",
       "1805                                                             0  \n",
       "1806                                                             0  \n",
       "2283                                                             0  \n",
       "2284                                                ...          0  "
      ]
     },
     "execution_count": 10,
     "metadata": {},
     "output_type": "execute_result"
    }
   ],
   "source": [
    "df_male_zeros #see what is there"
   ]
  },
  {
   "cell_type": "markdown",
   "metadata": {},
   "source": [
    "Here we see similar situation, our NaNs are also here. All the deleted text in non-cyrillic.\n",
    "\n",
    "The difference is that before we checked for NaNs in all the data frame. However we only checked the column 'clean_len' for zeroes. We have plenty of them in the 'Gender' column."
   ]
  },
  {
   "cell_type": "markdown",
   "metadata": {},
   "source": [
    "Let us get rid of all these rows."
   ]
  },
  {
   "cell_type": "code",
   "execution_count": 11,
   "metadata": {},
   "outputs": [],
   "source": [
    "df_male = df_male.query('clean_len > 0') #leave rows with clean_len more than 0"
   ]
  },
  {
   "cell_type": "code",
   "execution_count": 12,
   "metadata": {},
   "outputs": [
    {
     "data": {
      "text/plain": [
       "0"
      ]
     },
     "execution_count": 12,
     "metadata": {},
     "output_type": "execute_result"
    }
   ],
   "source": [
    "df_male['clean_len'].isin([0]).sum() #see if it worked"
   ]
  },
  {
   "cell_type": "markdown",
   "metadata": {},
   "source": [
    "Yup it did!"
   ]
  },
  {
   "cell_type": "markdown",
   "metadata": {},
   "source": [
    "## 4. Create files for Stylo"
   ]
  },
  {
   "cell_type": "markdown",
   "metadata": {},
   "source": [
    "I would like to compose two .txt files for each play with all the character speech as a single entity, one file with all the male and another with all the female speech. "
   ]
  },
  {
   "cell_type": "markdown",
   "metadata": {},
   "source": [
    "The function below extracts speech by gender from each play in .txt format and puts it into a fem or male folder. It takes a df (either df_male or df_fem in our case) and a gender variable in string format.\n",
    "\n",
    "First, we would need all the play names in order to extract data from our DFs. Then a cycle runs throug the list of play names. There is a query constructed for each play. In the next row this query is used to create a new df out of the one we passed to the function. This new df contains (fe)male speech from a single play. Later all the text is concatenated into a single string and is saved into a txt file, named after the play and gender of the characters we used."
   ]
  },
  {
   "cell_type": "code",
   "execution_count": 45,
   "metadata": {},
   "outputs": [],
   "source": [
    "def gender_speech_by_play_to_txt(df, gender):\n",
    "    \n",
    "    play_names = df['play_name'].unique()             #unique play names \n",
    "    play_names = list(play_names)                     #turn a NumPy array into a list\n",
    "    \n",
    "    for idx, name in enumerate(play_names):\n",
    "        \n",
    "        #iterate through the play names\n",
    "        \n",
    "        query = 'play_name == \"' + name + '\"'         #create a query\n",
    "        new_df = df.query(query)                      #new df with text from only one play\n",
    "        concat_speech = new_df['t_clean'].str.cat()   #all the text into one string\n",
    "        \n",
    "        \n",
    "        #create the file name\n",
    "        file_name = 'for_stylo/' + gender + '/' + name + '_' + gender + '.txt'\n",
    "        \n",
    "        with open(file_name, 'w') as file:\n",
    "            \n",
    "            #save text into a .txt\n",
    "            file.write(concat_speech)\n",
    "    \n",
    "    "
   ]
  },
  {
   "cell_type": "code",
   "execution_count": 42,
   "metadata": {},
   "outputs": [],
   "source": [
    "gender_speech_by_play_to_txt(df_fem, 'fem') #run function for the female dataframe"
   ]
  },
  {
   "cell_type": "code",
   "execution_count": 43,
   "metadata": {},
   "outputs": [],
   "source": [
    "gender_speech_by_play_to_txt(df_male, 'male') ##run function for the male dataframe"
   ]
  }
 ],
 "metadata": {
  "kernelspec": {
   "display_name": "Python 3",
   "language": "python",
   "name": "python3"
  },
  "language_info": {
   "codemirror_mode": {
    "name": "ipython",
    "version": 3
   },
   "file_extension": ".py",
   "mimetype": "text/x-python",
   "name": "python",
   "nbconvert_exporter": "python",
   "pygments_lexer": "ipython3",
   "version": "3.6.8"
  }
 },
 "nbformat": 4,
 "nbformat_minor": 2
}
